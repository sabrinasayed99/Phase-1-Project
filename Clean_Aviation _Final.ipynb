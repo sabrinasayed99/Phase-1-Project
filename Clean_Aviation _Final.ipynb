{
 "cells": [
  {
   "cell_type": "code",
   "execution_count": 2,
   "id": "4787e0fe-64c8-4304-b10a-85935d3ad759",
   "metadata": {},
   "outputs": [],
   "source": [
    "import pandas as pd\n",
    "import numpy as np\n",
    "import matplotlib.pyplot as plt\n",
    "\n",
    "import seaborn as sns"
   ]
  },
  {
   "cell_type": "markdown",
   "id": "4a03353e",
   "metadata": {},
   "source": [
    "First, we load in our dataset"
   ]
  },
  {
   "cell_type": "code",
   "execution_count": 3,
   "id": "19abf858-6596-4675-aa90-19765dea72f9",
   "metadata": {},
   "outputs": [
    {
     "data": {
      "text/html": [
       "<div>\n",
       "<style scoped>\n",
       "    .dataframe tbody tr th:only-of-type {\n",
       "        vertical-align: middle;\n",
       "    }\n",
       "\n",
       "    .dataframe tbody tr th {\n",
       "        vertical-align: top;\n",
       "    }\n",
       "\n",
       "    .dataframe thead th {\n",
       "        text-align: right;\n",
       "    }\n",
       "</style>\n",
       "<table border=\"1\" class=\"dataframe\">\n",
       "  <thead>\n",
       "    <tr style=\"text-align: right;\">\n",
       "      <th></th>\n",
       "      <th>Event.Id</th>\n",
       "      <th>Investigation.Type</th>\n",
       "      <th>Accident.Number</th>\n",
       "      <th>Event.Date</th>\n",
       "      <th>Location</th>\n",
       "      <th>Country</th>\n",
       "      <th>Latitude</th>\n",
       "      <th>Longitude</th>\n",
       "      <th>Airport.Code</th>\n",
       "      <th>Airport.Name</th>\n",
       "      <th>...</th>\n",
       "      <th>Purpose.of.flight</th>\n",
       "      <th>Air.carrier</th>\n",
       "      <th>Total.Fatal.Injuries</th>\n",
       "      <th>Total.Serious.Injuries</th>\n",
       "      <th>Total.Minor.Injuries</th>\n",
       "      <th>Total.Uninjured</th>\n",
       "      <th>Weather.Condition</th>\n",
       "      <th>Broad.phase.of.flight</th>\n",
       "      <th>Report.Status</th>\n",
       "      <th>Publication.Date</th>\n",
       "    </tr>\n",
       "  </thead>\n",
       "  <tbody>\n",
       "    <tr>\n",
       "      <th>0</th>\n",
       "      <td>20001218X45444</td>\n",
       "      <td>Accident</td>\n",
       "      <td>SEA87LA080</td>\n",
       "      <td>1948-10-24</td>\n",
       "      <td>MOOSE CREEK, ID</td>\n",
       "      <td>United States</td>\n",
       "      <td>NaN</td>\n",
       "      <td>NaN</td>\n",
       "      <td>NaN</td>\n",
       "      <td>NaN</td>\n",
       "      <td>...</td>\n",
       "      <td>Personal</td>\n",
       "      <td>NaN</td>\n",
       "      <td>2.0</td>\n",
       "      <td>0.0</td>\n",
       "      <td>0.0</td>\n",
       "      <td>0.0</td>\n",
       "      <td>UNK</td>\n",
       "      <td>Cruise</td>\n",
       "      <td>Probable Cause</td>\n",
       "      <td>NaN</td>\n",
       "    </tr>\n",
       "    <tr>\n",
       "      <th>1</th>\n",
       "      <td>20001218X45447</td>\n",
       "      <td>Accident</td>\n",
       "      <td>LAX94LA336</td>\n",
       "      <td>1962-07-19</td>\n",
       "      <td>BRIDGEPORT, CA</td>\n",
       "      <td>United States</td>\n",
       "      <td>NaN</td>\n",
       "      <td>NaN</td>\n",
       "      <td>NaN</td>\n",
       "      <td>NaN</td>\n",
       "      <td>...</td>\n",
       "      <td>Personal</td>\n",
       "      <td>NaN</td>\n",
       "      <td>4.0</td>\n",
       "      <td>0.0</td>\n",
       "      <td>0.0</td>\n",
       "      <td>0.0</td>\n",
       "      <td>UNK</td>\n",
       "      <td>Unknown</td>\n",
       "      <td>Probable Cause</td>\n",
       "      <td>19-09-1996</td>\n",
       "    </tr>\n",
       "    <tr>\n",
       "      <th>2</th>\n",
       "      <td>20061025X01555</td>\n",
       "      <td>Accident</td>\n",
       "      <td>NYC07LA005</td>\n",
       "      <td>1974-08-30</td>\n",
       "      <td>Saltville, VA</td>\n",
       "      <td>United States</td>\n",
       "      <td>36.922223</td>\n",
       "      <td>-81.878056</td>\n",
       "      <td>NaN</td>\n",
       "      <td>NaN</td>\n",
       "      <td>...</td>\n",
       "      <td>Personal</td>\n",
       "      <td>NaN</td>\n",
       "      <td>3.0</td>\n",
       "      <td>NaN</td>\n",
       "      <td>NaN</td>\n",
       "      <td>NaN</td>\n",
       "      <td>IMC</td>\n",
       "      <td>Cruise</td>\n",
       "      <td>Probable Cause</td>\n",
       "      <td>26-02-2007</td>\n",
       "    </tr>\n",
       "    <tr>\n",
       "      <th>3</th>\n",
       "      <td>20001218X45448</td>\n",
       "      <td>Accident</td>\n",
       "      <td>LAX96LA321</td>\n",
       "      <td>1977-06-19</td>\n",
       "      <td>EUREKA, CA</td>\n",
       "      <td>United States</td>\n",
       "      <td>NaN</td>\n",
       "      <td>NaN</td>\n",
       "      <td>NaN</td>\n",
       "      <td>NaN</td>\n",
       "      <td>...</td>\n",
       "      <td>Personal</td>\n",
       "      <td>NaN</td>\n",
       "      <td>2.0</td>\n",
       "      <td>0.0</td>\n",
       "      <td>0.0</td>\n",
       "      <td>0.0</td>\n",
       "      <td>IMC</td>\n",
       "      <td>Cruise</td>\n",
       "      <td>Probable Cause</td>\n",
       "      <td>12-09-2000</td>\n",
       "    </tr>\n",
       "    <tr>\n",
       "      <th>4</th>\n",
       "      <td>20041105X01764</td>\n",
       "      <td>Accident</td>\n",
       "      <td>CHI79FA064</td>\n",
       "      <td>1979-08-02</td>\n",
       "      <td>Canton, OH</td>\n",
       "      <td>United States</td>\n",
       "      <td>NaN</td>\n",
       "      <td>NaN</td>\n",
       "      <td>NaN</td>\n",
       "      <td>NaN</td>\n",
       "      <td>...</td>\n",
       "      <td>Personal</td>\n",
       "      <td>NaN</td>\n",
       "      <td>1.0</td>\n",
       "      <td>2.0</td>\n",
       "      <td>NaN</td>\n",
       "      <td>0.0</td>\n",
       "      <td>VMC</td>\n",
       "      <td>Approach</td>\n",
       "      <td>Probable Cause</td>\n",
       "      <td>16-04-1980</td>\n",
       "    </tr>\n",
       "    <tr>\n",
       "      <th>...</th>\n",
       "      <td>...</td>\n",
       "      <td>...</td>\n",
       "      <td>...</td>\n",
       "      <td>...</td>\n",
       "      <td>...</td>\n",
       "      <td>...</td>\n",
       "      <td>...</td>\n",
       "      <td>...</td>\n",
       "      <td>...</td>\n",
       "      <td>...</td>\n",
       "      <td>...</td>\n",
       "      <td>...</td>\n",
       "      <td>...</td>\n",
       "      <td>...</td>\n",
       "      <td>...</td>\n",
       "      <td>...</td>\n",
       "      <td>...</td>\n",
       "      <td>...</td>\n",
       "      <td>...</td>\n",
       "      <td>...</td>\n",
       "      <td>...</td>\n",
       "    </tr>\n",
       "    <tr>\n",
       "      <th>88884</th>\n",
       "      <td>20221227106491</td>\n",
       "      <td>Accident</td>\n",
       "      <td>ERA23LA093</td>\n",
       "      <td>2022-12-26</td>\n",
       "      <td>Annapolis, MD</td>\n",
       "      <td>United States</td>\n",
       "      <td>NaN</td>\n",
       "      <td>NaN</td>\n",
       "      <td>NaN</td>\n",
       "      <td>NaN</td>\n",
       "      <td>...</td>\n",
       "      <td>Personal</td>\n",
       "      <td>NaN</td>\n",
       "      <td>0.0</td>\n",
       "      <td>1.0</td>\n",
       "      <td>0.0</td>\n",
       "      <td>0.0</td>\n",
       "      <td>NaN</td>\n",
       "      <td>NaN</td>\n",
       "      <td>NaN</td>\n",
       "      <td>29-12-2022</td>\n",
       "    </tr>\n",
       "    <tr>\n",
       "      <th>88885</th>\n",
       "      <td>20221227106494</td>\n",
       "      <td>Accident</td>\n",
       "      <td>ERA23LA095</td>\n",
       "      <td>2022-12-26</td>\n",
       "      <td>Hampton, NH</td>\n",
       "      <td>United States</td>\n",
       "      <td>NaN</td>\n",
       "      <td>NaN</td>\n",
       "      <td>NaN</td>\n",
       "      <td>NaN</td>\n",
       "      <td>...</td>\n",
       "      <td>NaN</td>\n",
       "      <td>NaN</td>\n",
       "      <td>0.0</td>\n",
       "      <td>0.0</td>\n",
       "      <td>0.0</td>\n",
       "      <td>0.0</td>\n",
       "      <td>NaN</td>\n",
       "      <td>NaN</td>\n",
       "      <td>NaN</td>\n",
       "      <td>NaN</td>\n",
       "    </tr>\n",
       "    <tr>\n",
       "      <th>88886</th>\n",
       "      <td>20221227106497</td>\n",
       "      <td>Accident</td>\n",
       "      <td>WPR23LA075</td>\n",
       "      <td>2022-12-26</td>\n",
       "      <td>Payson, AZ</td>\n",
       "      <td>United States</td>\n",
       "      <td>341525N</td>\n",
       "      <td>1112021W</td>\n",
       "      <td>PAN</td>\n",
       "      <td>PAYSON</td>\n",
       "      <td>...</td>\n",
       "      <td>Personal</td>\n",
       "      <td>NaN</td>\n",
       "      <td>0.0</td>\n",
       "      <td>0.0</td>\n",
       "      <td>0.0</td>\n",
       "      <td>1.0</td>\n",
       "      <td>VMC</td>\n",
       "      <td>NaN</td>\n",
       "      <td>NaN</td>\n",
       "      <td>27-12-2022</td>\n",
       "    </tr>\n",
       "    <tr>\n",
       "      <th>88887</th>\n",
       "      <td>20221227106498</td>\n",
       "      <td>Accident</td>\n",
       "      <td>WPR23LA076</td>\n",
       "      <td>2022-12-26</td>\n",
       "      <td>Morgan, UT</td>\n",
       "      <td>United States</td>\n",
       "      <td>NaN</td>\n",
       "      <td>NaN</td>\n",
       "      <td>NaN</td>\n",
       "      <td>NaN</td>\n",
       "      <td>...</td>\n",
       "      <td>Personal</td>\n",
       "      <td>MC CESSNA 210N LLC</td>\n",
       "      <td>0.0</td>\n",
       "      <td>0.0</td>\n",
       "      <td>0.0</td>\n",
       "      <td>0.0</td>\n",
       "      <td>NaN</td>\n",
       "      <td>NaN</td>\n",
       "      <td>NaN</td>\n",
       "      <td>NaN</td>\n",
       "    </tr>\n",
       "    <tr>\n",
       "      <th>88888</th>\n",
       "      <td>20221230106513</td>\n",
       "      <td>Accident</td>\n",
       "      <td>ERA23LA097</td>\n",
       "      <td>2022-12-29</td>\n",
       "      <td>Athens, GA</td>\n",
       "      <td>United States</td>\n",
       "      <td>NaN</td>\n",
       "      <td>NaN</td>\n",
       "      <td>NaN</td>\n",
       "      <td>NaN</td>\n",
       "      <td>...</td>\n",
       "      <td>Personal</td>\n",
       "      <td>NaN</td>\n",
       "      <td>0.0</td>\n",
       "      <td>1.0</td>\n",
       "      <td>0.0</td>\n",
       "      <td>1.0</td>\n",
       "      <td>NaN</td>\n",
       "      <td>NaN</td>\n",
       "      <td>NaN</td>\n",
       "      <td>30-12-2022</td>\n",
       "    </tr>\n",
       "  </tbody>\n",
       "</table>\n",
       "<p>88889 rows × 31 columns</p>\n",
       "</div>"
      ],
      "text/plain": [
       "             Event.Id Investigation.Type Accident.Number  Event.Date  \\\n",
       "0      20001218X45444           Accident      SEA87LA080  1948-10-24   \n",
       "1      20001218X45447           Accident      LAX94LA336  1962-07-19   \n",
       "2      20061025X01555           Accident      NYC07LA005  1974-08-30   \n",
       "3      20001218X45448           Accident      LAX96LA321  1977-06-19   \n",
       "4      20041105X01764           Accident      CHI79FA064  1979-08-02   \n",
       "...               ...                ...             ...         ...   \n",
       "88884  20221227106491           Accident      ERA23LA093  2022-12-26   \n",
       "88885  20221227106494           Accident      ERA23LA095  2022-12-26   \n",
       "88886  20221227106497           Accident      WPR23LA075  2022-12-26   \n",
       "88887  20221227106498           Accident      WPR23LA076  2022-12-26   \n",
       "88888  20221230106513           Accident      ERA23LA097  2022-12-29   \n",
       "\n",
       "              Location        Country   Latitude   Longitude Airport.Code  \\\n",
       "0      MOOSE CREEK, ID  United States        NaN         NaN          NaN   \n",
       "1       BRIDGEPORT, CA  United States        NaN         NaN          NaN   \n",
       "2        Saltville, VA  United States  36.922223  -81.878056          NaN   \n",
       "3           EUREKA, CA  United States        NaN         NaN          NaN   \n",
       "4           Canton, OH  United States        NaN         NaN          NaN   \n",
       "...                ...            ...        ...         ...          ...   \n",
       "88884    Annapolis, MD  United States        NaN         NaN          NaN   \n",
       "88885      Hampton, NH  United States        NaN         NaN          NaN   \n",
       "88886       Payson, AZ  United States    341525N    1112021W          PAN   \n",
       "88887       Morgan, UT  United States        NaN         NaN          NaN   \n",
       "88888       Athens, GA  United States        NaN         NaN          NaN   \n",
       "\n",
       "      Airport.Name  ... Purpose.of.flight         Air.carrier  \\\n",
       "0              NaN  ...          Personal                 NaN   \n",
       "1              NaN  ...          Personal                 NaN   \n",
       "2              NaN  ...          Personal                 NaN   \n",
       "3              NaN  ...          Personal                 NaN   \n",
       "4              NaN  ...          Personal                 NaN   \n",
       "...            ...  ...               ...                 ...   \n",
       "88884          NaN  ...          Personal                 NaN   \n",
       "88885          NaN  ...               NaN                 NaN   \n",
       "88886       PAYSON  ...          Personal                 NaN   \n",
       "88887          NaN  ...          Personal  MC CESSNA 210N LLC   \n",
       "88888          NaN  ...          Personal                 NaN   \n",
       "\n",
       "      Total.Fatal.Injuries Total.Serious.Injuries Total.Minor.Injuries  \\\n",
       "0                      2.0                    0.0                  0.0   \n",
       "1                      4.0                    0.0                  0.0   \n",
       "2                      3.0                    NaN                  NaN   \n",
       "3                      2.0                    0.0                  0.0   \n",
       "4                      1.0                    2.0                  NaN   \n",
       "...                    ...                    ...                  ...   \n",
       "88884                  0.0                    1.0                  0.0   \n",
       "88885                  0.0                    0.0                  0.0   \n",
       "88886                  0.0                    0.0                  0.0   \n",
       "88887                  0.0                    0.0                  0.0   \n",
       "88888                  0.0                    1.0                  0.0   \n",
       "\n",
       "      Total.Uninjured Weather.Condition  Broad.phase.of.flight  \\\n",
       "0                 0.0               UNK                 Cruise   \n",
       "1                 0.0               UNK                Unknown   \n",
       "2                 NaN               IMC                 Cruise   \n",
       "3                 0.0               IMC                 Cruise   \n",
       "4                 0.0               VMC               Approach   \n",
       "...               ...               ...                    ...   \n",
       "88884             0.0               NaN                    NaN   \n",
       "88885             0.0               NaN                    NaN   \n",
       "88886             1.0               VMC                    NaN   \n",
       "88887             0.0               NaN                    NaN   \n",
       "88888             1.0               NaN                    NaN   \n",
       "\n",
       "        Report.Status Publication.Date  \n",
       "0      Probable Cause              NaN  \n",
       "1      Probable Cause       19-09-1996  \n",
       "2      Probable Cause       26-02-2007  \n",
       "3      Probable Cause       12-09-2000  \n",
       "4      Probable Cause       16-04-1980  \n",
       "...               ...              ...  \n",
       "88884             NaN       29-12-2022  \n",
       "88885             NaN              NaN  \n",
       "88886             NaN       27-12-2022  \n",
       "88887             NaN              NaN  \n",
       "88888             NaN       30-12-2022  \n",
       "\n",
       "[88889 rows x 31 columns]"
      ]
     },
     "execution_count": 3,
     "metadata": {},
     "output_type": "execute_result"
    }
   ],
   "source": [
    "df = pd. read_csv('AviationData.csv', encoding = 'latin1', low_memory = False)\n",
    "df"
   ]
  },
  {
   "cell_type": "markdown",
   "id": "e49397bd",
   "metadata": {},
   "source": [
    "Let's clean up any unnecessary punctuation, spaces, and fix capitalization for column names."
   ]
  },
  {
   "cell_type": "code",
   "execution_count": 4,
   "id": "77d122e0-a18c-4ed8-ac8a-b4f4f9710d47",
   "metadata": {},
   "outputs": [],
   "source": [
    "#Replace periods in all the column names\n",
    "df.columns = df.columns.str.replace('.', ' ', regex=False)"
   ]
  },
  {
   "cell_type": "code",
   "execution_count": 5,
   "id": "8814c5f3",
   "metadata": {},
   "outputs": [],
   "source": [
    "#Fixing the capitalization for column names\n",
    "df.columns = df.columns.str.title()"
   ]
  },
  {
   "cell_type": "code",
   "execution_count": 6,
   "id": "0e20ef40",
   "metadata": {},
   "outputs": [
    {
     "name": "stdout",
     "output_type": "stream",
     "text": [
      "<class 'pandas.core.frame.DataFrame'>\n",
      "RangeIndex: 88889 entries, 0 to 88888\n",
      "Data columns (total 31 columns):\n",
      " #   Column                  Non-Null Count  Dtype  \n",
      "---  ------                  --------------  -----  \n",
      " 0   Event Id                88889 non-null  object \n",
      " 1   Investigation Type      88889 non-null  object \n",
      " 2   Accident Number         88889 non-null  object \n",
      " 3   Event Date              88889 non-null  object \n",
      " 4   Location                88837 non-null  object \n",
      " 5   Country                 88663 non-null  object \n",
      " 6   Latitude                34382 non-null  object \n",
      " 7   Longitude               34373 non-null  object \n",
      " 8   Airport Code            50249 non-null  object \n",
      " 9   Airport Name            52790 non-null  object \n",
      " 10  Injury Severity         87889 non-null  object \n",
      " 11  Aircraft Damage         85695 non-null  object \n",
      " 12  Aircraft Category       32287 non-null  object \n",
      " 13  Registration Number     87572 non-null  object \n",
      " 14  Make                    88826 non-null  object \n",
      " 15  Model                   88797 non-null  object \n",
      " 16  Amateur Built           88787 non-null  object \n",
      " 17  Number Of Engines       82805 non-null  float64\n",
      " 18  Engine Type             81812 non-null  object \n",
      " 19  Far Description         32023 non-null  object \n",
      " 20  Schedule                12582 non-null  object \n",
      " 21  Purpose Of Flight       82697 non-null  object \n",
      " 22  Air Carrier             16648 non-null  object \n",
      " 23  Total Fatal Injuries    77488 non-null  float64\n",
      " 24  Total Serious Injuries  76379 non-null  float64\n",
      " 25  Total Minor Injuries    76956 non-null  float64\n",
      " 26  Total Uninjured         82977 non-null  float64\n",
      " 27  Weather Condition       84397 non-null  object \n",
      " 28  Broad Phase Of Flight   61724 non-null  object \n",
      " 29  Report Status           82508 non-null  object \n",
      " 30  Publication Date        75118 non-null  object \n",
      "dtypes: float64(5), object(26)\n",
      "memory usage: 21.0+ MB\n"
     ]
    }
   ],
   "source": [
    "df.info()"
   ]
  },
  {
   "cell_type": "markdown",
   "id": "947278f4",
   "metadata": {},
   "source": [
    "Let's start exploring each column to identify any duplicate values, missing values, and unnecessary columns/rows."
   ]
  },
  {
   "cell_type": "code",
   "execution_count": 7,
   "id": "6297f0c7",
   "metadata": {},
   "outputs": [
    {
     "data": {
      "text/plain": [
       "VMC    77303\n",
       "IMC     5976\n",
       "UNK      856\n",
       "Unk      262\n",
       "Name: Weather Condition, dtype: int64"
      ]
     },
     "execution_count": 7,
     "metadata": {},
     "output_type": "execute_result"
    }
   ],
   "source": [
    "df['Weather Condition'].value_counts()"
   ]
  },
  {
   "cell_type": "code",
   "execution_count": 8,
   "id": "da94e70e",
   "metadata": {},
   "outputs": [],
   "source": [
    "#There are two columns for unknowns. Let's consolidate into one.\n",
    "df['Weather Condition'] = df['Weather Condition'].str.replace('Unk','UNK')"
   ]
  },
  {
   "cell_type": "code",
   "execution_count": 9,
   "id": "53eeaa6d",
   "metadata": {},
   "outputs": [
    {
     "data": {
      "text/plain": [
       "VMC    77303\n",
       "IMC     5976\n",
       "UNK     1118\n",
       "Name: Weather Condition, dtype: int64"
      ]
     },
     "execution_count": 9,
     "metadata": {},
     "output_type": "execute_result"
    }
   ],
   "source": [
    "df['Weather Condition'].value_counts()"
   ]
  },
  {
   "cell_type": "code",
   "execution_count": 10,
   "id": "31a5c841",
   "metadata": {},
   "outputs": [],
   "source": [
    "# The publication date for these reports are not useful to us. The event date \n",
    "## is enough for us to track the times of these accidents.\n",
    "df = df.drop('Publication Date', axis = 1)"
   ]
  },
  {
   "cell_type": "code",
   "execution_count": 11,
   "id": "d4cf9bd6",
   "metadata": {},
   "outputs": [
    {
     "name": "stdout",
     "output_type": "stream",
     "text": [
      "<class 'pandas.core.frame.DataFrame'>\n",
      "RangeIndex: 88889 entries, 0 to 88888\n",
      "Data columns (total 30 columns):\n",
      " #   Column                  Non-Null Count  Dtype  \n",
      "---  ------                  --------------  -----  \n",
      " 0   Event Id                88889 non-null  object \n",
      " 1   Investigation Type      88889 non-null  object \n",
      " 2   Accident Number         88889 non-null  object \n",
      " 3   Event Date              88889 non-null  object \n",
      " 4   Location                88837 non-null  object \n",
      " 5   Country                 88663 non-null  object \n",
      " 6   Latitude                34382 non-null  object \n",
      " 7   Longitude               34373 non-null  object \n",
      " 8   Airport Code            50249 non-null  object \n",
      " 9   Airport Name            52790 non-null  object \n",
      " 10  Injury Severity         87889 non-null  object \n",
      " 11  Aircraft Damage         85695 non-null  object \n",
      " 12  Aircraft Category       32287 non-null  object \n",
      " 13  Registration Number     87572 non-null  object \n",
      " 14  Make                    88826 non-null  object \n",
      " 15  Model                   88797 non-null  object \n",
      " 16  Amateur Built           88787 non-null  object \n",
      " 17  Number Of Engines       82805 non-null  float64\n",
      " 18  Engine Type             81812 non-null  object \n",
      " 19  Far Description         32023 non-null  object \n",
      " 20  Schedule                12582 non-null  object \n",
      " 21  Purpose Of Flight       82697 non-null  object \n",
      " 22  Air Carrier             16648 non-null  object \n",
      " 23  Total Fatal Injuries    77488 non-null  float64\n",
      " 24  Total Serious Injuries  76379 non-null  float64\n",
      " 25  Total Minor Injuries    76956 non-null  float64\n",
      " 26  Total Uninjured         82977 non-null  float64\n",
      " 27  Weather Condition       84397 non-null  object \n",
      " 28  Broad Phase Of Flight   61724 non-null  object \n",
      " 29  Report Status           82508 non-null  object \n",
      "dtypes: float64(5), object(25)\n",
      "memory usage: 20.3+ MB\n"
     ]
    }
   ],
   "source": [
    "df.info()"
   ]
  },
  {
   "cell_type": "code",
   "execution_count": 12,
   "id": "51968764",
   "metadata": {},
   "outputs": [
    {
     "data": {
      "text/plain": [
       "NSCH    4474\n",
       "UNK     4099\n",
       "SCHD    4009\n",
       "Name: Schedule, dtype: int64"
      ]
     },
     "execution_count": 12,
     "metadata": {},
     "output_type": "execute_result"
    }
   ],
   "source": [
    "df['Schedule'].value_counts()"
   ]
  },
  {
   "cell_type": "code",
   "execution_count": 13,
   "id": "fa07a7b0",
   "metadata": {},
   "outputs": [],
   "source": [
    "# Since the schedule status for flights does not contribute anyway to safety\n",
    "## of flights we can drop this column.\n",
    "\n",
    "df = df.drop('Schedule', axis = 1)"
   ]
  },
  {
   "cell_type": "code",
   "execution_count": 14,
   "id": "5bd7b89e",
   "metadata": {},
   "outputs": [],
   "source": [
    "#We will be focusing on the make and model of each plane so we can do without\n",
    "#   knowing the Air Carriers.\n",
    "\n",
    "df = df.drop('Air Carrier', axis = 1)"
   ]
  },
  {
   "cell_type": "code",
   "execution_count": 15,
   "id": "a99cbda5",
   "metadata": {},
   "outputs": [
    {
     "data": {
      "text/plain": [
       "True     54516\n",
       "False    34373\n",
       "Name: Longitude, dtype: int64"
      ]
     },
     "execution_count": 15,
     "metadata": {},
     "output_type": "execute_result"
    }
   ],
   "source": [
    "# There's more missing values than existing values for the Latitude and Longitude columns\n",
    "## Since we have the cities, countries, and airports to pinpoint locations of flights,\n",
    "### let's get ride of these 2 columns.\n",
    "\n",
    "df['Latitude'].isna().value_counts()\n",
    "df['Longitude'].isna().value_counts()"
   ]
  },
  {
   "cell_type": "code",
   "execution_count": 16,
   "id": "3adc4199",
   "metadata": {},
   "outputs": [],
   "source": [
    "df = df.drop('Latitude', axis=1)\n",
    "df = df.drop('Longitude', axis=1)"
   ]
  },
  {
   "cell_type": "code",
   "execution_count": 17,
   "id": "950c01d0",
   "metadata": {},
   "outputs": [],
   "source": [
    "# Amateur Built aircrafts are homebuilt aircrafts or kit planes constructed by\n",
    "## individuals for personal use or education rather than professional activity.\n",
    "### We only want professionaly built aircrafts for our purposes, so we can get rid of any\n",
    "#### aircrafts that are Amateur Built.\n",
    "\n",
    "df = df.drop(df[df['Amateur Built'] == 'Yes'].index)"
   ]
  },
  {
   "cell_type": "code",
   "execution_count": 18,
   "id": "dabaed25",
   "metadata": {},
   "outputs": [
    {
     "name": "stdout",
     "output_type": "stream",
     "text": [
      "<class 'pandas.core.frame.DataFrame'>\n",
      "Int64Index: 80414 entries, 0 to 88888\n",
      "Data columns (total 26 columns):\n",
      " #   Column                  Non-Null Count  Dtype  \n",
      "---  ------                  --------------  -----  \n",
      " 0   Event Id                80414 non-null  object \n",
      " 1   Investigation Type      80414 non-null  object \n",
      " 2   Accident Number         80414 non-null  object \n",
      " 3   Event Date              80414 non-null  object \n",
      " 4   Location                80363 non-null  object \n",
      " 5   Country                 80194 non-null  object \n",
      " 6   Airport Code            45083 non-null  object \n",
      " 7   Airport Name            47411 non-null  object \n",
      " 8   Injury Severity         79415 non-null  object \n",
      " 9   Aircraft Damage         77249 non-null  object \n",
      " 10  Aircraft Category       28740 non-null  object \n",
      " 11  Registration Number     79134 non-null  object \n",
      " 12  Make                    80366 non-null  object \n",
      " 13  Model                   80345 non-null  object \n",
      " 14  Amateur Built           80312 non-null  object \n",
      " 15  Number Of Engines       74626 non-null  float64\n",
      " 16  Engine Type             73669 non-null  object \n",
      " 17  Far Description         28497 non-null  object \n",
      " 18  Purpose Of Flight       74278 non-null  object \n",
      " 19  Total Fatal Injuries    70189 non-null  float64\n",
      " 20  Total Serious Injuries  69239 non-null  float64\n",
      " 21  Total Minor Injuries    69762 non-null  float64\n",
      " 22  Total Uninjured         75457 non-null  float64\n",
      " 23  Weather Condition       76002 non-null  object \n",
      " 24  Broad Phase Of Flight   56165 non-null  object \n",
      " 25  Report Status           74381 non-null  object \n",
      "dtypes: float64(5), object(21)\n",
      "memory usage: 16.6+ MB\n"
     ]
    }
   ],
   "source": [
    "df.info()"
   ]
  },
  {
   "cell_type": "code",
   "execution_count": 19,
   "id": "fb5bf969",
   "metadata": {},
   "outputs": [
    {
     "data": {
      "text/plain": [
       "Reciprocating      61664\n",
       "Turbo Shaft         3581\n",
       "Turbo Prop          3314\n",
       "Turbo Fan           2474\n",
       "Unknown             1901\n",
       "Turbo Jet            690\n",
       "None                  18\n",
       "Geared Turbofan       12\n",
       "Electric              10\n",
       "LR                     2\n",
       "NONE                   1\n",
       "Hybrid Rocket          1\n",
       "UNK                    1\n",
       "Name: Engine Type, dtype: int64"
      ]
     },
     "execution_count": 19,
     "metadata": {},
     "output_type": "execute_result"
    }
   ],
   "source": [
    "df['Engine Type'].value_counts()"
   ]
  },
  {
   "cell_type": "markdown",
   "id": "5207446a",
   "metadata": {},
   "source": [
    "Let's take a deep dive into these engine types to figure out which engines are suitable for our corporate and business aviation purposes.\n",
    "\n",
    "1. Reciprocating (a.k.a. piston) engines are used for general aviation because they're affordable, robust, and have good fuel efficiency. They're also used for corporate aviation and are best for flying at lower altitudes. **We'll keep this one!**\n",
    "\n",
    "2. Turbo Shaft engines are used in helicopters and large commercial aircrafts. **We'll keep this!**\n",
    "\n",
    "3. Turbo Prop engines are a hybrid of piston and jet ingines that are used in light aircrafts. They're known for their fuel efficiency on short and medium-haul flights. They offer good performance at low altitudes and speeds, and are ideal fo take-off and landing operations at smaller airports. **We'll keep this!**\n",
    "\n",
    "4. Turbofan engines are commonly used in corporate aircrafts including light to mid-size business jets, and are generally popular for commercial aircrafts. They are known for being compact and fuel efficient. **We'll keep this!**\n",
    "\n",
    "5. Turbo Jet engines are commonly used in commercial aircrafts and private jets. They are capable of high speeds and take up little space. **We'll keep this!**\n",
    "\n",
    "6. Geared Turbo Fans are commonly used in commercial aircrafts, a sub-type of Turbofan engines. They are efficient with smaller and faster tubrines. **We'll keep this!**\n",
    "\n",
    "7. LR engines, or long range engines, are developed for ultra-long-haul routes such as from L.A. to Singapore. This will be useful for our executives. **We'll keep this!**\n",
    "\n",
    "8. Electric engines are relatively newer to the industry and are mainly used for training flights. They're not yet a common use for the commercial industry though many companies are working on and investing in building these aircrafts. We can drop these values and luckily there's only 10 values to drop. \n",
    "\n",
    "9. Hybrid rocket engines are used in rockets, so for obvious reasons we can drop that."
   ]
  },
  {
   "cell_type": "code",
   "execution_count": 20,
   "id": "b85fd5fd",
   "metadata": {},
   "outputs": [
    {
     "data": {
      "text/plain": [
       "Reciprocating      61664\n",
       "Turbo Shaft         3581\n",
       "Turbo Prop          3314\n",
       "Turbo Fan           2474\n",
       "Unknown             1901\n",
       "Turbo Jet            690\n",
       "None                  18\n",
       "Geared Turbofan       12\n",
       "LR                     2\n",
       "NONE                   1\n",
       "UNK                    1\n",
       "Name: Engine Type, dtype: int64"
      ]
     },
     "execution_count": 20,
     "metadata": {},
     "output_type": "execute_result"
    }
   ],
   "source": [
    "df.drop(df[df['Engine Type'] == 'Hybrid Rocket'].index, inplace = True)\n",
    "df.drop(df[df['Engine Type'] == 'Electric'].index, inplace = True)\n",
    "\n",
    "df['Engine Type'].value_counts()"
   ]
  },
  {
   "cell_type": "markdown",
   "id": "8aa56611",
   "metadata": {},
   "source": [
    "Now let's consolidate the unknown values."
   ]
  },
  {
   "cell_type": "code",
   "execution_count": 21,
   "id": "9daf38b2",
   "metadata": {},
   "outputs": [
    {
     "data": {
      "text/plain": [
       "Reciprocating      61664\n",
       "Turbo Shaft         3581\n",
       "Turbo Prop          3314\n",
       "Turbo Fan           2474\n",
       "Unknown             1921\n",
       "Turbo Jet            690\n",
       "Geared Turbofan       12\n",
       "LR                     2\n",
       "Name: Engine Type, dtype: int64"
      ]
     },
     "execution_count": 21,
     "metadata": {},
     "output_type": "execute_result"
    }
   ],
   "source": [
    "df['Engine Type'] = df['Engine Type'].str.replace('UNK', 'Unknown')\n",
    "df['Engine Type'] = df['Engine Type'].str.replace('NONE', 'Unknown')\n",
    "df['Engine Type'] = df['Engine Type'].str.replace('None', 'Unknown')\n",
    "df['Engine Type'].value_counts()"
   ]
  },
  {
   "cell_type": "code",
   "execution_count": 22,
   "id": "96a7a36b",
   "metadata": {},
   "outputs": [
    {
     "data": {
      "text/plain": [
       "False    73658\n",
       "True      6745\n",
       "Name: Engine Type, dtype: int64"
      ]
     },
     "execution_count": 22,
     "metadata": {},
     "output_type": "execute_result"
    }
   ],
   "source": [
    "# Let's replace the missing values as Unknown.\n",
    "df['Engine Type'].isna().value_counts()\n"
   ]
  },
  {
   "cell_type": "code",
   "execution_count": 23,
   "id": "a21f541b",
   "metadata": {},
   "outputs": [
    {
     "data": {
      "text/plain": [
       "Reciprocating      61664\n",
       "Unknown             8666\n",
       "Turbo Shaft         3581\n",
       "Turbo Prop          3314\n",
       "Turbo Fan           2474\n",
       "Turbo Jet            690\n",
       "Geared Turbofan       12\n",
       "LR                     2\n",
       "Name: Engine Type, dtype: int64"
      ]
     },
     "execution_count": 23,
     "metadata": {},
     "output_type": "execute_result"
    }
   ],
   "source": [
    "df['Engine Type'] = df['Engine Type'].fillna('Unknown')\n",
    "df['Engine Type'].value_counts()"
   ]
  },
  {
   "cell_type": "code",
   "execution_count": 24,
   "id": "0b432362",
   "metadata": {},
   "outputs": [
    {
     "name": "stdout",
     "output_type": "stream",
     "text": [
      "<class 'pandas.core.frame.DataFrame'>\n",
      "Int64Index: 80403 entries, 0 to 88888\n",
      "Data columns (total 26 columns):\n",
      " #   Column                  Non-Null Count  Dtype  \n",
      "---  ------                  --------------  -----  \n",
      " 0   Event Id                80403 non-null  object \n",
      " 1   Investigation Type      80403 non-null  object \n",
      " 2   Accident Number         80403 non-null  object \n",
      " 3   Event Date              80403 non-null  object \n",
      " 4   Location                80352 non-null  object \n",
      " 5   Country                 80183 non-null  object \n",
      " 6   Airport Code            45078 non-null  object \n",
      " 7   Airport Name            47405 non-null  object \n",
      " 8   Injury Severity         79406 non-null  object \n",
      " 9   Aircraft Damage         77238 non-null  object \n",
      " 10  Aircraft Category       28729 non-null  object \n",
      " 11  Registration Number     79123 non-null  object \n",
      " 12  Make                    80355 non-null  object \n",
      " 13  Model                   80334 non-null  object \n",
      " 14  Amateur Built           80301 non-null  object \n",
      " 15  Number Of Engines       74617 non-null  float64\n",
      " 16  Engine Type             80403 non-null  object \n",
      " 17  Far Description         28486 non-null  object \n",
      " 18  Purpose Of Flight       74269 non-null  object \n",
      " 19  Total Fatal Injuries    70178 non-null  float64\n",
      " 20  Total Serious Injuries  69228 non-null  float64\n",
      " 21  Total Minor Injuries    69751 non-null  float64\n",
      " 22  Total Uninjured         75446 non-null  float64\n",
      " 23  Weather Condition       75991 non-null  object \n",
      " 24  Broad Phase Of Flight   56165 non-null  object \n",
      " 25  Report Status           74372 non-null  object \n",
      "dtypes: float64(5), object(21)\n",
      "memory usage: 16.6+ MB\n"
     ]
    }
   ],
   "source": [
    "df.info()"
   ]
  },
  {
   "cell_type": "code",
   "execution_count": 25,
   "id": "cf816aac",
   "metadata": {},
   "outputs": [],
   "source": [
    "# We won't need the airport codes since we have airport names.\n",
    "df.drop('Airport Code', axis=1, inplace = True)"
   ]
  },
  {
   "cell_type": "code",
   "execution_count": 26,
   "id": "a0387285",
   "metadata": {},
   "outputs": [],
   "source": [
    "# Let's replace missing Location value as Unknown.\n",
    "df['Location'].isna().value_counts()\n",
    "df['Location'] = df['Location'].fillna('Unknown')"
   ]
  },
  {
   "cell_type": "code",
   "execution_count": 27,
   "id": "0ea97322",
   "metadata": {},
   "outputs": [
    {
     "name": "stdout",
     "output_type": "stream",
     "text": [
      "<class 'pandas.core.frame.DataFrame'>\n",
      "Int64Index: 80403 entries, 0 to 88888\n",
      "Data columns (total 25 columns):\n",
      " #   Column                  Non-Null Count  Dtype  \n",
      "---  ------                  --------------  -----  \n",
      " 0   Event Id                80403 non-null  object \n",
      " 1   Investigation Type      80403 non-null  object \n",
      " 2   Accident Number         80403 non-null  object \n",
      " 3   Event Date              80403 non-null  object \n",
      " 4   Location                80403 non-null  object \n",
      " 5   Country                 80183 non-null  object \n",
      " 6   Airport Name            47405 non-null  object \n",
      " 7   Injury Severity         79406 non-null  object \n",
      " 8   Aircraft Damage         77238 non-null  object \n",
      " 9   Aircraft Category       28729 non-null  object \n",
      " 10  Registration Number     79123 non-null  object \n",
      " 11  Make                    80355 non-null  object \n",
      " 12  Model                   80334 non-null  object \n",
      " 13  Amateur Built           80301 non-null  object \n",
      " 14  Number Of Engines       74617 non-null  float64\n",
      " 15  Engine Type             80403 non-null  object \n",
      " 16  Far Description         28486 non-null  object \n",
      " 17  Purpose Of Flight       74269 non-null  object \n",
      " 18  Total Fatal Injuries    70178 non-null  float64\n",
      " 19  Total Serious Injuries  69228 non-null  float64\n",
      " 20  Total Minor Injuries    69751 non-null  float64\n",
      " 21  Total Uninjured         75446 non-null  float64\n",
      " 22  Weather Condition       75991 non-null  object \n",
      " 23  Broad Phase Of Flight   56165 non-null  object \n",
      " 24  Report Status           74372 non-null  object \n",
      "dtypes: float64(5), object(20)\n",
      "memory usage: 15.9+ MB\n"
     ]
    }
   ],
   "source": [
    "df.info()"
   ]
  },
  {
   "cell_type": "code",
   "execution_count": 28,
   "id": "cefc77fc",
   "metadata": {},
   "outputs": [],
   "source": [
    "# Let's replace any missing Country values with Unknown\n",
    "df['Country'] = df['Country'].fillna('Unknown')"
   ]
  },
  {
   "cell_type": "code",
   "execution_count": 29,
   "id": "688fa98c",
   "metadata": {},
   "outputs": [],
   "source": [
    "# Event Date values are currently an object, let's transform them into datetime types\n",
    "df['Event Date'] = pd.to_datetime(df['Event Date'])"
   ]
  },
  {
   "cell_type": "code",
   "execution_count": 33,
   "id": "16de3b2b",
   "metadata": {},
   "outputs": [],
   "source": [
    "# Injury Severity has Fatal values with different names. Let's rename any values that \n",
    "# start with Fatal to just be called 'Fatal'.\n",
    "##### *** need code here**** #####\n",
    "df['Injury Severity'] = df['Injury Severity'].apply(lambda x: 'Fatal' if 'Fatal' in str(x) else x)"
   ]
  },
  {
   "cell_type": "code",
   "execution_count": 40,
   "id": "502d5912",
   "metadata": {},
   "outputs": [
    {
     "data": {
      "text/plain": [
       "Fatal          76773\n",
       "Incident        2194\n",
       "Unavailable     1087\n",
       "Minor            196\n",
       "Serious          153\n",
       "Name: Injury Severity, dtype: int64"
      ]
     },
     "execution_count": 40,
     "metadata": {},
     "output_type": "execute_result"
    }
   ],
   "source": [
    "df['Injury Severity'].fillna('Unavailable', inplace=True)\n",
    "df['Injury Severity'].value_counts()\n"
   ]
  },
  {
   "cell_type": "code",
   "execution_count": 41,
   "id": "870e67a2",
   "metadata": {},
   "outputs": [
    {
     "data": {
      "text/plain": [
       "Airplane             24429\n",
       "Helicopter            3295\n",
       "Glider                 473\n",
       "Balloon                229\n",
       "Weight-Shift           139\n",
       "Powered Parachute       83\n",
       "Gyrocraft               32\n",
       "Ultralight              18\n",
       "Unknown                 11\n",
       "WSFT                     9\n",
       "Powered-Lift             5\n",
       "Blimp                    4\n",
       "UNK                      2\n",
       "Name: Aircraft Category, dtype: int64"
      ]
     },
     "execution_count": 41,
     "metadata": {},
     "output_type": "execute_result"
    }
   ],
   "source": [
    "df['Aircraft Category'].value_counts()"
   ]
  },
  {
   "cell_type": "code",
   "execution_count": 42,
   "id": "f8f2ffc3",
   "metadata": {},
   "outputs": [],
   "source": [
    "df = df.drop(df[(df['Aircraft Category'] != 'Airplane')].index)"
   ]
  },
  {
   "cell_type": "code",
   "execution_count": 43,
   "id": "7487ba39",
   "metadata": {},
   "outputs": [
    {
     "name": "stdout",
     "output_type": "stream",
     "text": [
      "<class 'pandas.core.frame.DataFrame'>\n",
      "Int64Index: 24429 entries, 5 to 88886\n",
      "Data columns (total 25 columns):\n",
      " #   Column                  Non-Null Count  Dtype         \n",
      "---  ------                  --------------  -----         \n",
      " 0   Event Id                24429 non-null  object        \n",
      " 1   Investigation Type      24429 non-null  object        \n",
      " 2   Accident Number         24429 non-null  object        \n",
      " 3   Event Date              24429 non-null  datetime64[ns]\n",
      " 4   Location                24429 non-null  object        \n",
      " 5   Country                 24429 non-null  object        \n",
      " 6   Airport Name            16011 non-null  object        \n",
      " 7   Injury Severity         24429 non-null  object        \n",
      " 8   Aircraft Damage         23155 non-null  object        \n",
      " 9   Aircraft Category       24429 non-null  object        \n",
      " 10  Registration Number     24216 non-null  object        \n",
      " 11  Make                    24426 non-null  object        \n",
      " 12  Model                   24411 non-null  object        \n",
      " 13  Amateur Built           24412 non-null  object        \n",
      " 14  Number Of Engines       21867 non-null  float64       \n",
      " 15  Engine Type             24429 non-null  object        \n",
      " 16  Far Description         23949 non-null  object        \n",
      " 17  Purpose Of Flight       20734 non-null  object        \n",
      " 18  Total Fatal Injuries    21650 non-null  float64       \n",
      " 19  Total Serious Injuries  21567 non-null  float64       \n",
      " 20  Total Minor Injuries    21851 non-null  float64       \n",
      " 21  Total Uninjured         23700 non-null  float64       \n",
      " 22  Weather Condition       21439 non-null  object        \n",
      " 23  Broad Phase Of Flight   5799 non-null   object        \n",
      " 24  Report Status           19767 non-null  object        \n",
      "dtypes: datetime64[ns](1), float64(5), object(19)\n",
      "memory usage: 4.8+ MB\n"
     ]
    }
   ],
   "source": [
    "df.info()"
   ]
  },
  {
   "cell_type": "code",
   "execution_count": 44,
   "id": "342135c5",
   "metadata": {},
   "outputs": [],
   "source": [
    "df['Aircraft Damage'].value_counts()\n",
    "df['Aircraft Damage'].isna().value_counts()\n",
    "df['Aircraft Damage'] = df['Aircraft Damage'].fillna('Unknown')"
   ]
  },
  {
   "cell_type": "code",
   "execution_count": 36,
   "id": "e566118e",
   "metadata": {},
   "outputs": [
    {
     "data": {
      "text/plain": [
       "Personal                     13341\n",
       "Instructional                 3120\n",
       "Aerial Application            1066\n",
       "Unknown                        839\n",
       "Business                       764\n",
       "Positioning                    350\n",
       "Aerial Observation             170\n",
       "Skydiving                      166\n",
       "Ferry                          163\n",
       "Other Work Use                 155\n",
       "Executive/corporate            148\n",
       "Flight Test                    117\n",
       "Banner Tow                      89\n",
       "Public Aircraft - Federal       52\n",
       "Air Race show                   48\n",
       "Public Aircraft                 42\n",
       "Glider Tow                      35\n",
       "Public Aircraft - State         24\n",
       "Firefighting                    17\n",
       "Public Aircraft - Local         12\n",
       "ASHO                             5\n",
       "Air Race/show                    4\n",
       "PUBS                             3\n",
       "Air Drop                         3\n",
       "External Load                    1\n",
       "Name: Purpose Of Flight, dtype: int64"
      ]
     },
     "execution_count": 36,
     "metadata": {},
     "output_type": "execute_result"
    }
   ],
   "source": [
    "df['Purpose Of Flight'].value_counts()\n"
   ]
  },
  {
   "cell_type": "code",
   "execution_count": 45,
   "id": "32dd87a1",
   "metadata": {},
   "outputs": [],
   "source": [
    "df = df.drop(df[(df['Purpose Of Flight'] != 'Personal') & (df['Purpose Of Flight'] != 'Aerial Application') & (df['Purpose Of Flight'] != 'Instructional') & (df['Purpose Of Flight'] != 'Unknown') & (df['Purpose Of Flight'] != 'Business') & (df['Purpose Of Flight'] != 'Positioning') & (df['Purpose Of Flight'] != 'Executive/corporate') & (df['Purpose Of Flight'] != 'Flight Test') & (df['Purpose Of Flight'] != 'Other Work Use') & (df['Purpose Of Flight'] != 'Public Aircraft - State') & (df['Purpose Of Flight'] != 'Ferry') & (df['Purpose Of Flight'] != 'Public Aircraft') & (df['Purpose Of Flight'] != 'Public Aircraft - Local')].index)"
   ]
  },
  {
   "cell_type": "code",
   "execution_count": 46,
   "id": "963ab0ae",
   "metadata": {},
   "outputs": [
    {
     "name": "stdout",
     "output_type": "stream",
     "text": [
      "<class 'pandas.core.frame.DataFrame'>\n",
      "Int64Index: 20141 entries, 7 to 88886\n",
      "Data columns (total 25 columns):\n",
      " #   Column                  Non-Null Count  Dtype         \n",
      "---  ------                  --------------  -----         \n",
      " 0   Event Id                20141 non-null  object        \n",
      " 1   Investigation Type      20141 non-null  object        \n",
      " 2   Accident Number         20141 non-null  object        \n",
      " 3   Event Date              20141 non-null  datetime64[ns]\n",
      " 4   Location                20141 non-null  object        \n",
      " 5   Country                 20141 non-null  object        \n",
      " 6   Airport Name            14234 non-null  object        \n",
      " 7   Injury Severity         20141 non-null  object        \n",
      " 8   Aircraft Damage         20141 non-null  object        \n",
      " 9   Aircraft Category       20141 non-null  object        \n",
      " 10  Registration Number     20018 non-null  object        \n",
      " 11  Make                    20140 non-null  object        \n",
      " 12  Model                   20132 non-null  object        \n",
      " 13  Amateur Built           20136 non-null  object        \n",
      " 14  Number Of Engines       19361 non-null  float64       \n",
      " 15  Engine Type             20141 non-null  object        \n",
      " 16  Far Description         20141 non-null  object        \n",
      " 17  Purpose Of Flight       20141 non-null  object        \n",
      " 18  Total Fatal Injuries    17600 non-null  float64       \n",
      " 19  Total Serious Injuries  17551 non-null  float64       \n",
      " 20  Total Minor Injuries    17845 non-null  float64       \n",
      " 21  Total Uninjured         19528 non-null  float64       \n",
      " 22  Weather Condition       19495 non-null  object        \n",
      " 23  Broad Phase Of Flight   5568 non-null   object        \n",
      " 24  Report Status           17912 non-null  object        \n",
      "dtypes: datetime64[ns](1), float64(5), object(19)\n",
      "memory usage: 4.0+ MB\n"
     ]
    }
   ],
   "source": [
    "df.info()"
   ]
  },
  {
   "cell_type": "code",
   "execution_count": 48,
   "id": "c61e7933",
   "metadata": {},
   "outputs": [
    {
     "ename": "KeyError",
     "evalue": "\"['Registration Number'] not found in axis\"",
     "output_type": "error",
     "traceback": [
      "\u001b[0;31m---------------------------------------------------------------------------\u001b[0m",
      "\u001b[0;31mKeyError\u001b[0m                                  Traceback (most recent call last)",
      "\u001b[0;32m<ipython-input-48-5b1fbb7a72d3>\u001b[0m in \u001b[0;36m<module>\u001b[0;34m\u001b[0m\n\u001b[0;32m----> 1\u001b[0;31m \u001b[0mdf\u001b[0m \u001b[0;34m=\u001b[0m \u001b[0mdf\u001b[0m\u001b[0;34m.\u001b[0m\u001b[0mdrop\u001b[0m\u001b[0;34m(\u001b[0m\u001b[0;34m[\u001b[0m\u001b[0;34m'Registration Number'\u001b[0m\u001b[0;34m]\u001b[0m\u001b[0;34m,\u001b[0m \u001b[0maxis\u001b[0m \u001b[0;34m=\u001b[0m\u001b[0;36m1\u001b[0m\u001b[0;34m)\u001b[0m\u001b[0;34m\u001b[0m\u001b[0;34m\u001b[0m\u001b[0m\n\u001b[0m\u001b[1;32m      2\u001b[0m \u001b[0mdf\u001b[0m\u001b[0;34m.\u001b[0m\u001b[0minfo\u001b[0m\u001b[0;34m(\u001b[0m\u001b[0;34m)\u001b[0m\u001b[0;34m\u001b[0m\u001b[0;34m\u001b[0m\u001b[0m\n",
      "\u001b[0;32m/opt/anaconda3/envs/learn-env/lib/python3.8/site-packages/pandas/core/frame.py\u001b[0m in \u001b[0;36mdrop\u001b[0;34m(self, labels, axis, index, columns, level, inplace, errors)\u001b[0m\n\u001b[1;32m   4161\u001b[0m                 \u001b[0mweight\u001b[0m  \u001b[0;36m1.0\u001b[0m     \u001b[0;36m0.8\u001b[0m\u001b[0;34m\u001b[0m\u001b[0;34m\u001b[0m\u001b[0m\n\u001b[1;32m   4162\u001b[0m         \"\"\"\n\u001b[0;32m-> 4163\u001b[0;31m         return super().drop(\n\u001b[0m\u001b[1;32m   4164\u001b[0m             \u001b[0mlabels\u001b[0m\u001b[0;34m=\u001b[0m\u001b[0mlabels\u001b[0m\u001b[0;34m,\u001b[0m\u001b[0;34m\u001b[0m\u001b[0;34m\u001b[0m\u001b[0m\n\u001b[1;32m   4165\u001b[0m             \u001b[0maxis\u001b[0m\u001b[0;34m=\u001b[0m\u001b[0maxis\u001b[0m\u001b[0;34m,\u001b[0m\u001b[0;34m\u001b[0m\u001b[0;34m\u001b[0m\u001b[0m\n",
      "\u001b[0;32m/opt/anaconda3/envs/learn-env/lib/python3.8/site-packages/pandas/core/generic.py\u001b[0m in \u001b[0;36mdrop\u001b[0;34m(self, labels, axis, index, columns, level, inplace, errors)\u001b[0m\n\u001b[1;32m   3885\u001b[0m         \u001b[0;32mfor\u001b[0m \u001b[0maxis\u001b[0m\u001b[0;34m,\u001b[0m \u001b[0mlabels\u001b[0m \u001b[0;32min\u001b[0m \u001b[0maxes\u001b[0m\u001b[0;34m.\u001b[0m\u001b[0mitems\u001b[0m\u001b[0;34m(\u001b[0m\u001b[0;34m)\u001b[0m\u001b[0;34m:\u001b[0m\u001b[0;34m\u001b[0m\u001b[0;34m\u001b[0m\u001b[0m\n\u001b[1;32m   3886\u001b[0m             \u001b[0;32mif\u001b[0m \u001b[0mlabels\u001b[0m \u001b[0;32mis\u001b[0m \u001b[0;32mnot\u001b[0m \u001b[0;32mNone\u001b[0m\u001b[0;34m:\u001b[0m\u001b[0;34m\u001b[0m\u001b[0;34m\u001b[0m\u001b[0m\n\u001b[0;32m-> 3887\u001b[0;31m                 \u001b[0mobj\u001b[0m \u001b[0;34m=\u001b[0m \u001b[0mobj\u001b[0m\u001b[0;34m.\u001b[0m\u001b[0m_drop_axis\u001b[0m\u001b[0;34m(\u001b[0m\u001b[0mlabels\u001b[0m\u001b[0;34m,\u001b[0m \u001b[0maxis\u001b[0m\u001b[0;34m,\u001b[0m \u001b[0mlevel\u001b[0m\u001b[0;34m=\u001b[0m\u001b[0mlevel\u001b[0m\u001b[0;34m,\u001b[0m \u001b[0merrors\u001b[0m\u001b[0;34m=\u001b[0m\u001b[0merrors\u001b[0m\u001b[0;34m)\u001b[0m\u001b[0;34m\u001b[0m\u001b[0;34m\u001b[0m\u001b[0m\n\u001b[0m\u001b[1;32m   3888\u001b[0m \u001b[0;34m\u001b[0m\u001b[0m\n\u001b[1;32m   3889\u001b[0m         \u001b[0;32mif\u001b[0m \u001b[0minplace\u001b[0m\u001b[0;34m:\u001b[0m\u001b[0;34m\u001b[0m\u001b[0;34m\u001b[0m\u001b[0m\n",
      "\u001b[0;32m/opt/anaconda3/envs/learn-env/lib/python3.8/site-packages/pandas/core/generic.py\u001b[0m in \u001b[0;36m_drop_axis\u001b[0;34m(self, labels, axis, level, errors)\u001b[0m\n\u001b[1;32m   3919\u001b[0m                 \u001b[0mnew_axis\u001b[0m \u001b[0;34m=\u001b[0m \u001b[0maxis\u001b[0m\u001b[0;34m.\u001b[0m\u001b[0mdrop\u001b[0m\u001b[0;34m(\u001b[0m\u001b[0mlabels\u001b[0m\u001b[0;34m,\u001b[0m \u001b[0mlevel\u001b[0m\u001b[0;34m=\u001b[0m\u001b[0mlevel\u001b[0m\u001b[0;34m,\u001b[0m \u001b[0merrors\u001b[0m\u001b[0;34m=\u001b[0m\u001b[0merrors\u001b[0m\u001b[0;34m)\u001b[0m\u001b[0;34m\u001b[0m\u001b[0;34m\u001b[0m\u001b[0m\n\u001b[1;32m   3920\u001b[0m             \u001b[0;32melse\u001b[0m\u001b[0;34m:\u001b[0m\u001b[0;34m\u001b[0m\u001b[0;34m\u001b[0m\u001b[0m\n\u001b[0;32m-> 3921\u001b[0;31m                 \u001b[0mnew_axis\u001b[0m \u001b[0;34m=\u001b[0m \u001b[0maxis\u001b[0m\u001b[0;34m.\u001b[0m\u001b[0mdrop\u001b[0m\u001b[0;34m(\u001b[0m\u001b[0mlabels\u001b[0m\u001b[0;34m,\u001b[0m \u001b[0merrors\u001b[0m\u001b[0;34m=\u001b[0m\u001b[0merrors\u001b[0m\u001b[0;34m)\u001b[0m\u001b[0;34m\u001b[0m\u001b[0;34m\u001b[0m\u001b[0m\n\u001b[0m\u001b[1;32m   3922\u001b[0m             \u001b[0mresult\u001b[0m \u001b[0;34m=\u001b[0m \u001b[0mself\u001b[0m\u001b[0;34m.\u001b[0m\u001b[0mreindex\u001b[0m\u001b[0;34m(\u001b[0m\u001b[0;34m**\u001b[0m\u001b[0;34m{\u001b[0m\u001b[0maxis_name\u001b[0m\u001b[0;34m:\u001b[0m \u001b[0mnew_axis\u001b[0m\u001b[0;34m}\u001b[0m\u001b[0;34m)\u001b[0m\u001b[0;34m\u001b[0m\u001b[0;34m\u001b[0m\u001b[0m\n\u001b[1;32m   3923\u001b[0m \u001b[0;34m\u001b[0m\u001b[0m\n",
      "\u001b[0;32m/opt/anaconda3/envs/learn-env/lib/python3.8/site-packages/pandas/core/indexes/base.py\u001b[0m in \u001b[0;36mdrop\u001b[0;34m(self, labels, errors)\u001b[0m\n\u001b[1;32m   5280\u001b[0m         \u001b[0;32mif\u001b[0m \u001b[0mmask\u001b[0m\u001b[0;34m.\u001b[0m\u001b[0many\u001b[0m\u001b[0;34m(\u001b[0m\u001b[0;34m)\u001b[0m\u001b[0;34m:\u001b[0m\u001b[0;34m\u001b[0m\u001b[0;34m\u001b[0m\u001b[0m\n\u001b[1;32m   5281\u001b[0m             \u001b[0;32mif\u001b[0m \u001b[0merrors\u001b[0m \u001b[0;34m!=\u001b[0m \u001b[0;34m\"ignore\"\u001b[0m\u001b[0;34m:\u001b[0m\u001b[0;34m\u001b[0m\u001b[0;34m\u001b[0m\u001b[0m\n\u001b[0;32m-> 5282\u001b[0;31m                 \u001b[0;32mraise\u001b[0m \u001b[0mKeyError\u001b[0m\u001b[0;34m(\u001b[0m\u001b[0;34mf\"{labels[mask]} not found in axis\"\u001b[0m\u001b[0;34m)\u001b[0m\u001b[0;34m\u001b[0m\u001b[0;34m\u001b[0m\u001b[0m\n\u001b[0m\u001b[1;32m   5283\u001b[0m             \u001b[0mindexer\u001b[0m \u001b[0;34m=\u001b[0m \u001b[0mindexer\u001b[0m\u001b[0;34m[\u001b[0m\u001b[0;34m~\u001b[0m\u001b[0mmask\u001b[0m\u001b[0;34m]\u001b[0m\u001b[0;34m\u001b[0m\u001b[0;34m\u001b[0m\u001b[0m\n\u001b[1;32m   5284\u001b[0m         \u001b[0;32mreturn\u001b[0m \u001b[0mself\u001b[0m\u001b[0;34m.\u001b[0m\u001b[0mdelete\u001b[0m\u001b[0;34m(\u001b[0m\u001b[0mindexer\u001b[0m\u001b[0;34m)\u001b[0m\u001b[0;34m\u001b[0m\u001b[0;34m\u001b[0m\u001b[0m\n",
      "\u001b[0;31mKeyError\u001b[0m: \"['Registration Number'] not found in axis\""
     ]
    }
   ],
   "source": [
    "df = df.drop(['Registration Number'], axis =1)"
   ]
  },
  {
   "cell_type": "code",
   "execution_count": 57,
   "id": "4c74a35a",
   "metadata": {},
   "outputs": [],
   "source": [
    "df['Model'].isna().value_counts()\n",
    "df.dropna(subset= ['Model'], inplace=True)"
   ]
  },
  {
   "cell_type": "code",
   "execution_count": 58,
   "id": "01e8f766",
   "metadata": {},
   "outputs": [
    {
     "data": {
      "text/plain": [
       "False    20132\n",
       "Name: Model, dtype: int64"
      ]
     },
     "execution_count": 58,
     "metadata": {},
     "output_type": "execute_result"
    }
   ],
   "source": [
    "df['Model'].isna().value_counts()"
   ]
  },
  {
   "cell_type": "code",
   "execution_count": 59,
   "id": "1acf7d69",
   "metadata": {},
   "outputs": [],
   "source": [
    "df['Make'].value_counts()\n",
    "df['Make'] = df['Make'].replace('CESSNA', 'Cessna')\n",
    "df['Make'] = df['Make'].replace('PIPER', 'Piper')\n",
    "df['Make'] = df['Make'].replace('BEECH', 'Beech')\n",
    "df['Make'] = df['Make'].str.strip(' ')\n",
    "df[['Make', 'Model']].value_counts()\n",
    "df['Make'] = df['Make'].str.title()\n",
    "df['Make'].value_counts()\n",
    "df.dropna(subset= ['Make'], inplace=True)\n",
    "\n"
   ]
  },
  {
   "cell_type": "code",
   "execution_count": 60,
   "id": "e3e66a1c",
   "metadata": {},
   "outputs": [
    {
     "data": {
      "text/plain": [
       "False    20131\n",
       "Name: Make, dtype: int64"
      ]
     },
     "execution_count": 60,
     "metadata": {},
     "output_type": "execute_result"
    }
   ],
   "source": [
    "\n",
    "df['Make'].isna().value_counts()\n"
   ]
  },
  {
   "cell_type": "code",
   "execution_count": 61,
   "id": "1055c053",
   "metadata": {},
   "outputs": [
    {
     "data": {
      "text/plain": [
       "False    20131\n",
       "Name: Engine Type, dtype: int64"
      ]
     },
     "execution_count": 61,
     "metadata": {},
     "output_type": "execute_result"
    }
   ],
   "source": [
    "df['Engine Type'].isna().value_counts()"
   ]
  },
  {
   "cell_type": "code",
   "execution_count": 62,
   "id": "1a86baba",
   "metadata": {},
   "outputs": [
    {
     "data": {
      "text/plain": [
       "False    19354\n",
       "True       777\n",
       "Name: Number Of Engines, dtype: int64"
      ]
     },
     "execution_count": 62,
     "metadata": {},
     "output_type": "execute_result"
    }
   ],
   "source": [
    "df['Number Of Engines'].isna().value_counts()"
   ]
  },
  {
   "cell_type": "code",
   "execution_count": 63,
   "id": "704945d1",
   "metadata": {},
   "outputs": [
    {
     "name": "stdout",
     "output_type": "stream",
     "text": [
      "<class 'pandas.core.frame.DataFrame'>\n",
      "Int64Index: 20131 entries, 7 to 88886\n",
      "Data columns (total 24 columns):\n",
      " #   Column                  Non-Null Count  Dtype         \n",
      "---  ------                  --------------  -----         \n",
      " 0   Event Id                20131 non-null  object        \n",
      " 1   Investigation Type      20131 non-null  object        \n",
      " 2   Accident Number         20131 non-null  object        \n",
      " 3   Event Date              20131 non-null  datetime64[ns]\n",
      " 4   Location                20131 non-null  object        \n",
      " 5   Country                 20131 non-null  object        \n",
      " 6   Airport Name            14229 non-null  object        \n",
      " 7   Injury Severity         20131 non-null  object        \n",
      " 8   Aircraft Damage         20131 non-null  object        \n",
      " 9   Aircraft Category       20131 non-null  object        \n",
      " 10  Make                    20131 non-null  object        \n",
      " 11  Model                   20131 non-null  object        \n",
      " 12  Amateur Built           20126 non-null  object        \n",
      " 13  Number Of Engines       19354 non-null  float64       \n",
      " 14  Engine Type             20131 non-null  object        \n",
      " 15  Far Description         20131 non-null  object        \n",
      " 16  Purpose Of Flight       20131 non-null  object        \n",
      " 17  Total Fatal Injuries    17595 non-null  float64       \n",
      " 18  Total Serious Injuries  17548 non-null  float64       \n",
      " 19  Total Minor Injuries    17840 non-null  float64       \n",
      " 20  Total Uninjured         19523 non-null  float64       \n",
      " 21  Weather Condition       19488 non-null  object        \n",
      " 22  Broad Phase Of Flight   5563 non-null   object        \n",
      " 23  Report Status           17905 non-null  object        \n",
      "dtypes: datetime64[ns](1), float64(5), object(18)\n",
      "memory usage: 3.8+ MB\n"
     ]
    }
   ],
   "source": [
    "df.info()"
   ]
  },
  {
   "cell_type": "code",
   "execution_count": 70,
   "id": "8dfe211e",
   "metadata": {},
   "outputs": [
    {
     "data": {
      "text/html": [
       "<div>\n",
       "<style scoped>\n",
       "    .dataframe tbody tr th:only-of-type {\n",
       "        vertical-align: middle;\n",
       "    }\n",
       "\n",
       "    .dataframe tbody tr th {\n",
       "        vertical-align: top;\n",
       "    }\n",
       "\n",
       "    .dataframe thead th {\n",
       "        text-align: right;\n",
       "    }\n",
       "</style>\n",
       "<table border=\"1\" class=\"dataframe\">\n",
       "  <thead>\n",
       "    <tr style=\"text-align: right;\">\n",
       "      <th></th>\n",
       "      <th>Number Of Engines</th>\n",
       "      <th>Total Fatal Injuries</th>\n",
       "      <th>Total Serious Injuries</th>\n",
       "      <th>Total Minor Injuries</th>\n",
       "      <th>Total Uninjured</th>\n",
       "    </tr>\n",
       "  </thead>\n",
       "  <tbody>\n",
       "    <tr>\n",
       "      <th>count</th>\n",
       "      <td>19354.000000</td>\n",
       "      <td>17595.000000</td>\n",
       "      <td>17548.000000</td>\n",
       "      <td>17840.000000</td>\n",
       "      <td>19523.000000</td>\n",
       "    </tr>\n",
       "    <tr>\n",
       "      <th>mean</th>\n",
       "      <td>1.114912</td>\n",
       "      <td>0.442228</td>\n",
       "      <td>0.242421</td>\n",
       "      <td>0.224608</td>\n",
       "      <td>1.851816</td>\n",
       "    </tr>\n",
       "    <tr>\n",
       "      <th>std</th>\n",
       "      <td>0.337194</td>\n",
       "      <td>3.309299</td>\n",
       "      <td>0.752449</td>\n",
       "      <td>1.724006</td>\n",
       "      <td>12.564087</td>\n",
       "    </tr>\n",
       "    <tr>\n",
       "      <th>min</th>\n",
       "      <td>0.000000</td>\n",
       "      <td>0.000000</td>\n",
       "      <td>0.000000</td>\n",
       "      <td>0.000000</td>\n",
       "      <td>0.000000</td>\n",
       "    </tr>\n",
       "    <tr>\n",
       "      <th>25%</th>\n",
       "      <td>1.000000</td>\n",
       "      <td>0.000000</td>\n",
       "      <td>0.000000</td>\n",
       "      <td>0.000000</td>\n",
       "      <td>0.000000</td>\n",
       "    </tr>\n",
       "    <tr>\n",
       "      <th>50%</th>\n",
       "      <td>1.000000</td>\n",
       "      <td>0.000000</td>\n",
       "      <td>0.000000</td>\n",
       "      <td>0.000000</td>\n",
       "      <td>1.000000</td>\n",
       "    </tr>\n",
       "    <tr>\n",
       "      <th>75%</th>\n",
       "      <td>1.000000</td>\n",
       "      <td>0.000000</td>\n",
       "      <td>0.000000</td>\n",
       "      <td>0.000000</td>\n",
       "      <td>2.000000</td>\n",
       "    </tr>\n",
       "    <tr>\n",
       "      <th>max</th>\n",
       "      <td>6.000000</td>\n",
       "      <td>228.000000</td>\n",
       "      <td>44.000000</td>\n",
       "      <td>200.000000</td>\n",
       "      <td>588.000000</td>\n",
       "    </tr>\n",
       "  </tbody>\n",
       "</table>\n",
       "</div>"
      ],
      "text/plain": [
       "       Number Of Engines  Total Fatal Injuries  Total Serious Injuries  \\\n",
       "count       19354.000000          17595.000000            17548.000000   \n",
       "mean            1.114912              0.442228                0.242421   \n",
       "std             0.337194              3.309299                0.752449   \n",
       "min             0.000000              0.000000                0.000000   \n",
       "25%             1.000000              0.000000                0.000000   \n",
       "50%             1.000000              0.000000                0.000000   \n",
       "75%             1.000000              0.000000                0.000000   \n",
       "max             6.000000            228.000000               44.000000   \n",
       "\n",
       "       Total Minor Injuries  Total Uninjured  \n",
       "count          17840.000000     19523.000000  \n",
       "mean               0.224608         1.851816  \n",
       "std                1.724006        12.564087  \n",
       "min                0.000000         0.000000  \n",
       "25%                0.000000         0.000000  \n",
       "50%                0.000000         1.000000  \n",
       "75%                0.000000         2.000000  \n",
       "max              200.000000       588.000000  "
      ]
     },
     "execution_count": 70,
     "metadata": {},
     "output_type": "execute_result"
    }
   ],
   "source": [
    "df.describe()"
   ]
  },
  {
   "cell_type": "code",
   "execution_count": 82,
   "id": "57863c63",
   "metadata": {},
   "outputs": [
    {
     "data": {
      "text/plain": [
       "<AxesSubplot:xlabel='Make', ylabel='Total Fatal Injuries'>"
      ]
     },
     "execution_count": 82,
     "metadata": {},
     "output_type": "execute_result"
    },
    {
     "data": {
      "image/png": "[encoded data removed]",
      "text/plain": [
       "<Figure size 1440x720 with 1 Axes>"
      ]
     },
     "metadata": {
      "needs_background": "light"
     },
     "output_type": "display_data"
    }
   ],
   "source": [
    "fig, ax = plt.subplots(figsize = (20, 10))\n",
    "sns.scatterplot(x = 'Make', y = 'Total Fatal Injuries', data = df, ax = ax)"
   ]
  },
  {
   "cell_type": "code",
   "execution_count": 72,
   "id": "370dce7d",
   "metadata": {},
   "outputs": [
    {
     "data": {
      "text/plain": [
       "False    20131\n",
       "Name: Number Of Engines, dtype: int64"
      ]
     },
     "execution_count": 72,
     "metadata": {},
     "output_type": "execute_result"
    }
   ],
   "source": [
    "\n",
    "df['Number Of Engines'] = df['Number Of Engines'].fillna(df['Number Of Engines'].mean())\n",
    "df['Number Of Engines'].isna().value_counts()"
   ]
  },
  {
   "cell_type": "code",
   "execution_count": 73,
   "id": "56228b4d",
   "metadata": {},
   "outputs": [
    {
     "data": {
      "text/plain": [
       "False    17595\n",
       "True      2536\n",
       "Name: Total Fatal Injuries, dtype: int64"
      ]
     },
     "execution_count": 73,
     "metadata": {},
     "output_type": "execute_result"
    }
   ],
   "source": [
    "df['Total Fatal Injuries'].isna().value_counts()"
   ]
  },
  {
   "cell_type": "code",
   "execution_count": 83,
   "id": "2a0b0261",
   "metadata": {},
   "outputs": [],
   "source": [
    "df['Total Fatal Injuries'] = df['Total Fatal Injuries'].fillna(df['Total Fatal Injuries'].mean())"
   ]
  },
  {
   "cell_type": "code",
   "execution_count": 126,
   "id": "f7c7ce18",
   "metadata": {},
   "outputs": [
    {
     "name": "stdout",
     "output_type": "stream",
     "text": [
      "<class 'pandas.core.frame.DataFrame'>\n",
      "Int64Index: 2783 entries, 80 to 88886\n",
      "Data columns (total 23 columns):\n",
      " #   Column                  Non-Null Count  Dtype  \n",
      "---  ------                  --------------  -----  \n",
      " 0   Event Id                2783 non-null   object \n",
      " 1   Investigation Type      2783 non-null   object \n",
      " 2   Accident Number         2783 non-null   object \n",
      " 3   Event Date              2783 non-null   object \n",
      " 4   Location                2783 non-null   object \n",
      " 5   Country                 2783 non-null   object \n",
      " 6   Injury Severity         2783 non-null   object \n",
      " 7   Aircraft Damage         2783 non-null   object \n",
      " 8   Aircraft Category       2783 non-null   object \n",
      " 9   Make                    2783 non-null   object \n",
      " 10  Model                   2777 non-null   object \n",
      " 11  Amateur Built           2783 non-null   object \n",
      " 12  Number Of Engines       2783 non-null   object \n",
      " 13  Engine Type             2783 non-null   object \n",
      " 14  Far Description         2783 non-null   object \n",
      " 15  Purpose Of Flight       2783 non-null   object \n",
      " 16  Total Fatal Injuries    2783 non-null   float64\n",
      " 17  Total Serious Injuries  2635 non-null   float64\n",
      " 18  Total Minor Injuries    2651 non-null   float64\n",
      " 19  Total Uninjured         2758 non-null   float64\n",
      " 20  Weather Condition       2354 non-null   object \n",
      " 21  Broad Phase Of Flight   240 non-null    object \n",
      " 22  Report Status           1273 non-null   object \n",
      "dtypes: float64(4), object(19)\n",
      "memory usage: 521.8+ KB\n"
     ]
    }
   ],
   "source": [
    "df.info()"
   ]
  },
  {
   "cell_type": "code",
   "execution_count": 128,
   "id": "99a945d8",
   "metadata": {},
   "outputs": [
    {
     "data": {
      "text/plain": [
       "False    2777\n",
       "True        6\n",
       "Name: Model, dtype: int64"
      ]
     },
     "execution_count": 128,
     "metadata": {},
     "output_type": "execute_result"
    }
   ],
   "source": [
    "df['Model'].isna().value_counts()"
   ]
  },
  {
   "cell_type": "code",
   "execution_count": 85,
   "id": "2ec03b30",
   "metadata": {},
   "outputs": [],
   "source": [
    "df['Model'].fillna('Unknown', axis=0, inplace=True)"
   ]
  },
  {
   "cell_type": "code",
   "execution_count": 86,
   "id": "90e7b7ca",
   "metadata": {},
   "outputs": [
    {
     "data": {
      "text/plain": [
       "False    20131\n",
       "Name: Model, dtype: int64"
      ]
     },
     "execution_count": 86,
     "metadata": {},
     "output_type": "execute_result"
    }
   ],
   "source": [
    "df['Model'].isna().value_counts()"
   ]
  },
  {
   "cell_type": "code",
   "execution_count": 92,
   "id": "75cf144f",
   "metadata": {},
   "outputs": [
    {
     "data": {
      "text/plain": [
       "False    20131\n",
       "Name: Total Serious Injuries, dtype: int64"
      ]
     },
     "execution_count": 92,
     "metadata": {},
     "output_type": "execute_result"
    }
   ],
   "source": [
    "df['Total Serious Injuries'].ffill(axis=0, inplace=True)\n",
    "df['Total Serious Injuries'].isna().value_counts()"
   ]
  },
  {
   "cell_type": "code",
   "execution_count": 91,
   "id": "d2bf35a7",
   "metadata": {},
   "outputs": [
    {
     "data": {
      "text/plain": [
       "False    20131\n",
       "Name: Total Minor Injuries, dtype: int64"
      ]
     },
     "execution_count": 91,
     "metadata": {},
     "output_type": "execute_result"
    }
   ],
   "source": [
    "df['Total Minor Injuries'].ffill(axis=0, inplace=True)\n",
    "df['Total Minor Injuries'].isna().value_counts()"
   ]
  },
  {
   "cell_type": "code",
   "execution_count": 90,
   "id": "a5ea1e92",
   "metadata": {},
   "outputs": [
    {
     "data": {
      "text/plain": [
       "False    20131\n",
       "Name: Total Uninjured, dtype: int64"
      ]
     },
     "execution_count": 90,
     "metadata": {},
     "output_type": "execute_result"
    }
   ],
   "source": [
    "df['Total Uninjured'].ffill(axis=0,inplace=True)\n",
    "df['Total Uninjured'].isna().value_counts()"
   ]
  },
  {
   "cell_type": "code",
   "execution_count": 96,
   "id": "23d54574",
   "metadata": {},
   "outputs": [
    {
     "name": "stdout",
     "output_type": "stream",
     "text": [
      "<class 'pandas.core.frame.DataFrame'>\n",
      "Int64Index: 20131 entries, 7 to 88886\n",
      "Data columns (total 25 columns):\n",
      " #   Column                  Non-Null Count  Dtype         \n",
      "---  ------                  --------------  -----         \n",
      " 0   Event Id                20131 non-null  object        \n",
      " 1   Investigation Type      20131 non-null  object        \n",
      " 2   Accident Number         20131 non-null  object        \n",
      " 3   Event Date              20131 non-null  datetime64[ns]\n",
      " 4   Location                20131 non-null  object        \n",
      " 5   Country                 20131 non-null  object        \n",
      " 6   Airport Name            14229 non-null  object        \n",
      " 7   Injury Severity         20131 non-null  object        \n",
      " 8   Aircraft Damage         20131 non-null  object        \n",
      " 9   Aircraft Category       20131 non-null  object        \n",
      " 10  Make                    20131 non-null  object        \n",
      " 11  Model                   20131 non-null  object        \n",
      " 12  Amateur Built           20126 non-null  object        \n",
      " 13  Number Of Engines       20131 non-null  float64       \n",
      " 14  Engine Type             20131 non-null  object        \n",
      " 15  Far Description         20131 non-null  object        \n",
      " 16  Purpose Of Flight       20131 non-null  object        \n",
      " 17  Total Fatal Injuries    20131 non-null  float64       \n",
      " 18  Total Serious Injuries  20131 non-null  float64       \n",
      " 19  Total Minor Injuries    20131 non-null  float64       \n",
      " 20  Total Uninjured         20131 non-null  float64       \n",
      " 21  Weather Condition       19488 non-null  object        \n",
      " 22  Broad Phase Of Flight   5563 non-null   object        \n",
      " 23  Report Status           17905 non-null  object        \n",
      " 24  Total Passengers        20131 non-null  float64       \n",
      "dtypes: datetime64[ns](1), float64(6), object(18)\n",
      "memory usage: 4.0+ MB\n"
     ]
    }
   ],
   "source": [
    "df['Total Passengers'] = df['Total Fatal Injuries'] + df['Total Minor Injuries'] + df['Total Serious Injuries'] + df['Total Uninjured']\n",
    "df.info()"
   ]
  },
  {
   "cell_type": "code",
   "execution_count": 97,
   "id": "35198fd7",
   "metadata": {},
   "outputs": [],
   "source": [
    "df.drop(['Report Status'], axis = 1, inplace=True)\n"
   ]
  },
  {
   "cell_type": "code",
   "execution_count": 101,
   "id": "7c1ec7ae",
   "metadata": {},
   "outputs": [
    {
     "name": "stdout",
     "output_type": "stream",
     "text": [
      "<class 'pandas.core.frame.DataFrame'>\n",
      "Int64Index: 20131 entries, 7 to 88886\n",
      "Data columns (total 24 columns):\n",
      " #   Column                  Non-Null Count  Dtype         \n",
      "---  ------                  --------------  -----         \n",
      " 0   Event Id                20131 non-null  object        \n",
      " 1   Investigation Type      20131 non-null  object        \n",
      " 2   Accident Number         20131 non-null  object        \n",
      " 3   Event Date              20131 non-null  datetime64[ns]\n",
      " 4   Location                20131 non-null  object        \n",
      " 5   Country                 20131 non-null  object        \n",
      " 6   Airport Name            14229 non-null  object        \n",
      " 7   Injury Severity         20131 non-null  object        \n",
      " 8   Aircraft Damage         20131 non-null  object        \n",
      " 9   Aircraft Category       20131 non-null  object        \n",
      " 10  Make                    20131 non-null  object        \n",
      " 11  Model                   20131 non-null  object        \n",
      " 12  Amateur Built           20126 non-null  object        \n",
      " 13  Number Of Engines       20131 non-null  float64       \n",
      " 14  Engine Type             20131 non-null  object        \n",
      " 15  Far Description         20131 non-null  object        \n",
      " 16  Purpose Of Flight       20131 non-null  object        \n",
      " 17  Total Fatal Injuries    20131 non-null  float64       \n",
      " 18  Total Serious Injuries  20131 non-null  float64       \n",
      " 19  Total Minor Injuries    20131 non-null  float64       \n",
      " 20  Total Uninjured         20131 non-null  float64       \n",
      " 21  Weather Condition       19488 non-null  object        \n",
      " 22  Broad Phase Of Flight   20131 non-null  object        \n",
      " 23  Total Passengers        20131 non-null  float64       \n",
      "dtypes: datetime64[ns](1), float64(6), object(17)\n",
      "memory usage: 3.8+ MB\n"
     ]
    }
   ],
   "source": [
    "df['Broad Phase Of Flight'] = df['Broad Phase Of Flight'].fillna('Unknown')\n",
    "df.info()"
   ]
  },
  {
   "cell_type": "code",
   "execution_count": 102,
   "id": "e35246d1",
   "metadata": {},
   "outputs": [
    {
     "data": {
      "text/plain": [
       "False    19488\n",
       "True       643\n",
       "Name: Weather Condition, dtype: int64"
      ]
     },
     "execution_count": 102,
     "metadata": {},
     "output_type": "execute_result"
    }
   ],
   "source": [
    "df['Weather Condition'].isna().value_counts()"
   ]
  },
  {
   "cell_type": "code",
   "execution_count": 103,
   "id": "7c556455",
   "metadata": {},
   "outputs": [],
   "source": [
    "df['Weather Condition'].fillna('Unknown', axis=0, inplace=True)"
   ]
  },
  {
   "cell_type": "code",
   "execution_count": 106,
   "id": "645a77ba",
   "metadata": {},
   "outputs": [
    {
     "name": "stdout",
     "output_type": "stream",
     "text": [
      "<class 'pandas.core.frame.DataFrame'>\n",
      "Int64Index: 20131 entries, 7 to 88886\n",
      "Data columns (total 24 columns):\n",
      " #   Column                  Non-Null Count  Dtype         \n",
      "---  ------                  --------------  -----         \n",
      " 0   Event Id                20131 non-null  object        \n",
      " 1   Investigation Type      20131 non-null  object        \n",
      " 2   Accident Number         20131 non-null  object        \n",
      " 3   Event Date              20131 non-null  datetime64[ns]\n",
      " 4   Location                20131 non-null  object        \n",
      " 5   Country                 20131 non-null  object        \n",
      " 6   Airport Name            20131 non-null  object        \n",
      " 7   Injury Severity         20131 non-null  object        \n",
      " 8   Aircraft Damage         20131 non-null  object        \n",
      " 9   Aircraft Category       20131 non-null  object        \n",
      " 10  Make                    20131 non-null  object        \n",
      " 11  Model                   20131 non-null  object        \n",
      " 12  Amateur Built           20126 non-null  object        \n",
      " 13  Number Of Engines       20131 non-null  float64       \n",
      " 14  Engine Type             20131 non-null  object        \n",
      " 15  Far Description         20131 non-null  object        \n",
      " 16  Purpose Of Flight       20131 non-null  object        \n",
      " 17  Total Fatal Injuries    20131 non-null  float64       \n",
      " 18  Total Serious Injuries  20131 non-null  float64       \n",
      " 19  Total Minor Injuries    20131 non-null  float64       \n",
      " 20  Total Uninjured         20131 non-null  float64       \n",
      " 21  Weather Condition       20131 non-null  object        \n",
      " 22  Broad Phase Of Flight   20131 non-null  object        \n",
      " 23  Total Passengers        20131 non-null  float64       \n",
      "dtypes: datetime64[ns](1), float64(6), object(17)\n",
      "memory usage: 3.8+ MB\n"
     ]
    }
   ],
   "source": [
    "df['Airport Name'] = df['Airport Name'].fillna('Unknown')\n",
    "df.info()"
   ]
  },
  {
   "cell_type": "code",
   "execution_count": 107,
   "id": "6f4c1f11",
   "metadata": {},
   "outputs": [
    {
     "data": {
      "text/plain": [
       "United States     19335\n",
       "Brazil              115\n",
       "France               47\n",
       "Mexico               46\n",
       "United Kingdom       45\n",
       "                  ...  \n",
       "Romania               1\n",
       "South Korea           1\n",
       "Paraguay              1\n",
       "Qatar                 1\n",
       "Czech Republic        1\n",
       "Name: Country, Length: 105, dtype: int64"
      ]
     },
     "execution_count": 107,
     "metadata": {},
     "output_type": "execute_result"
    }
   ],
   "source": [
    "df['Country'].value_counts()"
   ]
  },
  {
   "cell_type": "markdown",
   "id": "af60c7ab",
   "metadata": {},
   "source": []
  },
  {
   "cell_type": "code",
   "execution_count": 108,
   "id": "68ad8e73",
   "metadata": {},
   "outputs": [],
   "source": [
    "df = df.drop(['Accident Number'], axis=1)"
   ]
  },
  {
   "cell_type": "code",
   "execution_count": 109,
   "id": "9afb4363",
   "metadata": {},
   "outputs": [
    {
     "name": "stdout",
     "output_type": "stream",
     "text": [
      "<class 'pandas.core.frame.DataFrame'>\n",
      "Int64Index: 20131 entries, 7 to 88886\n",
      "Data columns (total 23 columns):\n",
      " #   Column                  Non-Null Count  Dtype         \n",
      "---  ------                  --------------  -----         \n",
      " 0   Event Id                20131 non-null  object        \n",
      " 1   Investigation Type      20131 non-null  object        \n",
      " 2   Event Date              20131 non-null  datetime64[ns]\n",
      " 3   Location                20131 non-null  object        \n",
      " 4   Country                 20131 non-null  object        \n",
      " 5   Airport Name            20131 non-null  object        \n",
      " 6   Injury Severity         20131 non-null  object        \n",
      " 7   Aircraft Damage         20131 non-null  object        \n",
      " 8   Aircraft Category       20131 non-null  object        \n",
      " 9   Make                    20131 non-null  object        \n",
      " 10  Model                   20131 non-null  object        \n",
      " 11  Amateur Built           20126 non-null  object        \n",
      " 12  Number Of Engines       20131 non-null  float64       \n",
      " 13  Engine Type             20131 non-null  object        \n",
      " 14  Far Description         20131 non-null  object        \n",
      " 15  Purpose Of Flight       20131 non-null  object        \n",
      " 16  Total Fatal Injuries    20131 non-null  float64       \n",
      " 17  Total Serious Injuries  20131 non-null  float64       \n",
      " 18  Total Minor Injuries    20131 non-null  float64       \n",
      " 19  Total Uninjured         20131 non-null  float64       \n",
      " 20  Weather Condition       20131 non-null  object        \n",
      " 21  Broad Phase Of Flight   20131 non-null  object        \n",
      " 22  Total Passengers        20131 non-null  float64       \n",
      "dtypes: datetime64[ns](1), float64(6), object(16)\n",
      "memory usage: 3.7+ MB\n"
     ]
    }
   ],
   "source": [
    "df.info()"
   ]
  },
  {
   "cell_type": "code",
   "execution_count": 112,
   "id": "8989f3fc",
   "metadata": {},
   "outputs": [],
   "source": [
    "df.dropna(subset=['Amateur Built'], axis=0, inplace=True)"
   ]
  },
  {
   "cell_type": "code",
   "execution_count": 113,
   "id": "baff0709",
   "metadata": {},
   "outputs": [
    {
     "data": {
      "text/plain": [
       "False    20126\n",
       "Name: Amateur Built, dtype: int64"
      ]
     },
     "execution_count": 113,
     "metadata": {},
     "output_type": "execute_result"
    }
   ],
   "source": [
    "df['Amateur Built'].isna().value_counts()"
   ]
  },
  {
   "cell_type": "code",
   "execution_count": 116,
   "id": "698aa74b",
   "metadata": {},
   "outputs": [
    {
     "data": {
      "text/plain": [
       "Total Passengers  Make             Model      \n",
       "1.0               Cessna           172            359\n",
       "2.0               Cessna           172            239\n",
       "1.0               Cessna           152            230\n",
       "                                   150            121\n",
       "                                   172S           112\n",
       "                                                 ... \n",
       "3.0               Lake             LA-4             1\n",
       "                                   LA4              1\n",
       "                  Lancair          LC41-550FG       1\n",
       "                  Lancair Company  LC 40 550FG      1\n",
       "0.0               Air Tractor      AT802A           1\n",
       "Length: 6897, dtype: int64"
      ]
     },
     "execution_count": 116,
     "metadata": {},
     "output_type": "execute_result"
    }
   ],
   "source": [
    "df[['Total Passengers', 'Make', 'Model']].value_counts().head(5)"
   ]
  },
  {
   "cell_type": "code",
   "execution_count": null,
   "id": "e2614054",
   "metadata": {},
   "outputs": [],
   "source": []
  }
 ],
 "metadata": {
  "kernelspec": {
   "display_name": "Python (learn-env)",
   "language": "python",
   "name": "learn-env"
  },
  "language_info": {
   "codemirror_mode": {
    "name": "ipython",
    "version": 3
   },
   "file_extension": ".py",
   "mimetype": "text/x-python",
   "name": "python",
   "nbconvert_exporter": "python",
   "pygments_lexer": "ipython3",
   "version": "3.8.5"
  }
 },
 "nbformat": 4,
 "nbformat_minor": 5
}
