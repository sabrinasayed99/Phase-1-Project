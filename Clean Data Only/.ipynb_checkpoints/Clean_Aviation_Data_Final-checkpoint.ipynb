{
 "cells": [
  {
   "cell_type": "code",
   "execution_count": 1,
   "id": "4787e0fe-64c8-4304-b10a-85935d3ad759",
   "metadata": {},
   "outputs": [],
   "source": [
    "import pandas as pd\n",
    "import numpy as np\n",
    "import matplotlib.pyplot as plt\n",
    "\n",
    "import seaborn as sns"
   ]
  },
  {
   "cell_type": "markdown",
   "id": "4a03353e",
   "metadata": {},
   "source": [
    "First, we load in our dataset"
   ]
  },
  {
   "cell_type": "code",
   "execution_count": 2,
   "id": "19abf858-6596-4675-aa90-19765dea72f9",
   "metadata": {},
   "outputs": [
    {
     "data": {
      "text/html": [
       "<div>\n",
       "<style scoped>\n",
       "    .dataframe tbody tr th:only-of-type {\n",
       "        vertical-align: middle;\n",
       "    }\n",
       "\n",
       "    .dataframe tbody tr th {\n",
       "        vertical-align: top;\n",
       "    }\n",
       "\n",
       "    .dataframe thead th {\n",
       "        text-align: right;\n",
       "    }\n",
       "</style>\n",
       "<table border=\"1\" class=\"dataframe\">\n",
       "  <thead>\n",
       "    <tr style=\"text-align: right;\">\n",
       "      <th></th>\n",
       "      <th>Event.Id</th>\n",
       "      <th>Investigation.Type</th>\n",
       "      <th>Accident.Number</th>\n",
       "      <th>Event.Date</th>\n",
       "      <th>Location</th>\n",
       "      <th>Country</th>\n",
       "      <th>Latitude</th>\n",
       "      <th>Longitude</th>\n",
       "      <th>Airport.Code</th>\n",
       "      <th>Airport.Name</th>\n",
       "      <th>...</th>\n",
       "      <th>Purpose.of.flight</th>\n",
       "      <th>Air.carrier</th>\n",
       "      <th>Total.Fatal.Injuries</th>\n",
       "      <th>Total.Serious.Injuries</th>\n",
       "      <th>Total.Minor.Injuries</th>\n",
       "      <th>Total.Uninjured</th>\n",
       "      <th>Weather.Condition</th>\n",
       "      <th>Broad.phase.of.flight</th>\n",
       "      <th>Report.Status</th>\n",
       "      <th>Publication.Date</th>\n",
       "    </tr>\n",
       "  </thead>\n",
       "  <tbody>\n",
       "    <tr>\n",
       "      <th>0</th>\n",
       "      <td>20001218X45444</td>\n",
       "      <td>Accident</td>\n",
       "      <td>SEA87LA080</td>\n",
       "      <td>1948-10-24</td>\n",
       "      <td>MOOSE CREEK, ID</td>\n",
       "      <td>United States</td>\n",
       "      <td>NaN</td>\n",
       "      <td>NaN</td>\n",
       "      <td>NaN</td>\n",
       "      <td>NaN</td>\n",
       "      <td>...</td>\n",
       "      <td>Personal</td>\n",
       "      <td>NaN</td>\n",
       "      <td>2.0</td>\n",
       "      <td>0.0</td>\n",
       "      <td>0.0</td>\n",
       "      <td>0.0</td>\n",
       "      <td>UNK</td>\n",
       "      <td>Cruise</td>\n",
       "      <td>Probable Cause</td>\n",
       "      <td>NaN</td>\n",
       "    </tr>\n",
       "    <tr>\n",
       "      <th>1</th>\n",
       "      <td>20001218X45447</td>\n",
       "      <td>Accident</td>\n",
       "      <td>LAX94LA336</td>\n",
       "      <td>1962-07-19</td>\n",
       "      <td>BRIDGEPORT, CA</td>\n",
       "      <td>United States</td>\n",
       "      <td>NaN</td>\n",
       "      <td>NaN</td>\n",
       "      <td>NaN</td>\n",
       "      <td>NaN</td>\n",
       "      <td>...</td>\n",
       "      <td>Personal</td>\n",
       "      <td>NaN</td>\n",
       "      <td>4.0</td>\n",
       "      <td>0.0</td>\n",
       "      <td>0.0</td>\n",
       "      <td>0.0</td>\n",
       "      <td>UNK</td>\n",
       "      <td>Unknown</td>\n",
       "      <td>Probable Cause</td>\n",
       "      <td>19-09-1996</td>\n",
       "    </tr>\n",
       "    <tr>\n",
       "      <th>2</th>\n",
       "      <td>20061025X01555</td>\n",
       "      <td>Accident</td>\n",
       "      <td>NYC07LA005</td>\n",
       "      <td>1974-08-30</td>\n",
       "      <td>Saltville, VA</td>\n",
       "      <td>United States</td>\n",
       "      <td>36.922223</td>\n",
       "      <td>-81.878056</td>\n",
       "      <td>NaN</td>\n",
       "      <td>NaN</td>\n",
       "      <td>...</td>\n",
       "      <td>Personal</td>\n",
       "      <td>NaN</td>\n",
       "      <td>3.0</td>\n",
       "      <td>NaN</td>\n",
       "      <td>NaN</td>\n",
       "      <td>NaN</td>\n",
       "      <td>IMC</td>\n",
       "      <td>Cruise</td>\n",
       "      <td>Probable Cause</td>\n",
       "      <td>26-02-2007</td>\n",
       "    </tr>\n",
       "    <tr>\n",
       "      <th>3</th>\n",
       "      <td>20001218X45448</td>\n",
       "      <td>Accident</td>\n",
       "      <td>LAX96LA321</td>\n",
       "      <td>1977-06-19</td>\n",
       "      <td>EUREKA, CA</td>\n",
       "      <td>United States</td>\n",
       "      <td>NaN</td>\n",
       "      <td>NaN</td>\n",
       "      <td>NaN</td>\n",
       "      <td>NaN</td>\n",
       "      <td>...</td>\n",
       "      <td>Personal</td>\n",
       "      <td>NaN</td>\n",
       "      <td>2.0</td>\n",
       "      <td>0.0</td>\n",
       "      <td>0.0</td>\n",
       "      <td>0.0</td>\n",
       "      <td>IMC</td>\n",
       "      <td>Cruise</td>\n",
       "      <td>Probable Cause</td>\n",
       "      <td>12-09-2000</td>\n",
       "    </tr>\n",
       "    <tr>\n",
       "      <th>4</th>\n",
       "      <td>20041105X01764</td>\n",
       "      <td>Accident</td>\n",
       "      <td>CHI79FA064</td>\n",
       "      <td>1979-08-02</td>\n",
       "      <td>Canton, OH</td>\n",
       "      <td>United States</td>\n",
       "      <td>NaN</td>\n",
       "      <td>NaN</td>\n",
       "      <td>NaN</td>\n",
       "      <td>NaN</td>\n",
       "      <td>...</td>\n",
       "      <td>Personal</td>\n",
       "      <td>NaN</td>\n",
       "      <td>1.0</td>\n",
       "      <td>2.0</td>\n",
       "      <td>NaN</td>\n",
       "      <td>0.0</td>\n",
       "      <td>VMC</td>\n",
       "      <td>Approach</td>\n",
       "      <td>Probable Cause</td>\n",
       "      <td>16-04-1980</td>\n",
       "    </tr>\n",
       "    <tr>\n",
       "      <th>...</th>\n",
       "      <td>...</td>\n",
       "      <td>...</td>\n",
       "      <td>...</td>\n",
       "      <td>...</td>\n",
       "      <td>...</td>\n",
       "      <td>...</td>\n",
       "      <td>...</td>\n",
       "      <td>...</td>\n",
       "      <td>...</td>\n",
       "      <td>...</td>\n",
       "      <td>...</td>\n",
       "      <td>...</td>\n",
       "      <td>...</td>\n",
       "      <td>...</td>\n",
       "      <td>...</td>\n",
       "      <td>...</td>\n",
       "      <td>...</td>\n",
       "      <td>...</td>\n",
       "      <td>...</td>\n",
       "      <td>...</td>\n",
       "      <td>...</td>\n",
       "    </tr>\n",
       "    <tr>\n",
       "      <th>88884</th>\n",
       "      <td>20221227106491</td>\n",
       "      <td>Accident</td>\n",
       "      <td>ERA23LA093</td>\n",
       "      <td>2022-12-26</td>\n",
       "      <td>Annapolis, MD</td>\n",
       "      <td>United States</td>\n",
       "      <td>NaN</td>\n",
       "      <td>NaN</td>\n",
       "      <td>NaN</td>\n",
       "      <td>NaN</td>\n",
       "      <td>...</td>\n",
       "      <td>Personal</td>\n",
       "      <td>NaN</td>\n",
       "      <td>0.0</td>\n",
       "      <td>1.0</td>\n",
       "      <td>0.0</td>\n",
       "      <td>0.0</td>\n",
       "      <td>NaN</td>\n",
       "      <td>NaN</td>\n",
       "      <td>NaN</td>\n",
       "      <td>29-12-2022</td>\n",
       "    </tr>\n",
       "    <tr>\n",
       "      <th>88885</th>\n",
       "      <td>20221227106494</td>\n",
       "      <td>Accident</td>\n",
       "      <td>ERA23LA095</td>\n",
       "      <td>2022-12-26</td>\n",
       "      <td>Hampton, NH</td>\n",
       "      <td>United States</td>\n",
       "      <td>NaN</td>\n",
       "      <td>NaN</td>\n",
       "      <td>NaN</td>\n",
       "      <td>NaN</td>\n",
       "      <td>...</td>\n",
       "      <td>NaN</td>\n",
       "      <td>NaN</td>\n",
       "      <td>0.0</td>\n",
       "      <td>0.0</td>\n",
       "      <td>0.0</td>\n",
       "      <td>0.0</td>\n",
       "      <td>NaN</td>\n",
       "      <td>NaN</td>\n",
       "      <td>NaN</td>\n",
       "      <td>NaN</td>\n",
       "    </tr>\n",
       "    <tr>\n",
       "      <th>88886</th>\n",
       "      <td>20221227106497</td>\n",
       "      <td>Accident</td>\n",
       "      <td>WPR23LA075</td>\n",
       "      <td>2022-12-26</td>\n",
       "      <td>Payson, AZ</td>\n",
       "      <td>United States</td>\n",
       "      <td>341525N</td>\n",
       "      <td>1112021W</td>\n",
       "      <td>PAN</td>\n",
       "      <td>PAYSON</td>\n",
       "      <td>...</td>\n",
       "      <td>Personal</td>\n",
       "      <td>NaN</td>\n",
       "      <td>0.0</td>\n",
       "      <td>0.0</td>\n",
       "      <td>0.0</td>\n",
       "      <td>1.0</td>\n",
       "      <td>VMC</td>\n",
       "      <td>NaN</td>\n",
       "      <td>NaN</td>\n",
       "      <td>27-12-2022</td>\n",
       "    </tr>\n",
       "    <tr>\n",
       "      <th>88887</th>\n",
       "      <td>20221227106498</td>\n",
       "      <td>Accident</td>\n",
       "      <td>WPR23LA076</td>\n",
       "      <td>2022-12-26</td>\n",
       "      <td>Morgan, UT</td>\n",
       "      <td>United States</td>\n",
       "      <td>NaN</td>\n",
       "      <td>NaN</td>\n",
       "      <td>NaN</td>\n",
       "      <td>NaN</td>\n",
       "      <td>...</td>\n",
       "      <td>Personal</td>\n",
       "      <td>MC CESSNA 210N LLC</td>\n",
       "      <td>0.0</td>\n",
       "      <td>0.0</td>\n",
       "      <td>0.0</td>\n",
       "      <td>0.0</td>\n",
       "      <td>NaN</td>\n",
       "      <td>NaN</td>\n",
       "      <td>NaN</td>\n",
       "      <td>NaN</td>\n",
       "    </tr>\n",
       "    <tr>\n",
       "      <th>88888</th>\n",
       "      <td>20221230106513</td>\n",
       "      <td>Accident</td>\n",
       "      <td>ERA23LA097</td>\n",
       "      <td>2022-12-29</td>\n",
       "      <td>Athens, GA</td>\n",
       "      <td>United States</td>\n",
       "      <td>NaN</td>\n",
       "      <td>NaN</td>\n",
       "      <td>NaN</td>\n",
       "      <td>NaN</td>\n",
       "      <td>...</td>\n",
       "      <td>Personal</td>\n",
       "      <td>NaN</td>\n",
       "      <td>0.0</td>\n",
       "      <td>1.0</td>\n",
       "      <td>0.0</td>\n",
       "      <td>1.0</td>\n",
       "      <td>NaN</td>\n",
       "      <td>NaN</td>\n",
       "      <td>NaN</td>\n",
       "      <td>30-12-2022</td>\n",
       "    </tr>\n",
       "  </tbody>\n",
       "</table>\n",
       "<p>88889 rows × 31 columns</p>\n",
       "</div>"
      ],
      "text/plain": [
       "             Event.Id Investigation.Type Accident.Number  Event.Date  \\\n",
       "0      20001218X45444           Accident      SEA87LA080  1948-10-24   \n",
       "1      20001218X45447           Accident      LAX94LA336  1962-07-19   \n",
       "2      20061025X01555           Accident      NYC07LA005  1974-08-30   \n",
       "3      20001218X45448           Accident      LAX96LA321  1977-06-19   \n",
       "4      20041105X01764           Accident      CHI79FA064  1979-08-02   \n",
       "...               ...                ...             ...         ...   \n",
       "88884  20221227106491           Accident      ERA23LA093  2022-12-26   \n",
       "88885  20221227106494           Accident      ERA23LA095  2022-12-26   \n",
       "88886  20221227106497           Accident      WPR23LA075  2022-12-26   \n",
       "88887  20221227106498           Accident      WPR23LA076  2022-12-26   \n",
       "88888  20221230106513           Accident      ERA23LA097  2022-12-29   \n",
       "\n",
       "              Location        Country   Latitude   Longitude Airport.Code  \\\n",
       "0      MOOSE CREEK, ID  United States        NaN         NaN          NaN   \n",
       "1       BRIDGEPORT, CA  United States        NaN         NaN          NaN   \n",
       "2        Saltville, VA  United States  36.922223  -81.878056          NaN   \n",
       "3           EUREKA, CA  United States        NaN         NaN          NaN   \n",
       "4           Canton, OH  United States        NaN         NaN          NaN   \n",
       "...                ...            ...        ...         ...          ...   \n",
       "88884    Annapolis, MD  United States        NaN         NaN          NaN   \n",
       "88885      Hampton, NH  United States        NaN         NaN          NaN   \n",
       "88886       Payson, AZ  United States    341525N    1112021W          PAN   \n",
       "88887       Morgan, UT  United States        NaN         NaN          NaN   \n",
       "88888       Athens, GA  United States        NaN         NaN          NaN   \n",
       "\n",
       "      Airport.Name  ... Purpose.of.flight         Air.carrier  \\\n",
       "0              NaN  ...          Personal                 NaN   \n",
       "1              NaN  ...          Personal                 NaN   \n",
       "2              NaN  ...          Personal                 NaN   \n",
       "3              NaN  ...          Personal                 NaN   \n",
       "4              NaN  ...          Personal                 NaN   \n",
       "...            ...  ...               ...                 ...   \n",
       "88884          NaN  ...          Personal                 NaN   \n",
       "88885          NaN  ...               NaN                 NaN   \n",
       "88886       PAYSON  ...          Personal                 NaN   \n",
       "88887          NaN  ...          Personal  MC CESSNA 210N LLC   \n",
       "88888          NaN  ...          Personal                 NaN   \n",
       "\n",
       "      Total.Fatal.Injuries Total.Serious.Injuries Total.Minor.Injuries  \\\n",
       "0                      2.0                    0.0                  0.0   \n",
       "1                      4.0                    0.0                  0.0   \n",
       "2                      3.0                    NaN                  NaN   \n",
       "3                      2.0                    0.0                  0.0   \n",
       "4                      1.0                    2.0                  NaN   \n",
       "...                    ...                    ...                  ...   \n",
       "88884                  0.0                    1.0                  0.0   \n",
       "88885                  0.0                    0.0                  0.0   \n",
       "88886                  0.0                    0.0                  0.0   \n",
       "88887                  0.0                    0.0                  0.0   \n",
       "88888                  0.0                    1.0                  0.0   \n",
       "\n",
       "      Total.Uninjured Weather.Condition  Broad.phase.of.flight  \\\n",
       "0                 0.0               UNK                 Cruise   \n",
       "1                 0.0               UNK                Unknown   \n",
       "2                 NaN               IMC                 Cruise   \n",
       "3                 0.0               IMC                 Cruise   \n",
       "4                 0.0               VMC               Approach   \n",
       "...               ...               ...                    ...   \n",
       "88884             0.0               NaN                    NaN   \n",
       "88885             0.0               NaN                    NaN   \n",
       "88886             1.0               VMC                    NaN   \n",
       "88887             0.0               NaN                    NaN   \n",
       "88888             1.0               NaN                    NaN   \n",
       "\n",
       "        Report.Status Publication.Date  \n",
       "0      Probable Cause              NaN  \n",
       "1      Probable Cause       19-09-1996  \n",
       "2      Probable Cause       26-02-2007  \n",
       "3      Probable Cause       12-09-2000  \n",
       "4      Probable Cause       16-04-1980  \n",
       "...               ...              ...  \n",
       "88884             NaN       29-12-2022  \n",
       "88885             NaN              NaN  \n",
       "88886             NaN       27-12-2022  \n",
       "88887             NaN              NaN  \n",
       "88888             NaN       30-12-2022  \n",
       "\n",
       "[88889 rows x 31 columns]"
      ]
     },
     "execution_count": 2,
     "metadata": {},
     "output_type": "execute_result"
    }
   ],
   "source": [
    "df = pd. read_csv('/Users/sabrinasayed/Documents/Flatiron/Phase 1/Phase 1 Project/Phase-1-Project/Data/AviationData.csv', encoding = 'latin1', low_memory = False)\n",
    "df"
   ]
  },
  {
   "cell_type": "markdown",
   "id": "e49397bd",
   "metadata": {},
   "source": [
    "Let's clean up any unnecessary punctuation, spaces, and fix capitalization for column names."
   ]
  },
  {
   "cell_type": "code",
   "execution_count": 3,
   "id": "77d122e0-a18c-4ed8-ac8a-b4f4f9710d47",
   "metadata": {},
   "outputs": [],
   "source": [
    "#Replace periods in all the column names\n",
    "df.columns = df.columns.str.replace('.', ' ', regex=False)"
   ]
  },
  {
   "cell_type": "code",
   "execution_count": 4,
   "id": "8814c5f3",
   "metadata": {},
   "outputs": [],
   "source": [
    "#Fixing the capitalization for column names\n",
    "df.columns = df.columns.str.title()"
   ]
  },
  {
   "cell_type": "code",
   "execution_count": 5,
   "id": "0e20ef40",
   "metadata": {},
   "outputs": [
    {
     "name": "stdout",
     "output_type": "stream",
     "text": [
      "<class 'pandas.core.frame.DataFrame'>\n",
      "RangeIndex: 88889 entries, 0 to 88888\n",
      "Data columns (total 31 columns):\n",
      " #   Column                  Non-Null Count  Dtype  \n",
      "---  ------                  --------------  -----  \n",
      " 0   Event Id                88889 non-null  object \n",
      " 1   Investigation Type      88889 non-null  object \n",
      " 2   Accident Number         88889 non-null  object \n",
      " 3   Event Date              88889 non-null  object \n",
      " 4   Location                88837 non-null  object \n",
      " 5   Country                 88663 non-null  object \n",
      " 6   Latitude                34382 non-null  object \n",
      " 7   Longitude               34373 non-null  object \n",
      " 8   Airport Code            50249 non-null  object \n",
      " 9   Airport Name            52790 non-null  object \n",
      " 10  Injury Severity         87889 non-null  object \n",
      " 11  Aircraft Damage         85695 non-null  object \n",
      " 12  Aircraft Category       32287 non-null  object \n",
      " 13  Registration Number     87572 non-null  object \n",
      " 14  Make                    88826 non-null  object \n",
      " 15  Model                   88797 non-null  object \n",
      " 16  Amateur Built           88787 non-null  object \n",
      " 17  Number Of Engines       82805 non-null  float64\n",
      " 18  Engine Type             81812 non-null  object \n",
      " 19  Far Description         32023 non-null  object \n",
      " 20  Schedule                12582 non-null  object \n",
      " 21  Purpose Of Flight       82697 non-null  object \n",
      " 22  Air Carrier             16648 non-null  object \n",
      " 23  Total Fatal Injuries    77488 non-null  float64\n",
      " 24  Total Serious Injuries  76379 non-null  float64\n",
      " 25  Total Minor Injuries    76956 non-null  float64\n",
      " 26  Total Uninjured         82977 non-null  float64\n",
      " 27  Weather Condition       84397 non-null  object \n",
      " 28  Broad Phase Of Flight   61724 non-null  object \n",
      " 29  Report Status           82508 non-null  object \n",
      " 30  Publication Date        75118 non-null  object \n",
      "dtypes: float64(5), object(26)\n",
      "memory usage: 21.0+ MB\n"
     ]
    }
   ],
   "source": [
    "df.info()"
   ]
  },
  {
   "cell_type": "markdown",
   "id": "947278f4",
   "metadata": {},
   "source": [
    "Let's start exploring each column to identify any duplicate values, impute or drop missing values, and drop unnecessary columns/rows."
   ]
  },
  {
   "cell_type": "code",
   "execution_count": 6,
   "id": "6297f0c7",
   "metadata": {},
   "outputs": [
    {
     "data": {
      "text/plain": [
       "VMC    77303\n",
       "IMC     5976\n",
       "UNK      856\n",
       "Unk      262\n",
       "Name: Weather Condition, dtype: int64"
      ]
     },
     "execution_count": 6,
     "metadata": {},
     "output_type": "execute_result"
    }
   ],
   "source": [
    "df['Weather Condition'].value_counts()"
   ]
  },
  {
   "cell_type": "code",
   "execution_count": 7,
   "id": "da94e70e",
   "metadata": {},
   "outputs": [],
   "source": [
    "#There are two columns for unknowns. Let's consolidate into one.\n",
    "df['Weather Condition'] = df['Weather Condition'].str.replace('Unk','UNK')"
   ]
  },
  {
   "cell_type": "code",
   "execution_count": 8,
   "id": "53eeaa6d",
   "metadata": {},
   "outputs": [
    {
     "data": {
      "text/plain": [
       "VMC    77303\n",
       "IMC     5976\n",
       "UNK     1118\n",
       "Name: Weather Condition, dtype: int64"
      ]
     },
     "execution_count": 8,
     "metadata": {},
     "output_type": "execute_result"
    }
   ],
   "source": [
    "df['Weather Condition'].value_counts()"
   ]
  },
  {
   "cell_type": "code",
   "execution_count": 9,
   "id": "31a5c841",
   "metadata": {},
   "outputs": [],
   "source": [
    "# The publication date for these reports are not useful to us. The event date \n",
    "## is enough for us to track the times of these accidents.\n",
    "df = df.drop('Publication Date', axis = 1)"
   ]
  },
  {
   "cell_type": "code",
   "execution_count": 10,
   "id": "d4cf9bd6",
   "metadata": {},
   "outputs": [
    {
     "name": "stdout",
     "output_type": "stream",
     "text": [
      "<class 'pandas.core.frame.DataFrame'>\n",
      "RangeIndex: 88889 entries, 0 to 88888\n",
      "Data columns (total 30 columns):\n",
      " #   Column                  Non-Null Count  Dtype  \n",
      "---  ------                  --------------  -----  \n",
      " 0   Event Id                88889 non-null  object \n",
      " 1   Investigation Type      88889 non-null  object \n",
      " 2   Accident Number         88889 non-null  object \n",
      " 3   Event Date              88889 non-null  object \n",
      " 4   Location                88837 non-null  object \n",
      " 5   Country                 88663 non-null  object \n",
      " 6   Latitude                34382 non-null  object \n",
      " 7   Longitude               34373 non-null  object \n",
      " 8   Airport Code            50249 non-null  object \n",
      " 9   Airport Name            52790 non-null  object \n",
      " 10  Injury Severity         87889 non-null  object \n",
      " 11  Aircraft Damage         85695 non-null  object \n",
      " 12  Aircraft Category       32287 non-null  object \n",
      " 13  Registration Number     87572 non-null  object \n",
      " 14  Make                    88826 non-null  object \n",
      " 15  Model                   88797 non-null  object \n",
      " 16  Amateur Built           88787 non-null  object \n",
      " 17  Number Of Engines       82805 non-null  float64\n",
      " 18  Engine Type             81812 non-null  object \n",
      " 19  Far Description         32023 non-null  object \n",
      " 20  Schedule                12582 non-null  object \n",
      " 21  Purpose Of Flight       82697 non-null  object \n",
      " 22  Air Carrier             16648 non-null  object \n",
      " 23  Total Fatal Injuries    77488 non-null  float64\n",
      " 24  Total Serious Injuries  76379 non-null  float64\n",
      " 25  Total Minor Injuries    76956 non-null  float64\n",
      " 26  Total Uninjured         82977 non-null  float64\n",
      " 27  Weather Condition       84397 non-null  object \n",
      " 28  Broad Phase Of Flight   61724 non-null  object \n",
      " 29  Report Status           82508 non-null  object \n",
      "dtypes: float64(5), object(25)\n",
      "memory usage: 20.3+ MB\n"
     ]
    }
   ],
   "source": [
    "df.info()"
   ]
  },
  {
   "cell_type": "code",
   "execution_count": 11,
   "id": "51968764",
   "metadata": {},
   "outputs": [
    {
     "data": {
      "text/plain": [
       "NSCH    4474\n",
       "UNK     4099\n",
       "SCHD    4009\n",
       "Name: Schedule, dtype: int64"
      ]
     },
     "execution_count": 11,
     "metadata": {},
     "output_type": "execute_result"
    }
   ],
   "source": [
    "df['Schedule'].value_counts()"
   ]
  },
  {
   "cell_type": "code",
   "execution_count": 12,
   "id": "fa07a7b0",
   "metadata": {},
   "outputs": [],
   "source": [
    "# Since the schedule status for flights does not contribute anyway to safety\n",
    "## of flights we can drop this column.\n",
    "\n",
    "df = df.drop('Schedule', axis = 1)"
   ]
  },
  {
   "cell_type": "code",
   "execution_count": 13,
   "id": "5bd7b89e",
   "metadata": {},
   "outputs": [],
   "source": [
    "#We will be focusing on the make and model of each plane so we can do without\n",
    "#   knowing the Air Carriers.\n",
    "\n",
    "df = df.drop('Air Carrier', axis = 1)"
   ]
  },
  {
   "cell_type": "code",
   "execution_count": 14,
   "id": "a99cbda5",
   "metadata": {},
   "outputs": [
    {
     "data": {
      "text/plain": [
       "True     54516\n",
       "False    34373\n",
       "Name: Longitude, dtype: int64"
      ]
     },
     "execution_count": 14,
     "metadata": {},
     "output_type": "execute_result"
    }
   ],
   "source": [
    "# There's more missing values than existing values for the Latitude and Longitude columns\n",
    "## Since we have the cities, countries, and airports to pinpoint locations of flights,\n",
    "### let's get ride of these 2 columns.\n",
    "\n",
    "df['Latitude'].isna().value_counts()\n",
    "df['Longitude'].isna().value_counts()"
   ]
  },
  {
   "cell_type": "code",
   "execution_count": 15,
   "id": "3adc4199",
   "metadata": {},
   "outputs": [],
   "source": [
    "df = df.drop('Latitude', axis=1)\n",
    "df = df.drop('Longitude', axis=1)"
   ]
  },
  {
   "cell_type": "code",
   "execution_count": 16,
   "id": "950c01d0",
   "metadata": {},
   "outputs": [],
   "source": [
    "# Amateur Built aircrafts are homebuilt aircrafts or kit planes constructed by\n",
    "## individuals for personal use or education rather than professional activity.\n",
    "### We only want professionaly built aircrafts for our purposes, so we can get rid of any\n",
    "#### aircrafts that are Amateur Built.\n",
    "\n",
    "df = df.drop(df[df['Amateur Built'] == 'Yes'].index)"
   ]
  },
  {
   "cell_type": "code",
   "execution_count": 17,
   "id": "dabaed25",
   "metadata": {},
   "outputs": [
    {
     "name": "stdout",
     "output_type": "stream",
     "text": [
      "<class 'pandas.core.frame.DataFrame'>\n",
      "Int64Index: 80414 entries, 0 to 88888\n",
      "Data columns (total 26 columns):\n",
      " #   Column                  Non-Null Count  Dtype  \n",
      "---  ------                  --------------  -----  \n",
      " 0   Event Id                80414 non-null  object \n",
      " 1   Investigation Type      80414 non-null  object \n",
      " 2   Accident Number         80414 non-null  object \n",
      " 3   Event Date              80414 non-null  object \n",
      " 4   Location                80363 non-null  object \n",
      " 5   Country                 80194 non-null  object \n",
      " 6   Airport Code            45083 non-null  object \n",
      " 7   Airport Name            47411 non-null  object \n",
      " 8   Injury Severity         79415 non-null  object \n",
      " 9   Aircraft Damage         77249 non-null  object \n",
      " 10  Aircraft Category       28740 non-null  object \n",
      " 11  Registration Number     79134 non-null  object \n",
      " 12  Make                    80366 non-null  object \n",
      " 13  Model                   80345 non-null  object \n",
      " 14  Amateur Built           80312 non-null  object \n",
      " 15  Number Of Engines       74626 non-null  float64\n",
      " 16  Engine Type             73669 non-null  object \n",
      " 17  Far Description         28497 non-null  object \n",
      " 18  Purpose Of Flight       74278 non-null  object \n",
      " 19  Total Fatal Injuries    70189 non-null  float64\n",
      " 20  Total Serious Injuries  69239 non-null  float64\n",
      " 21  Total Minor Injuries    69762 non-null  float64\n",
      " 22  Total Uninjured         75457 non-null  float64\n",
      " 23  Weather Condition       76002 non-null  object \n",
      " 24  Broad Phase Of Flight   56165 non-null  object \n",
      " 25  Report Status           74381 non-null  object \n",
      "dtypes: float64(5), object(21)\n",
      "memory usage: 16.6+ MB\n"
     ]
    }
   ],
   "source": [
    "df.info()"
   ]
  },
  {
   "cell_type": "code",
   "execution_count": 18,
   "id": "fb5bf969",
   "metadata": {},
   "outputs": [
    {
     "data": {
      "text/plain": [
       "Reciprocating      61664\n",
       "Turbo Shaft         3581\n",
       "Turbo Prop          3314\n",
       "Turbo Fan           2474\n",
       "Unknown             1901\n",
       "Turbo Jet            690\n",
       "None                  18\n",
       "Geared Turbofan       12\n",
       "Electric              10\n",
       "LR                     2\n",
       "NONE                   1\n",
       "Hybrid Rocket          1\n",
       "UNK                    1\n",
       "Name: Engine Type, dtype: int64"
      ]
     },
     "execution_count": 18,
     "metadata": {},
     "output_type": "execute_result"
    }
   ],
   "source": [
    "df['Engine Type'].value_counts()"
   ]
  },
  {
   "cell_type": "markdown",
   "id": "5207446a",
   "metadata": {},
   "source": [
    "Let's take a deep dive into these engine types to figure out which engines are suitable for our corporate and business aviation purposes.\n",
    "\n",
    "1. Reciprocating (a.k.a. piston) engines are used for general aviation because they're affordable, robust, and have good fuel efficiency. They're also used for corporate aviation and are best for flying at lower altitudes. **We'll keep this one!**\n",
    "\n",
    "2. Turbo Shaft engines are used in helicopters and large commercial aircrafts. **We'll keep this!**\n",
    "\n",
    "3. Turbo Prop engines are a hybrid of piston and jet ingines that are used in light aircrafts. They're known for their fuel efficiency on short and medium-haul flights. They offer good performance at low altitudes and speeds, and are ideal fo take-off and landing operations at smaller airports. **We'll keep this!**\n",
    "\n",
    "4. Turbofan engines are commonly used in corporate aircrafts including light to mid-size business jets, and are generally popular for commercial aircrafts. They are known for being compact and fuel efficient. **We'll keep this!**\n",
    "\n",
    "5. Turbo Jet engines are commonly used in commercial aircrafts and private jets. They are capable of high speeds and take up little space. **We'll keep this!**\n",
    "\n",
    "6. Geared Turbo Fans are commonly used in commercial aircrafts, a sub-type of Turbofan engines. They are efficient with smaller and faster tubrines. **We'll keep this!**\n",
    "\n",
    "7. LR engines, or long range engines, are developed for ultra-long-haul routes such as from L.A. to Singapore. This will be useful for our executives. **We'll keep this!**\n",
    "\n",
    "8. Electric engines are relatively newer to the industry and are mainly used for training flights. They're not yet a common use for the commercial industry though many companies are working on and investing in building these aircrafts. We can drop these values and luckily there's only 10 values to drop. \n",
    "\n",
    "9. Hybrid rocket engines are used in rockets, so for obvious reasons we can drop that."
   ]
  },
  {
   "cell_type": "code",
   "execution_count": 19,
   "id": "b85fd5fd",
   "metadata": {},
   "outputs": [
    {
     "data": {
      "text/plain": [
       "Reciprocating      61664\n",
       "Turbo Shaft         3581\n",
       "Turbo Prop          3314\n",
       "Turbo Fan           2474\n",
       "Unknown             1901\n",
       "Turbo Jet            690\n",
       "None                  18\n",
       "Geared Turbofan       12\n",
       "LR                     2\n",
       "NONE                   1\n",
       "UNK                    1\n",
       "Name: Engine Type, dtype: int64"
      ]
     },
     "execution_count": 19,
     "metadata": {},
     "output_type": "execute_result"
    }
   ],
   "source": [
    "df.drop(df[df['Engine Type'] == 'Hybrid Rocket'].index, inplace = True)\n",
    "df.drop(df[df['Engine Type'] == 'Electric'].index, inplace = True)\n",
    "\n",
    "df['Engine Type'].value_counts()"
   ]
  },
  {
   "cell_type": "markdown",
   "id": "8aa56611",
   "metadata": {},
   "source": [
    "Now let's consolidate the unknown values."
   ]
  },
  {
   "cell_type": "code",
   "execution_count": 20,
   "id": "9daf38b2",
   "metadata": {},
   "outputs": [
    {
     "data": {
      "text/plain": [
       "Reciprocating      61664\n",
       "Turbo Shaft         3581\n",
       "Turbo Prop          3314\n",
       "Turbo Fan           2474\n",
       "Unknown             1921\n",
       "Turbo Jet            690\n",
       "Geared Turbofan       12\n",
       "LR                     2\n",
       "Name: Engine Type, dtype: int64"
      ]
     },
     "execution_count": 20,
     "metadata": {},
     "output_type": "execute_result"
    }
   ],
   "source": [
    "df['Engine Type'] = df['Engine Type'].str.replace('UNK', 'Unknown')\n",
    "df['Engine Type'] = df['Engine Type'].str.replace('NONE', 'Unknown')\n",
    "df['Engine Type'] = df['Engine Type'].str.replace('None', 'Unknown')\n",
    "df['Engine Type'].value_counts()"
   ]
  },
  {
   "cell_type": "code",
   "execution_count": 21,
   "id": "96a7a36b",
   "metadata": {},
   "outputs": [
    {
     "data": {
      "text/plain": [
       "False    73658\n",
       "True      6745\n",
       "Name: Engine Type, dtype: int64"
      ]
     },
     "execution_count": 21,
     "metadata": {},
     "output_type": "execute_result"
    }
   ],
   "source": [
    "# Let's replace the missing values as Unknown.\n",
    "df['Engine Type'].isna().value_counts()\n"
   ]
  },
  {
   "cell_type": "code",
   "execution_count": 22,
   "id": "a21f541b",
   "metadata": {},
   "outputs": [
    {
     "data": {
      "text/plain": [
       "Reciprocating      61664\n",
       "Unknown             8666\n",
       "Turbo Shaft         3581\n",
       "Turbo Prop          3314\n",
       "Turbo Fan           2474\n",
       "Turbo Jet            690\n",
       "Geared Turbofan       12\n",
       "LR                     2\n",
       "Name: Engine Type, dtype: int64"
      ]
     },
     "execution_count": 22,
     "metadata": {},
     "output_type": "execute_result"
    }
   ],
   "source": [
    "df['Engine Type'] = df['Engine Type'].fillna('Unknown')\n",
    "df['Engine Type'].value_counts()"
   ]
  },
  {
   "cell_type": "code",
   "execution_count": 23,
   "id": "0b432362",
   "metadata": {},
   "outputs": [
    {
     "name": "stdout",
     "output_type": "stream",
     "text": [
      "<class 'pandas.core.frame.DataFrame'>\n",
      "Int64Index: 80403 entries, 0 to 88888\n",
      "Data columns (total 26 columns):\n",
      " #   Column                  Non-Null Count  Dtype  \n",
      "---  ------                  --------------  -----  \n",
      " 0   Event Id                80403 non-null  object \n",
      " 1   Investigation Type      80403 non-null  object \n",
      " 2   Accident Number         80403 non-null  object \n",
      " 3   Event Date              80403 non-null  object \n",
      " 4   Location                80352 non-null  object \n",
      " 5   Country                 80183 non-null  object \n",
      " 6   Airport Code            45078 non-null  object \n",
      " 7   Airport Name            47405 non-null  object \n",
      " 8   Injury Severity         79406 non-null  object \n",
      " 9   Aircraft Damage         77238 non-null  object \n",
      " 10  Aircraft Category       28729 non-null  object \n",
      " 11  Registration Number     79123 non-null  object \n",
      " 12  Make                    80355 non-null  object \n",
      " 13  Model                   80334 non-null  object \n",
      " 14  Amateur Built           80301 non-null  object \n",
      " 15  Number Of Engines       74617 non-null  float64\n",
      " 16  Engine Type             80403 non-null  object \n",
      " 17  Far Description         28486 non-null  object \n",
      " 18  Purpose Of Flight       74269 non-null  object \n",
      " 19  Total Fatal Injuries    70178 non-null  float64\n",
      " 20  Total Serious Injuries  69228 non-null  float64\n",
      " 21  Total Minor Injuries    69751 non-null  float64\n",
      " 22  Total Uninjured         75446 non-null  float64\n",
      " 23  Weather Condition       75991 non-null  object \n",
      " 24  Broad Phase Of Flight   56165 non-null  object \n",
      " 25  Report Status           74372 non-null  object \n",
      "dtypes: float64(5), object(21)\n",
      "memory usage: 16.6+ MB\n"
     ]
    }
   ],
   "source": [
    "df.info()"
   ]
  },
  {
   "cell_type": "code",
   "execution_count": 24,
   "id": "cf816aac",
   "metadata": {},
   "outputs": [],
   "source": [
    "# We won't need the airport codes since we have airport names.\n",
    "df.drop('Airport Code', axis=1, inplace = True)"
   ]
  },
  {
   "cell_type": "code",
   "execution_count": 25,
   "id": "a0387285",
   "metadata": {},
   "outputs": [],
   "source": [
    "# Let's replace missing Location value as Unknown.\n",
    "df['Location'].isna().value_counts()\n",
    "df['Location'] = df['Location'].fillna('Unknown')"
   ]
  },
  {
   "cell_type": "code",
   "execution_count": 26,
   "id": "0ea97322",
   "metadata": {},
   "outputs": [
    {
     "name": "stdout",
     "output_type": "stream",
     "text": [
      "<class 'pandas.core.frame.DataFrame'>\n",
      "Int64Index: 80403 entries, 0 to 88888\n",
      "Data columns (total 25 columns):\n",
      " #   Column                  Non-Null Count  Dtype  \n",
      "---  ------                  --------------  -----  \n",
      " 0   Event Id                80403 non-null  object \n",
      " 1   Investigation Type      80403 non-null  object \n",
      " 2   Accident Number         80403 non-null  object \n",
      " 3   Event Date              80403 non-null  object \n",
      " 4   Location                80403 non-null  object \n",
      " 5   Country                 80183 non-null  object \n",
      " 6   Airport Name            47405 non-null  object \n",
      " 7   Injury Severity         79406 non-null  object \n",
      " 8   Aircraft Damage         77238 non-null  object \n",
      " 9   Aircraft Category       28729 non-null  object \n",
      " 10  Registration Number     79123 non-null  object \n",
      " 11  Make                    80355 non-null  object \n",
      " 12  Model                   80334 non-null  object \n",
      " 13  Amateur Built           80301 non-null  object \n",
      " 14  Number Of Engines       74617 non-null  float64\n",
      " 15  Engine Type             80403 non-null  object \n",
      " 16  Far Description         28486 non-null  object \n",
      " 17  Purpose Of Flight       74269 non-null  object \n",
      " 18  Total Fatal Injuries    70178 non-null  float64\n",
      " 19  Total Serious Injuries  69228 non-null  float64\n",
      " 20  Total Minor Injuries    69751 non-null  float64\n",
      " 21  Total Uninjured         75446 non-null  float64\n",
      " 22  Weather Condition       75991 non-null  object \n",
      " 23  Broad Phase Of Flight   56165 non-null  object \n",
      " 24  Report Status           74372 non-null  object \n",
      "dtypes: float64(5), object(20)\n",
      "memory usage: 15.9+ MB\n"
     ]
    }
   ],
   "source": [
    "df.info()"
   ]
  },
  {
   "cell_type": "code",
   "execution_count": 27,
   "id": "cefc77fc",
   "metadata": {},
   "outputs": [
    {
     "data": {
      "text/plain": [
       "United States     73916\n",
       "Brazil              369\n",
       "Mexico              348\n",
       "Canada              347\n",
       "United Kingdom      336\n",
       "                  ...  \n",
       "Corsica               1\n",
       "Obyan                 1\n",
       "Gibraltar             1\n",
       "Montserrat            1\n",
       "BLOCK 651A            1\n",
       "Name: Country, Length: 218, dtype: int64"
      ]
     },
     "execution_count": 27,
     "metadata": {},
     "output_type": "execute_result"
    }
   ],
   "source": [
    "# Let's replace any missing Country values with Unknown\n",
    "df['Country'] = df['Country'].fillna('Unknown')\n",
    "df['Country'].value_counts()"
   ]
  },
  {
   "cell_type": "code",
   "execution_count": 29,
   "id": "688fa98c",
   "metadata": {},
   "outputs": [],
   "source": [
    "# Event Date values are currently an object type, let's transform them into datetime types\n",
    "df['Event Date'] = pd.to_datetime(df['Event Date'])"
   ]
  },
  {
   "cell_type": "code",
   "execution_count": 30,
   "id": "16de3b2b",
   "metadata": {},
   "outputs": [],
   "source": [
    "# Injury Severity has Fatal values with different names. Let's rename any values that \n",
    "# start with Fatal to just be called 'Fatal'.\n",
    "\n",
    "df['Injury Severity'] = df['Injury Severity'].apply(lambda x: 'Fatal' if str(x).startswith('Fatal') else x)"
   ]
  },
  {
   "cell_type": "code",
   "execution_count": 31,
   "id": "d911e277",
   "metadata": {},
   "outputs": [
    {
     "data": {
      "text/plain": [
       "Non-Fatal      61307\n",
       "Fatal          15466\n",
       "Incident        2194\n",
       "Minor            196\n",
       "Serious          153\n",
       "Unavailable       90\n",
       "Name: Injury Severity, dtype: int64"
      ]
     },
     "execution_count": 31,
     "metadata": {},
     "output_type": "execute_result"
    }
   ],
   "source": [
    "df['Injury Severity'].value_counts()"
   ]
  },
  {
   "cell_type": "code",
   "execution_count": 32,
   "id": "502d5912",
   "metadata": {},
   "outputs": [
    {
     "data": {
      "text/plain": [
       "Non-Fatal      61307\n",
       "Fatal          15466\n",
       "Incident        2194\n",
       "Unavailable     1087\n",
       "Minor            196\n",
       "Serious          153\n",
       "Name: Injury Severity, dtype: int64"
      ]
     },
     "execution_count": 32,
     "metadata": {},
     "output_type": "execute_result"
    }
   ],
   "source": [
    "# Injury Severity has missing values with different names, let's call them all 'Unavailable'.\n",
    "df['Injury Severity'].fillna('Unavailable', inplace=True)\n",
    "df['Injury Severity'].value_counts()\n"
   ]
  },
  {
   "cell_type": "code",
   "execution_count": 33,
   "id": "870e67a2",
   "metadata": {},
   "outputs": [
    {
     "data": {
      "text/plain": [
       "Airplane             24429\n",
       "Helicopter            3295\n",
       "Glider                 473\n",
       "Balloon                229\n",
       "Weight-Shift           139\n",
       "Powered Parachute       83\n",
       "Gyrocraft               32\n",
       "Ultralight              18\n",
       "Unknown                 11\n",
       "WSFT                     9\n",
       "Powered-Lift             5\n",
       "Blimp                    4\n",
       "UNK                      2\n",
       "Name: Aircraft Category, dtype: int64"
      ]
     },
     "execution_count": 33,
     "metadata": {},
     "output_type": "execute_result"
    }
   ],
   "source": [
    "# There are many types of aircrafts but for our intents and purposes we only want to see airplanes, so let's remove anything that isn't an airplane.\n",
    "df['Aircraft Category'].value_counts()\n"
   ]
  },
  {
   "cell_type": "code",
   "execution_count": 34,
   "id": "f8f2ffc3",
   "metadata": {},
   "outputs": [],
   "source": [
    "df = df.drop(df[(df['Aircraft Category'] != 'Airplane')].index)"
   ]
  },
  {
   "cell_type": "code",
   "execution_count": 35,
   "id": "4029c087",
   "metadata": {},
   "outputs": [
    {
     "data": {
      "text/plain": [
       "Airplane    24429\n",
       "Name: Aircraft Category, dtype: int64"
      ]
     },
     "execution_count": 35,
     "metadata": {},
     "output_type": "execute_result"
    }
   ],
   "source": [
    "df['Aircraft Category'].value_counts()"
   ]
  },
  {
   "cell_type": "code",
   "execution_count": 36,
   "id": "7487ba39",
   "metadata": {},
   "outputs": [
    {
     "name": "stdout",
     "output_type": "stream",
     "text": [
      "<class 'pandas.core.frame.DataFrame'>\n",
      "Int64Index: 24429 entries, 5 to 88886\n",
      "Data columns (total 25 columns):\n",
      " #   Column                  Non-Null Count  Dtype         \n",
      "---  ------                  --------------  -----         \n",
      " 0   Event Id                24429 non-null  object        \n",
      " 1   Investigation Type      24429 non-null  object        \n",
      " 2   Accident Number         24429 non-null  object        \n",
      " 3   Event Date              24429 non-null  datetime64[ns]\n",
      " 4   Location                24429 non-null  object        \n",
      " 5   Country                 24429 non-null  object        \n",
      " 6   Airport Name            16011 non-null  object        \n",
      " 7   Injury Severity         24429 non-null  object        \n",
      " 8   Aircraft Damage         23155 non-null  object        \n",
      " 9   Aircraft Category       24429 non-null  object        \n",
      " 10  Registration Number     24216 non-null  object        \n",
      " 11  Make                    24426 non-null  object        \n",
      " 12  Model                   24411 non-null  object        \n",
      " 13  Amateur Built           24412 non-null  object        \n",
      " 14  Number Of Engines       21867 non-null  float64       \n",
      " 15  Engine Type             24429 non-null  object        \n",
      " 16  Far Description         23949 non-null  object        \n",
      " 17  Purpose Of Flight       20734 non-null  object        \n",
      " 18  Total Fatal Injuries    21650 non-null  float64       \n",
      " 19  Total Serious Injuries  21567 non-null  float64       \n",
      " 20  Total Minor Injuries    21851 non-null  float64       \n",
      " 21  Total Uninjured         23700 non-null  float64       \n",
      " 22  Weather Condition       21439 non-null  object        \n",
      " 23  Broad Phase Of Flight   5799 non-null   object        \n",
      " 24  Report Status           19767 non-null  object        \n",
      "dtypes: datetime64[ns](1), float64(5), object(19)\n",
      "memory usage: 4.8+ MB\n"
     ]
    }
   ],
   "source": [
    "# Let's look at our overall info ans see what else is left.\n",
    "df.info()"
   ]
  },
  {
   "cell_type": "code",
   "execution_count": 37,
   "id": "342135c5",
   "metadata": {},
   "outputs": [
    {
     "name": "stdout",
     "output_type": "stream",
     "text": [
      "Substantial    18981\n",
      "Destroyed       3146\n",
      "Minor            931\n",
      "Unknown           97\n",
      "Name: Aircraft Damage, dtype: int64\n",
      "False    23155\n",
      "True      1274\n",
      "Name: Aircraft Damage, dtype: int64\n"
     ]
    },
    {
     "data": {
      "text/plain": [
       "Substantial    18981\n",
       "Destroyed       3146\n",
       "Minor            931\n",
       "Name: Aircraft Damage, dtype: int64"
      ]
     },
     "execution_count": 37,
     "metadata": {},
     "output_type": "execute_result"
    }
   ],
   "source": [
    "# Aircraft Damage has missing values, lets drop them since there's too few to affect our analysis.\n",
    "\n",
    "print(df['Aircraft Damage'].value_counts())\n",
    "print(df['Aircraft Damage'].isna().value_counts())\n",
    "\n",
    "\n",
    "df['Aircraft Damage'] = df['Aircraft Damage'].fillna('Unknown')\n",
    "df = df.drop(df[df['Aircraft Damage'] == 'Unknown'].index)\n",
    "df['Aircraft Damage'].value_counts()\n"
   ]
  },
  {
   "cell_type": "code",
   "execution_count": 38,
   "id": "e566118e",
   "metadata": {},
   "outputs": [
    {
     "data": {
      "text/plain": [
       "Personal                     13258\n",
       "Instructional                 3088\n",
       "Aerial Application            1063\n",
       "Unknown                        770\n",
       "Business                       749\n",
       "Positioning                    333\n",
       "Aerial Observation             169\n",
       "Ferry                          162\n",
       "Skydiving                      162\n",
       "Other Work Use                 151\n",
       "Executive/corporate            140\n",
       "Flight Test                    114\n",
       "Banner Tow                      89\n",
       "Public Aircraft - Federal       51\n",
       "Air Race show                   45\n",
       "Public Aircraft                 40\n",
       "Glider Tow                      35\n",
       "Public Aircraft - State         24\n",
       "Firefighting                    16\n",
       "Public Aircraft - Local         12\n",
       "ASHO                             5\n",
       "Air Race/show                    4\n",
       "PUBS                             3\n",
       "Air Drop                         3\n",
       "Name: Purpose Of Flight, dtype: int64"
      ]
     },
     "execution_count": 38,
     "metadata": {},
     "output_type": "execute_result"
    }
   ],
   "source": [
    "# Let's look into the Purpose of Flight column.\n",
    "## Let's get rid of the values that won't be useful to us for business and corporate travel\n",
    "df['Purpose Of Flight'].value_counts()\n"
   ]
  },
  {
   "cell_type": "code",
   "execution_count": 48,
   "id": "32dd87a1",
   "metadata": {},
   "outputs": [],
   "source": [
    "df = df.drop(df[(df['Purpose Of Flight'] != 'Business') & (df['Purpose Of Flight'] != 'Positioning') & (df['Purpose Of Flight'] != 'Executive/corporate') & (df['Purpose Of Flight'] != 'Flight Test') & (df['Purpose Of Flight'] != 'Other Work Use')].index)"
   ]
  },
  {
   "cell_type": "code",
   "execution_count": 49,
   "id": "561e6208",
   "metadata": {},
   "outputs": [
    {
     "data": {
      "text/plain": [
       "Business               748\n",
       "Positioning            332\n",
       "Other Work Use         151\n",
       "Executive/corporate    140\n",
       "Flight Test            114\n",
       "Name: Purpose Of Flight, dtype: int64"
      ]
     },
     "execution_count": 49,
     "metadata": {},
     "output_type": "execute_result"
    }
   ],
   "source": [
    "df['Purpose Of Flight'].value_counts()"
   ]
  },
  {
   "cell_type": "code",
   "execution_count": 50,
   "id": "c61e7933",
   "metadata": {},
   "outputs": [
    {
     "ename": "KeyError",
     "evalue": "\"['Registration Number'] not found in axis\"",
     "output_type": "error",
     "traceback": [
      "\u001b[0;31m---------------------------------------------------------------------------\u001b[0m",
      "\u001b[0;31mKeyError\u001b[0m                                  Traceback (most recent call last)",
      "\u001b[0;32m<ipython-input-50-b4c383a34414>\u001b[0m in \u001b[0;36m<module>\u001b[0;34m\u001b[0m\n\u001b[1;32m      1\u001b[0m \u001b[0;31m# We'll get rid of registration number since that won't be useful to our analysis\u001b[0m\u001b[0;34m\u001b[0m\u001b[0;34m\u001b[0m\u001b[0;34m\u001b[0m\u001b[0m\n\u001b[0;32m----> 2\u001b[0;31m \u001b[0mdf\u001b[0m \u001b[0;34m=\u001b[0m \u001b[0mdf\u001b[0m\u001b[0;34m.\u001b[0m\u001b[0mdrop\u001b[0m\u001b[0;34m(\u001b[0m\u001b[0;34m[\u001b[0m\u001b[0;34m'Registration Number'\u001b[0m\u001b[0;34m]\u001b[0m\u001b[0;34m,\u001b[0m \u001b[0maxis\u001b[0m \u001b[0;34m=\u001b[0m\u001b[0;36m1\u001b[0m\u001b[0;34m)\u001b[0m\u001b[0;34m\u001b[0m\u001b[0;34m\u001b[0m\u001b[0m\n\u001b[0m",
      "\u001b[0;32m/opt/anaconda3/envs/learn-env/lib/python3.8/site-packages/pandas/core/frame.py\u001b[0m in \u001b[0;36mdrop\u001b[0;34m(self, labels, axis, index, columns, level, inplace, errors)\u001b[0m\n\u001b[1;32m   4161\u001b[0m                 \u001b[0mweight\u001b[0m  \u001b[0;36m1.0\u001b[0m     \u001b[0;36m0.8\u001b[0m\u001b[0;34m\u001b[0m\u001b[0;34m\u001b[0m\u001b[0m\n\u001b[1;32m   4162\u001b[0m         \"\"\"\n\u001b[0;32m-> 4163\u001b[0;31m         return super().drop(\n\u001b[0m\u001b[1;32m   4164\u001b[0m             \u001b[0mlabels\u001b[0m\u001b[0;34m=\u001b[0m\u001b[0mlabels\u001b[0m\u001b[0;34m,\u001b[0m\u001b[0;34m\u001b[0m\u001b[0;34m\u001b[0m\u001b[0m\n\u001b[1;32m   4165\u001b[0m             \u001b[0maxis\u001b[0m\u001b[0;34m=\u001b[0m\u001b[0maxis\u001b[0m\u001b[0;34m,\u001b[0m\u001b[0;34m\u001b[0m\u001b[0;34m\u001b[0m\u001b[0m\n",
      "\u001b[0;32m/opt/anaconda3/envs/learn-env/lib/python3.8/site-packages/pandas/core/generic.py\u001b[0m in \u001b[0;36mdrop\u001b[0;34m(self, labels, axis, index, columns, level, inplace, errors)\u001b[0m\n\u001b[1;32m   3885\u001b[0m         \u001b[0;32mfor\u001b[0m \u001b[0maxis\u001b[0m\u001b[0;34m,\u001b[0m \u001b[0mlabels\u001b[0m \u001b[0;32min\u001b[0m \u001b[0maxes\u001b[0m\u001b[0;34m.\u001b[0m\u001b[0mitems\u001b[0m\u001b[0;34m(\u001b[0m\u001b[0;34m)\u001b[0m\u001b[0;34m:\u001b[0m\u001b[0;34m\u001b[0m\u001b[0;34m\u001b[0m\u001b[0m\n\u001b[1;32m   3886\u001b[0m             \u001b[0;32mif\u001b[0m \u001b[0mlabels\u001b[0m \u001b[0;32mis\u001b[0m \u001b[0;32mnot\u001b[0m \u001b[0;32mNone\u001b[0m\u001b[0;34m:\u001b[0m\u001b[0;34m\u001b[0m\u001b[0;34m\u001b[0m\u001b[0m\n\u001b[0;32m-> 3887\u001b[0;31m                 \u001b[0mobj\u001b[0m \u001b[0;34m=\u001b[0m \u001b[0mobj\u001b[0m\u001b[0;34m.\u001b[0m\u001b[0m_drop_axis\u001b[0m\u001b[0;34m(\u001b[0m\u001b[0mlabels\u001b[0m\u001b[0;34m,\u001b[0m \u001b[0maxis\u001b[0m\u001b[0;34m,\u001b[0m \u001b[0mlevel\u001b[0m\u001b[0;34m=\u001b[0m\u001b[0mlevel\u001b[0m\u001b[0;34m,\u001b[0m \u001b[0merrors\u001b[0m\u001b[0;34m=\u001b[0m\u001b[0merrors\u001b[0m\u001b[0;34m)\u001b[0m\u001b[0;34m\u001b[0m\u001b[0;34m\u001b[0m\u001b[0m\n\u001b[0m\u001b[1;32m   3888\u001b[0m \u001b[0;34m\u001b[0m\u001b[0m\n\u001b[1;32m   3889\u001b[0m         \u001b[0;32mif\u001b[0m \u001b[0minplace\u001b[0m\u001b[0;34m:\u001b[0m\u001b[0;34m\u001b[0m\u001b[0;34m\u001b[0m\u001b[0m\n",
      "\u001b[0;32m/opt/anaconda3/envs/learn-env/lib/python3.8/site-packages/pandas/core/generic.py\u001b[0m in \u001b[0;36m_drop_axis\u001b[0;34m(self, labels, axis, level, errors)\u001b[0m\n\u001b[1;32m   3919\u001b[0m                 \u001b[0mnew_axis\u001b[0m \u001b[0;34m=\u001b[0m \u001b[0maxis\u001b[0m\u001b[0;34m.\u001b[0m\u001b[0mdrop\u001b[0m\u001b[0;34m(\u001b[0m\u001b[0mlabels\u001b[0m\u001b[0;34m,\u001b[0m \u001b[0mlevel\u001b[0m\u001b[0;34m=\u001b[0m\u001b[0mlevel\u001b[0m\u001b[0;34m,\u001b[0m \u001b[0merrors\u001b[0m\u001b[0;34m=\u001b[0m\u001b[0merrors\u001b[0m\u001b[0;34m)\u001b[0m\u001b[0;34m\u001b[0m\u001b[0;34m\u001b[0m\u001b[0m\n\u001b[1;32m   3920\u001b[0m             \u001b[0;32melse\u001b[0m\u001b[0;34m:\u001b[0m\u001b[0;34m\u001b[0m\u001b[0;34m\u001b[0m\u001b[0m\n\u001b[0;32m-> 3921\u001b[0;31m                 \u001b[0mnew_axis\u001b[0m \u001b[0;34m=\u001b[0m \u001b[0maxis\u001b[0m\u001b[0;34m.\u001b[0m\u001b[0mdrop\u001b[0m\u001b[0;34m(\u001b[0m\u001b[0mlabels\u001b[0m\u001b[0;34m,\u001b[0m \u001b[0merrors\u001b[0m\u001b[0;34m=\u001b[0m\u001b[0merrors\u001b[0m\u001b[0;34m)\u001b[0m\u001b[0;34m\u001b[0m\u001b[0;34m\u001b[0m\u001b[0m\n\u001b[0m\u001b[1;32m   3922\u001b[0m             \u001b[0mresult\u001b[0m \u001b[0;34m=\u001b[0m \u001b[0mself\u001b[0m\u001b[0;34m.\u001b[0m\u001b[0mreindex\u001b[0m\u001b[0;34m(\u001b[0m\u001b[0;34m**\u001b[0m\u001b[0;34m{\u001b[0m\u001b[0maxis_name\u001b[0m\u001b[0;34m:\u001b[0m \u001b[0mnew_axis\u001b[0m\u001b[0;34m}\u001b[0m\u001b[0;34m)\u001b[0m\u001b[0;34m\u001b[0m\u001b[0;34m\u001b[0m\u001b[0m\n\u001b[1;32m   3923\u001b[0m \u001b[0;34m\u001b[0m\u001b[0m\n",
      "\u001b[0;32m/opt/anaconda3/envs/learn-env/lib/python3.8/site-packages/pandas/core/indexes/base.py\u001b[0m in \u001b[0;36mdrop\u001b[0;34m(self, labels, errors)\u001b[0m\n\u001b[1;32m   5280\u001b[0m         \u001b[0;32mif\u001b[0m \u001b[0mmask\u001b[0m\u001b[0;34m.\u001b[0m\u001b[0many\u001b[0m\u001b[0;34m(\u001b[0m\u001b[0;34m)\u001b[0m\u001b[0;34m:\u001b[0m\u001b[0;34m\u001b[0m\u001b[0;34m\u001b[0m\u001b[0m\n\u001b[1;32m   5281\u001b[0m             \u001b[0;32mif\u001b[0m \u001b[0merrors\u001b[0m \u001b[0;34m!=\u001b[0m \u001b[0;34m\"ignore\"\u001b[0m\u001b[0;34m:\u001b[0m\u001b[0;34m\u001b[0m\u001b[0;34m\u001b[0m\u001b[0m\n\u001b[0;32m-> 5282\u001b[0;31m                 \u001b[0;32mraise\u001b[0m \u001b[0mKeyError\u001b[0m\u001b[0;34m(\u001b[0m\u001b[0;34mf\"{labels[mask]} not found in axis\"\u001b[0m\u001b[0;34m)\u001b[0m\u001b[0;34m\u001b[0m\u001b[0;34m\u001b[0m\u001b[0m\n\u001b[0m\u001b[1;32m   5283\u001b[0m             \u001b[0mindexer\u001b[0m \u001b[0;34m=\u001b[0m \u001b[0mindexer\u001b[0m\u001b[0;34m[\u001b[0m\u001b[0;34m~\u001b[0m\u001b[0mmask\u001b[0m\u001b[0;34m]\u001b[0m\u001b[0;34m\u001b[0m\u001b[0;34m\u001b[0m\u001b[0m\n\u001b[1;32m   5284\u001b[0m         \u001b[0;32mreturn\u001b[0m \u001b[0mself\u001b[0m\u001b[0;34m.\u001b[0m\u001b[0mdelete\u001b[0m\u001b[0;34m(\u001b[0m\u001b[0mindexer\u001b[0m\u001b[0;34m)\u001b[0m\u001b[0;34m\u001b[0m\u001b[0;34m\u001b[0m\u001b[0m\n",
      "\u001b[0;31mKeyError\u001b[0m: \"['Registration Number'] not found in axis\""
     ]
    }
   ],
   "source": [
    "# We'll get rid of registration number since that won't be useful to our analysis\n",
    "df = df.drop(['Registration Number'], axis =1)"
   ]
  },
  {
   "cell_type": "code",
   "execution_count": 52,
   "id": "4c74a35a",
   "metadata": {},
   "outputs": [],
   "source": [
    "# Models has some missing values that we'll drop since there aren't many and have unknown Models will not be helpful in offering a final recommendation.\n",
    "df['Model'].isna().value_counts()\n",
    "df.dropna(subset= ['Model'], inplace=True)"
   ]
  },
  {
   "cell_type": "code",
   "execution_count": 53,
   "id": "01e8f766",
   "metadata": {},
   "outputs": [
    {
     "data": {
      "text/plain": [
       "False    1485\n",
       "Name: Model, dtype: int64"
      ]
     },
     "execution_count": 53,
     "metadata": {},
     "output_type": "execute_result"
    }
   ],
   "source": [
    "df['Model'].isna().value_counts()"
   ]
  },
  {
   "cell_type": "code",
   "execution_count": 54,
   "id": "1acf7d69",
   "metadata": {},
   "outputs": [],
   "source": [
    "# We need to clean up the Make column to get rid of duplicate Make types caused by different cases and white space.\n",
    "df['Make'].value_counts()\n",
    "df['Make'] = df['Make'].replace('CESSNA', 'Cessna')\n",
    "df['Make'] = df['Make'].replace('PIPER', 'Piper')\n",
    "df['Make'] = df['Make'].replace('BEECH', 'Beech')\n",
    "df['Make'] = df['Make'].str.strip(' ')\n",
    "df[['Make', 'Model']].value_counts()\n",
    "df['Make'] = df['Make'].str.title()\n",
    "df['Make'].value_counts()\n",
    "\n",
    "#Let's also drop any missing values in this column\n",
    "df.dropna(subset= ['Make'], inplace=True)\n",
    "\n"
   ]
  },
  {
   "cell_type": "code",
   "execution_count": 55,
   "id": "e3e66a1c",
   "metadata": {},
   "outputs": [
    {
     "data": {
      "text/plain": [
       "False    1485\n",
       "Name: Make, dtype: int64"
      ]
     },
     "execution_count": 55,
     "metadata": {},
     "output_type": "execute_result"
    }
   ],
   "source": [
    "df['Make'].isna().value_counts()\n"
   ]
  },
  {
   "cell_type": "code",
   "execution_count": 57,
   "id": "57863c63",
   "metadata": {},
   "outputs": [
    {
     "data": {
      "text/plain": [
       "<AxesSubplot:xlabel='Make', ylabel='Total Fatal Injuries'>"
      ]
     },
     "execution_count": 57,
     "metadata": {},
     "output_type": "execute_result"
    },
    {
     "data": {
      "image/png": "[encoded data removed]",
      "text/plain": [
       "<Figure size 1440x720 with 1 Axes>"
      ]
     },
     "metadata": {
      "needs_background": "light"
     },
     "output_type": "display_data"
    }
   ],
   "source": [
    "# I wanted to see what the relationship between Total Fatal Injuries and Make looks like.\n",
    "## This scatter plot shows that there's almost too many Makes to be able to distinguish any type of pattern\n",
    "### It seems it will be important to cut down on unneccessary Makes and Models, and then create a Make-Model column\n",
    "#### to have unique identifiers that will stand out and reveal more to us\n",
    "\n",
    "fig, ax = plt.subplots(figsize = (20, 10))\n",
    "sns.scatterplot(x = 'Make', y = 'Total Fatal Injuries', data = df, ax = ax)"
   ]
  },
  {
   "cell_type": "markdown",
   "id": "ea4a6b51",
   "metadata": {},
   "source": [
    "Let's keep getting rid of missing values in the rest of the rest of the columns first before we continue cutting down Makes and Models."
   ]
  },
  {
   "cell_type": "code",
   "execution_count": 58,
   "id": "370dce7d",
   "metadata": {},
   "outputs": [
    {
     "data": {
      "text/plain": [
       "False    1485\n",
       "Name: Number Of Engines, dtype: int64"
      ]
     },
     "execution_count": 58,
     "metadata": {},
     "output_type": "execute_result"
    }
   ],
   "source": [
    "# The mean, median, and mode for number of engines is about 1 per aircraft. Let's fill the missing values with the average.\n",
    "df['Number Of Engines'].mean()\n",
    "df['Number Of Engines'] = df['Number Of Engines'].fillna(df['Number Of Engines'].mean())\n",
    "df['Number Of Engines'].isna().value_counts()"
   ]
  },
  {
   "cell_type": "code",
   "execution_count": 61,
   "id": "56228b4d",
   "metadata": {},
   "outputs": [
    {
     "data": {
      "text/plain": [
       "0.5450483991064781"
      ]
     },
     "execution_count": 61,
     "metadata": {},
     "output_type": "execute_result"
    }
   ],
   "source": [
    "#  Theres about 1000 missing values. Let's fill them in with the mean.\n",
    "df['Total Fatal Injuries'].isna().value_counts()\n",
    "df['Total Fatal Injuries'].mean()"
   ]
  },
  {
   "cell_type": "code",
   "execution_count": 62,
   "id": "2a0b0261",
   "metadata": {},
   "outputs": [],
   "source": [
    "df['Total Fatal Injuries'] = df['Total Fatal Injuries'].fillna(df['Total Fatal Injuries'].mean())"
   ]
  },
  {
   "cell_type": "code",
   "execution_count": 63,
   "id": "75cf144f",
   "metadata": {},
   "outputs": [
    {
     "data": {
      "text/plain": [
       "False    1485\n",
       "Name: Total Serious Injuries, dtype: int64"
      ]
     },
     "execution_count": 63,
     "metadata": {},
     "output_type": "execute_result"
    }
   ],
   "source": [
    "# Theres some missing values here, lets forward fill to fill in the gaps.\n",
    "df['Total Serious Injuries'].ffill(axis=0, inplace=True)\n",
    "df['Total Serious Injuries'].isna().value_counts()"
   ]
  },
  {
   "cell_type": "code",
   "execution_count": 64,
   "id": "6fcbae11",
   "metadata": {},
   "outputs": [
    {
     "data": {
      "text/plain": [
       "False    1485\n",
       "Name: Total Minor Injuries, dtype: int64"
      ]
     },
     "execution_count": 64,
     "metadata": {},
     "output_type": "execute_result"
    }
   ],
   "source": [
    "df['Total Minor Injuries'].ffill(axis=0, inplace=True)\n",
    "df['Total Minor Injuries'].isna().value_counts()"
   ]
  },
  {
   "cell_type": "code",
   "execution_count": 65,
   "id": "a5ea1e92",
   "metadata": {},
   "outputs": [
    {
     "data": {
      "text/plain": [
       "False    1485\n",
       "Name: Total Uninjured, dtype: int64"
      ]
     },
     "execution_count": 65,
     "metadata": {},
     "output_type": "execute_result"
    }
   ],
   "source": [
    "# Let's fill in these missing values the same way\n",
    "df['Total Uninjured'].ffill(axis=0,inplace=True)\n",
    "df['Total Uninjured'].isna().value_counts()"
   ]
  },
  {
   "cell_type": "code",
   "execution_count": 66,
   "id": "23d54574",
   "metadata": {},
   "outputs": [
    {
     "name": "stdout",
     "output_type": "stream",
     "text": [
      "<class 'pandas.core.frame.DataFrame'>\n",
      "Int64Index: 1485 entries, 8 to 88837\n",
      "Data columns (total 25 columns):\n",
      " #   Column                  Non-Null Count  Dtype         \n",
      "---  ------                  --------------  -----         \n",
      " 0   Event Id                1485 non-null   object        \n",
      " 1   Investigation Type      1485 non-null   object        \n",
      " 2   Accident Number         1485 non-null   object        \n",
      " 3   Event Date              1485 non-null   datetime64[ns]\n",
      " 4   Location                1485 non-null   object        \n",
      " 5   Country                 1485 non-null   object        \n",
      " 6   Airport Name            1059 non-null   object        \n",
      " 7   Injury Severity         1485 non-null   object        \n",
      " 8   Aircraft Damage         1485 non-null   object        \n",
      " 9   Aircraft Category       1485 non-null   object        \n",
      " 10  Make                    1485 non-null   object        \n",
      " 11  Model                   1485 non-null   object        \n",
      " 12  Amateur Built           1484 non-null   object        \n",
      " 13  Number Of Engines       1485 non-null   float64       \n",
      " 14  Engine Type             1485 non-null   object        \n",
      " 15  Far Description         1485 non-null   object        \n",
      " 16  Purpose Of Flight       1485 non-null   object        \n",
      " 17  Total Fatal Injuries    1485 non-null   float64       \n",
      " 18  Total Serious Injuries  1485 non-null   float64       \n",
      " 19  Total Minor Injuries    1485 non-null   float64       \n",
      " 20  Total Uninjured         1485 non-null   float64       \n",
      " 21  Weather Condition       1436 non-null   object        \n",
      " 22  Broad Phase Of Flight   478 non-null    object        \n",
      " 23  Report Status           1304 non-null   object        \n",
      " 24  Total Passengers        1485 non-null   float64       \n",
      "dtypes: datetime64[ns](1), float64(6), object(18)\n",
      "memory usage: 301.6+ KB\n"
     ]
    }
   ],
   "source": [
    "# We can calculate the number of Total Passengers in each incident by adding up the fatal injuries, serious injuries, minor injuries, and uninjured.\n",
    "## This will be helpful when we want to build our risk index by calculating the ratio of fatalities and injuries for each make and model.\n",
    "df['Total Passengers'] = df['Total Fatal Injuries'] + df['Total Minor Injuries'] + df['Total Serious Injuries'] + df['Total Uninjured']\n",
    "\n",
    "df.info()"
   ]
  },
  {
   "cell_type": "code",
   "execution_count": 67,
   "id": "35198fd7",
   "metadata": {},
   "outputs": [],
   "source": [
    "# I will also drop the Report Status since this information will not be helping us calculate the risk index  to measure safety or efficiency of engines\n",
    "df.drop(['Report Status'], axis = 1, inplace=True)\n"
   ]
  },
  {
   "cell_type": "code",
   "execution_count": 68,
   "id": "7c1ec7ae",
   "metadata": {},
   "outputs": [
    {
     "name": "stdout",
     "output_type": "stream",
     "text": [
      "<class 'pandas.core.frame.DataFrame'>\n",
      "Int64Index: 1485 entries, 8 to 88837\n",
      "Data columns (total 24 columns):\n",
      " #   Column                  Non-Null Count  Dtype         \n",
      "---  ------                  --------------  -----         \n",
      " 0   Event Id                1485 non-null   object        \n",
      " 1   Investigation Type      1485 non-null   object        \n",
      " 2   Accident Number         1485 non-null   object        \n",
      " 3   Event Date              1485 non-null   datetime64[ns]\n",
      " 4   Location                1485 non-null   object        \n",
      " 5   Country                 1485 non-null   object        \n",
      " 6   Airport Name            1059 non-null   object        \n",
      " 7   Injury Severity         1485 non-null   object        \n",
      " 8   Aircraft Damage         1485 non-null   object        \n",
      " 9   Aircraft Category       1485 non-null   object        \n",
      " 10  Make                    1485 non-null   object        \n",
      " 11  Model                   1485 non-null   object        \n",
      " 12  Amateur Built           1484 non-null   object        \n",
      " 13  Number Of Engines       1485 non-null   float64       \n",
      " 14  Engine Type             1485 non-null   object        \n",
      " 15  Far Description         1485 non-null   object        \n",
      " 16  Purpose Of Flight       1485 non-null   object        \n",
      " 17  Total Fatal Injuries    1485 non-null   float64       \n",
      " 18  Total Serious Injuries  1485 non-null   float64       \n",
      " 19  Total Minor Injuries    1485 non-null   float64       \n",
      " 20  Total Uninjured         1485 non-null   float64       \n",
      " 21  Weather Condition       1436 non-null   object        \n",
      " 22  Broad Phase Of Flight   1485 non-null   object        \n",
      " 23  Total Passengers        1485 non-null   float64       \n",
      "dtypes: datetime64[ns](1), float64(6), object(17)\n",
      "memory usage: 290.0+ KB\n"
     ]
    }
   ],
   "source": [
    "# We will keep the Broad Phase of Flight column to see if there is specific when these accidents may occur, or not.\n",
    "df['Broad Phase Of Flight'] = df['Broad Phase Of Flight'].fillna('Unknown')\n",
    "df.info()"
   ]
  },
  {
   "cell_type": "code",
   "execution_count": 69,
   "id": "e35246d1",
   "metadata": {},
   "outputs": [
    {
     "data": {
      "text/plain": [
       "False    1436\n",
       "True       49\n",
       "Name: Weather Condition, dtype: int64"
      ]
     },
     "execution_count": 69,
     "metadata": {},
     "output_type": "execute_result"
    }
   ],
   "source": [
    "# Weather conditions will be interesitng to evaluate how they affect fatalities/injuries and how certain aircrafts perform in worse conditions\n",
    "df['Weather Condition'].isna().value_counts()"
   ]
  },
  {
   "cell_type": "code",
   "execution_count": 70,
   "id": "7c556455",
   "metadata": {},
   "outputs": [],
   "source": [
    "# Let's fill in the missing values here in case there is some pattern amongst the unknowns \n",
    "df['Weather Condition'].fillna('Unknown', axis=0, inplace=True)"
   ]
  },
  {
   "cell_type": "code",
   "execution_count": 71,
   "id": "645a77ba",
   "metadata": {},
   "outputs": [],
   "source": [
    "# We'll do the same for airport Names.\n",
    "df['Airport Name'] = df['Airport Name'].fillna('Unknown')"
   ]
  },
  {
   "cell_type": "code",
   "execution_count": 72,
   "id": "8989f3fc",
   "metadata": {},
   "outputs": [],
   "source": [
    "df.dropna(subset=['Amateur Built'], axis=0, inplace=True)"
   ]
  },
  {
   "cell_type": "code",
   "execution_count": 73,
   "id": "baff0709",
   "metadata": {},
   "outputs": [
    {
     "data": {
      "text/plain": [
       "False    1484\n",
       "Name: Amateur Built, dtype: int64"
      ]
     },
     "execution_count": 73,
     "metadata": {},
     "output_type": "execute_result"
    }
   ],
   "source": [
    "df['Amateur Built'].isna().value_counts()"
   ]
  },
  {
   "cell_type": "markdown",
   "id": "bab7238c",
   "metadata": {},
   "source": [
    "We will drop any values with Total Passengers greater than 10 for our business purposes. We only need small airplanes that seat maximum 10 people. Our planes will only be used by our executives."
   ]
  },
  {
   "cell_type": "code",
   "execution_count": 74,
   "id": "99152adf",
   "metadata": {},
   "outputs": [
    {
     "data": {
      "text/plain": [
       "False    1451\n",
       "Name: Total Passengers, dtype: int64"
      ]
     },
     "execution_count": 74,
     "metadata": {},
     "output_type": "execute_result"
    }
   ],
   "source": [
    "df =  df.drop(df[df['Total Passengers'] > 10].index)\n",
    "(df['Total Passengers'] > 10).value_counts()\n"
   ]
  },
  {
   "cell_type": "code",
   "execution_count": 76,
   "id": "6d282bbc",
   "metadata": {},
   "outputs": [],
   "source": [
    "# Let's drop all of the makes and models that don't apply for our business purposes\n",
    "df =  df.drop(df[(df['Make'] == 'Cessna') & (df['Model'] == '172')].index)\n",
    "df =  df.drop(df[(df['Make'] == 'Cessna') & (df['Model'] == '152')].index)\n",
    "df =  df.drop(df[(df['Make'] == 'Cessna') & (df['Model'] == '150')].index)\n",
    "df =  df.drop(df[(df['Make'] == 'Cessna') & (df['Model'] == '172S')].index)\n",
    "df =  df.drop(df[(df['Make'] == 'Cessna') & (df['Model'] == '172N')].index)\n"
   ]
  },
  {
   "cell_type": "code",
   "execution_count": 77,
   "id": "9900f79d",
   "metadata": {},
   "outputs": [
    {
     "data": {
      "text/plain": [
       "Cessna                    477\n",
       "Piper                     254\n",
       "Beech                     161\n",
       "Mooney                     23\n",
       "Dehavilland                22\n",
       "                         ... \n",
       "Helio                       2\n",
       "Icon Aircraft Inc           2\n",
       "Engineering & Research      2\n",
       "Hawker                      2\n",
       "Hawker Beechcraft Corp      2\n",
       "Name: Make, Length: 75, dtype: int64"
      ]
     },
     "execution_count": 77,
     "metadata": {},
     "output_type": "execute_result"
    }
   ],
   "source": [
    "# Let's drop the make that only have one value counts\n",
    "make_counts= df['Make'].value_counts()\n",
    "df_filtered = df[df['Make'].isin(make_counts[make_counts > 1].index)]\n",
    "df = df_filtered\n",
    "df['Make'].value_counts() == 1\n",
    "df['Make'].value_counts()"
   ]
  },
  {
   "cell_type": "code",
   "execution_count": 78,
   "id": "643ed06c",
   "metadata": {},
   "outputs": [],
   "source": [
    "# The list below is a list of makes and models put together by CHatGPT\n",
    "# that are not suited for our business purposes, so we will drop them\n",
    "remove_list = [\n",
    "    (\"Cessna\", \"140\"),\n",
    "    (\"Bellanca\", \"17-30A\"),\n",
    "    (\"Cessna\", \"R172K\"),\n",
    "    (\"Navion\", \"A\"),\n",
    "    (\"Beech\", \"19\"),\n",
    "    (\"Cessna\", \"180\"),\n",
    "    (\"Cessna\", \"150L\"),\n",
    "    (\"Piper\", \"PA-24-180\"),\n",
    "    (\"Grumman\", \"AA-5B\"),\n",
    "    (\"Beechcraft\", \"BE-58\"),\n",
    "    (\"Maule\", \"M-5-235C\"),\n",
    "    (\"Cessna\", \"210L\"),\n",
    "    (\"Bellanca\", \"7GCBC\"),\n",
    "    (\"Cessna\", \"182\"),\n",
    "    (\"Air Tractor\", \"AT-301\"),\n",
    "    (\"Piper\", \"PA-28-161\"),\n",
    "    (\"Piper\", \"PA-34-200T\"),\n",
    "    (\"Cessna\", \"T337G\"),\n",
    "    (\"Piper\", \"PA-28R-200\"),\n",
    "    (\"Piper\", \"PA-22\")\n",
    "]\n",
    "\n",
    "remove_df = pd.DataFrame(remove_list, columns=['Make', 'Model'])\n",
    "df_filtered = df[~df[['Make', 'Model']].apply(tuple, axis=1).isin(remove_list)]\n",
    "df = df_filtered\n"
   ]
  },
  {
   "cell_type": "code",
   "execution_count": 79,
   "id": "900ae692",
   "metadata": {},
   "outputs": [
    {
     "data": {
      "text/plain": [
       "8                    Cessna 401B\n",
       "25                   Cessna 414A\n",
       "36                    Cessna 206\n",
       "40                  Rockwell 114\n",
       "41               Piper PA-24-250\n",
       "                  ...           \n",
       "88804                 Cessna 207\n",
       "88822    Cirrus Design Corp SF50\n",
       "88834             Learjet Inc 45\n",
       "88836    Gates Lear Jet Corp. 36\n",
       "88837                 Learjet 35\n",
       "Name: Make-Model, Length: 1244, dtype: object"
      ]
     },
     "execution_count": 79,
     "metadata": {},
     "output_type": "execute_result"
    }
   ],
   "source": [
    "# In order to make it easier to filter out the makes and models we don't need, \n",
    "# we need to combine them into one column.\n",
    "df[['Make', 'Model']]\n",
    "df['Make-Model'] = df['Make'] + ' ' + df['Model']\n",
    "df['Make-Model']\n"
   ]
  },
  {
   "cell_type": "code",
   "execution_count": 80,
   "id": "bab3daa9",
   "metadata": {},
   "outputs": [],
   "source": [
    "make_model_counts= df['Make-Model'].value_counts()\n",
    "df2 = df[df['Make-Model'].isin(make_model_counts[make_model_counts > 1].index)]\n",
    "df = df2"
   ]
  },
  {
   "cell_type": "code",
   "execution_count": 81,
   "id": "6d8b6340",
   "metadata": {},
   "outputs": [
    {
     "data": {
      "text/plain": [
       "Beech 58                                     16\n",
       "Piper PA-31-350                              15\n",
       "Cessna 207                                   13\n",
       "Cessna A185F                                 13\n",
       "Cessna 421B                                  13\n",
       "                                             ..\n",
       "Israel Aircraft Industries GULFSTREAM 200     2\n",
       "Piper AEROSTAR 602P                           2\n",
       "Beech 400                                     2\n",
       "Cessna 206H                                   2\n",
       "Piper PA23-250                                2\n",
       "Name: Make-Model, Length: 222, dtype: int64"
      ]
     },
     "execution_count": 81,
     "metadata": {},
     "output_type": "execute_result"
    }
   ],
   "source": [
    "df['Make-Model'].value_counts()"
   ]
  },
  {
   "cell_type": "code",
   "execution_count": 82,
   "id": "9a347f38",
   "metadata": {},
   "outputs": [],
   "source": [
    "df = df.drop(columns = ['Accident Number', 'Far Description', 'Event Id'], axis=1)"
   ]
  },
  {
   "cell_type": "code",
   "execution_count": 84,
   "id": "d47ce827",
   "metadata": {},
   "outputs": [
    {
     "data": {
      "text/html": [
       "<div>\n",
       "<style scoped>\n",
       "    .dataframe tbody tr th:only-of-type {\n",
       "        vertical-align: middle;\n",
       "    }\n",
       "\n",
       "    .dataframe tbody tr th {\n",
       "        vertical-align: top;\n",
       "    }\n",
       "\n",
       "    .dataframe thead th {\n",
       "        text-align: right;\n",
       "    }\n",
       "</style>\n",
       "<table border=\"1\" class=\"dataframe\">\n",
       "  <thead>\n",
       "    <tr style=\"text-align: right;\">\n",
       "      <th></th>\n",
       "      <th>Investigation Type</th>\n",
       "      <th>Location</th>\n",
       "      <th>Country</th>\n",
       "      <th>Airport Name</th>\n",
       "      <th>Injury Severity</th>\n",
       "      <th>Aircraft Damage</th>\n",
       "      <th>Aircraft Category</th>\n",
       "      <th>Make</th>\n",
       "      <th>Model</th>\n",
       "      <th>Amateur Built</th>\n",
       "      <th>...</th>\n",
       "      <th>Engine Type</th>\n",
       "      <th>Purpose Of Flight</th>\n",
       "      <th>Total Fatal Injuries</th>\n",
       "      <th>Total Serious Injuries</th>\n",
       "      <th>Total Minor Injuries</th>\n",
       "      <th>Total Uninjured</th>\n",
       "      <th>Weather Condition</th>\n",
       "      <th>Broad Phase Of Flight</th>\n",
       "      <th>Total Passengers</th>\n",
       "      <th>Make-Model</th>\n",
       "    </tr>\n",
       "    <tr>\n",
       "      <th>Event Date</th>\n",
       "      <th></th>\n",
       "      <th></th>\n",
       "      <th></th>\n",
       "      <th></th>\n",
       "      <th></th>\n",
       "      <th></th>\n",
       "      <th></th>\n",
       "      <th></th>\n",
       "      <th></th>\n",
       "      <th></th>\n",
       "      <th></th>\n",
       "      <th></th>\n",
       "      <th></th>\n",
       "      <th></th>\n",
       "      <th></th>\n",
       "      <th></th>\n",
       "      <th></th>\n",
       "      <th></th>\n",
       "      <th></th>\n",
       "      <th></th>\n",
       "      <th></th>\n",
       "    </tr>\n",
       "  </thead>\n",
       "  <tbody>\n",
       "    <tr>\n",
       "      <th>1982-01-03</th>\n",
       "      <td>Accident</td>\n",
       "      <td>ASHLAND, VA</td>\n",
       "      <td>United States</td>\n",
       "      <td>HANOVER COUNTY</td>\n",
       "      <td>Fatal</td>\n",
       "      <td>Destroyed</td>\n",
       "      <td>Airplane</td>\n",
       "      <td>Cessna</td>\n",
       "      <td>414A</td>\n",
       "      <td>No</td>\n",
       "      <td>...</td>\n",
       "      <td>Reciprocating</td>\n",
       "      <td>Business</td>\n",
       "      <td>8.0</td>\n",
       "      <td>0.0</td>\n",
       "      <td>0.0</td>\n",
       "      <td>0.0</td>\n",
       "      <td>IMC</td>\n",
       "      <td>Approach</td>\n",
       "      <td>8.0</td>\n",
       "      <td>Cessna 414A</td>\n",
       "    </tr>\n",
       "    <tr>\n",
       "      <th>1982-01-04</th>\n",
       "      <td>Accident</td>\n",
       "      <td>SAINT CROIX</td>\n",
       "      <td>Unknown</td>\n",
       "      <td>ALEXANDER HAMILTON</td>\n",
       "      <td>Fatal</td>\n",
       "      <td>Destroyed</td>\n",
       "      <td>Airplane</td>\n",
       "      <td>Cessna</td>\n",
       "      <td>206</td>\n",
       "      <td>No</td>\n",
       "      <td>...</td>\n",
       "      <td>Reciprocating</td>\n",
       "      <td>Business</td>\n",
       "      <td>1.0</td>\n",
       "      <td>0.0</td>\n",
       "      <td>1.0</td>\n",
       "      <td>0.0</td>\n",
       "      <td>VMC</td>\n",
       "      <td>Taxi</td>\n",
       "      <td>2.0</td>\n",
       "      <td>Cessna 206</td>\n",
       "    </tr>\n",
       "    <tr>\n",
       "      <th>1982-01-05</th>\n",
       "      <td>Accident</td>\n",
       "      <td>LONOKE, AR</td>\n",
       "      <td>United States</td>\n",
       "      <td>Unknown</td>\n",
       "      <td>Non-Fatal</td>\n",
       "      <td>Substantial</td>\n",
       "      <td>Airplane</td>\n",
       "      <td>Piper</td>\n",
       "      <td>PA-24-250</td>\n",
       "      <td>No</td>\n",
       "      <td>...</td>\n",
       "      <td>Reciprocating</td>\n",
       "      <td>Business</td>\n",
       "      <td>0.0</td>\n",
       "      <td>1.0</td>\n",
       "      <td>0.0</td>\n",
       "      <td>1.0</td>\n",
       "      <td>VMC</td>\n",
       "      <td>Descent</td>\n",
       "      <td>2.0</td>\n",
       "      <td>Piper PA-24-250</td>\n",
       "    </tr>\n",
       "    <tr>\n",
       "      <th>1982-01-18</th>\n",
       "      <td>Accident</td>\n",
       "      <td>ORCHARDS, WA</td>\n",
       "      <td>United States</td>\n",
       "      <td>CLARK COUNTY</td>\n",
       "      <td>Non-Fatal</td>\n",
       "      <td>Destroyed</td>\n",
       "      <td>Airplane</td>\n",
       "      <td>Beech</td>\n",
       "      <td>C23</td>\n",
       "      <td>No</td>\n",
       "      <td>...</td>\n",
       "      <td>Reciprocating</td>\n",
       "      <td>Business</td>\n",
       "      <td>0.0</td>\n",
       "      <td>2.0</td>\n",
       "      <td>2.0</td>\n",
       "      <td>0.0</td>\n",
       "      <td>VMC</td>\n",
       "      <td>Descent</td>\n",
       "      <td>4.0</td>\n",
       "      <td>Beech C23</td>\n",
       "    </tr>\n",
       "    <tr>\n",
       "      <th>1982-01-18</th>\n",
       "      <td>Accident</td>\n",
       "      <td>S.E. OF HOUMA, LA</td>\n",
       "      <td>United States</td>\n",
       "      <td>Unknown</td>\n",
       "      <td>Non-Fatal</td>\n",
       "      <td>Substantial</td>\n",
       "      <td>Airplane</td>\n",
       "      <td>Cessna</td>\n",
       "      <td>180K</td>\n",
       "      <td>No</td>\n",
       "      <td>...</td>\n",
       "      <td>Reciprocating</td>\n",
       "      <td>Business</td>\n",
       "      <td>0.0</td>\n",
       "      <td>0.0</td>\n",
       "      <td>0.0</td>\n",
       "      <td>1.0</td>\n",
       "      <td>VMC</td>\n",
       "      <td>Takeoff</td>\n",
       "      <td>1.0</td>\n",
       "      <td>Cessna 180K</td>\n",
       "    </tr>\n",
       "    <tr>\n",
       "      <th>...</th>\n",
       "      <td>...</td>\n",
       "      <td>...</td>\n",
       "      <td>...</td>\n",
       "      <td>...</td>\n",
       "      <td>...</td>\n",
       "      <td>...</td>\n",
       "      <td>...</td>\n",
       "      <td>...</td>\n",
       "      <td>...</td>\n",
       "      <td>...</td>\n",
       "      <td>...</td>\n",
       "      <td>...</td>\n",
       "      <td>...</td>\n",
       "      <td>...</td>\n",
       "      <td>...</td>\n",
       "      <td>...</td>\n",
       "      <td>...</td>\n",
       "      <td>...</td>\n",
       "      <td>...</td>\n",
       "      <td>...</td>\n",
       "      <td>...</td>\n",
       "    </tr>\n",
       "    <tr>\n",
       "      <th>2022-11-18</th>\n",
       "      <td>Accident</td>\n",
       "      <td>Decatur, TX</td>\n",
       "      <td>United States</td>\n",
       "      <td>Unknown</td>\n",
       "      <td>Fatal</td>\n",
       "      <td>Destroyed</td>\n",
       "      <td>Airplane</td>\n",
       "      <td>Cessna</td>\n",
       "      <td>421C</td>\n",
       "      <td>No</td>\n",
       "      <td>...</td>\n",
       "      <td>Unknown</td>\n",
       "      <td>Positioning</td>\n",
       "      <td>1.0</td>\n",
       "      <td>0.0</td>\n",
       "      <td>0.0</td>\n",
       "      <td>0.0</td>\n",
       "      <td>VMC</td>\n",
       "      <td>Unknown</td>\n",
       "      <td>1.0</td>\n",
       "      <td>Cessna 421C</td>\n",
       "    </tr>\n",
       "    <tr>\n",
       "      <th>2022-11-20</th>\n",
       "      <td>Accident</td>\n",
       "      <td>Bethel, AK</td>\n",
       "      <td>United States</td>\n",
       "      <td>Unknown</td>\n",
       "      <td>Non-Fatal</td>\n",
       "      <td>Substantial</td>\n",
       "      <td>Airplane</td>\n",
       "      <td>Cessna</td>\n",
       "      <td>207</td>\n",
       "      <td>No</td>\n",
       "      <td>...</td>\n",
       "      <td>Unknown</td>\n",
       "      <td>Business</td>\n",
       "      <td>0.0</td>\n",
       "      <td>0.0</td>\n",
       "      <td>0.0</td>\n",
       "      <td>7.0</td>\n",
       "      <td>VMC</td>\n",
       "      <td>Unknown</td>\n",
       "      <td>7.0</td>\n",
       "      <td>Cessna 207</td>\n",
       "    </tr>\n",
       "    <tr>\n",
       "      <th>2022-11-25</th>\n",
       "      <td>Accident</td>\n",
       "      <td>Mount Comfort, IN</td>\n",
       "      <td>United States</td>\n",
       "      <td>INDIANAPOLIS RGNL</td>\n",
       "      <td>Non-Fatal</td>\n",
       "      <td>Substantial</td>\n",
       "      <td>Airplane</td>\n",
       "      <td>Cirrus Design Corp</td>\n",
       "      <td>SF50</td>\n",
       "      <td>No</td>\n",
       "      <td>...</td>\n",
       "      <td>Unknown</td>\n",
       "      <td>Positioning</td>\n",
       "      <td>0.0</td>\n",
       "      <td>0.0</td>\n",
       "      <td>0.0</td>\n",
       "      <td>1.0</td>\n",
       "      <td>IMC</td>\n",
       "      <td>Unknown</td>\n",
       "      <td>1.0</td>\n",
       "      <td>Cirrus Design Corp SF50</td>\n",
       "    </tr>\n",
       "    <tr>\n",
       "      <th>2022-11-30</th>\n",
       "      <td>Accident</td>\n",
       "      <td>Newport News, VA</td>\n",
       "      <td>United States</td>\n",
       "      <td>NEWPORT NEWS/WILLIAMSBURG INTL</td>\n",
       "      <td>Non-Fatal</td>\n",
       "      <td>Substantial</td>\n",
       "      <td>Airplane</td>\n",
       "      <td>Gates Lear Jet Corp.</td>\n",
       "      <td>36</td>\n",
       "      <td>No</td>\n",
       "      <td>...</td>\n",
       "      <td>Unknown</td>\n",
       "      <td>Other Work Use</td>\n",
       "      <td>0.0</td>\n",
       "      <td>0.0</td>\n",
       "      <td>0.0</td>\n",
       "      <td>3.0</td>\n",
       "      <td>VMC</td>\n",
       "      <td>Unknown</td>\n",
       "      <td>3.0</td>\n",
       "      <td>Gates Lear Jet Corp. 36</td>\n",
       "    </tr>\n",
       "    <tr>\n",
       "      <th>2022-12-01</th>\n",
       "      <td>Accident</td>\n",
       "      <td>Guantanamo Bay, OF</td>\n",
       "      <td>Cuba</td>\n",
       "      <td>GUANTANAMO BAY NAVAL AIR STATI</td>\n",
       "      <td>Non-Fatal</td>\n",
       "      <td>Substantial</td>\n",
       "      <td>Airplane</td>\n",
       "      <td>Learjet</td>\n",
       "      <td>35</td>\n",
       "      <td>No</td>\n",
       "      <td>...</td>\n",
       "      <td>Unknown</td>\n",
       "      <td>Positioning</td>\n",
       "      <td>0.0</td>\n",
       "      <td>0.0</td>\n",
       "      <td>0.0</td>\n",
       "      <td>4.0</td>\n",
       "      <td>VMC</td>\n",
       "      <td>Unknown</td>\n",
       "      <td>4.0</td>\n",
       "      <td>Learjet 35</td>\n",
       "    </tr>\n",
       "  </tbody>\n",
       "</table>\n",
       "<p>837 rows × 21 columns</p>\n",
       "</div>"
      ],
      "text/plain": [
       "           Investigation Type            Location        Country  \\\n",
       "Event Date                                                         \n",
       "1982-01-03           Accident         ASHLAND, VA  United States   \n",
       "1982-01-04           Accident         SAINT CROIX        Unknown   \n",
       "1982-01-05           Accident          LONOKE, AR  United States   \n",
       "1982-01-18           Accident        ORCHARDS, WA  United States   \n",
       "1982-01-18           Accident   S.E. OF HOUMA, LA  United States   \n",
       "...                       ...                 ...            ...   \n",
       "2022-11-18           Accident         Decatur, TX  United States   \n",
       "2022-11-20           Accident          Bethel, AK  United States   \n",
       "2022-11-25           Accident   Mount Comfort, IN  United States   \n",
       "2022-11-30           Accident    Newport News, VA  United States   \n",
       "2022-12-01           Accident  Guantanamo Bay, OF           Cuba   \n",
       "\n",
       "                              Airport Name Injury Severity Aircraft Damage  \\\n",
       "Event Date                                                                   \n",
       "1982-01-03                  HANOVER COUNTY           Fatal       Destroyed   \n",
       "1982-01-04              ALEXANDER HAMILTON           Fatal       Destroyed   \n",
       "1982-01-05                         Unknown       Non-Fatal     Substantial   \n",
       "1982-01-18                    CLARK COUNTY       Non-Fatal       Destroyed   \n",
       "1982-01-18                         Unknown       Non-Fatal     Substantial   \n",
       "...                                    ...             ...             ...   \n",
       "2022-11-18                         Unknown           Fatal       Destroyed   \n",
       "2022-11-20                         Unknown       Non-Fatal     Substantial   \n",
       "2022-11-25               INDIANAPOLIS RGNL       Non-Fatal     Substantial   \n",
       "2022-11-30  NEWPORT NEWS/WILLIAMSBURG INTL       Non-Fatal     Substantial   \n",
       "2022-12-01  GUANTANAMO BAY NAVAL AIR STATI       Non-Fatal     Substantial   \n",
       "\n",
       "           Aircraft Category                  Make      Model Amateur Built  \\\n",
       "Event Date                                                                    \n",
       "1982-01-03          Airplane                Cessna       414A            No   \n",
       "1982-01-04          Airplane                Cessna        206            No   \n",
       "1982-01-05          Airplane                 Piper  PA-24-250            No   \n",
       "1982-01-18          Airplane                 Beech        C23            No   \n",
       "1982-01-18          Airplane                Cessna       180K            No   \n",
       "...                      ...                   ...        ...           ...   \n",
       "2022-11-18          Airplane                Cessna       421C            No   \n",
       "2022-11-20          Airplane                Cessna        207            No   \n",
       "2022-11-25          Airplane    Cirrus Design Corp       SF50            No   \n",
       "2022-11-30          Airplane  Gates Lear Jet Corp.         36            No   \n",
       "2022-12-01          Airplane               Learjet         35            No   \n",
       "\n",
       "            ...    Engine Type Purpose Of Flight Total Fatal Injuries  \\\n",
       "Event Date  ...                                                         \n",
       "1982-01-03  ...  Reciprocating          Business                  8.0   \n",
       "1982-01-04  ...  Reciprocating          Business                  1.0   \n",
       "1982-01-05  ...  Reciprocating          Business                  0.0   \n",
       "1982-01-18  ...  Reciprocating          Business                  0.0   \n",
       "1982-01-18  ...  Reciprocating          Business                  0.0   \n",
       "...         ...            ...               ...                  ...   \n",
       "2022-11-18  ...        Unknown       Positioning                  1.0   \n",
       "2022-11-20  ...        Unknown          Business                  0.0   \n",
       "2022-11-25  ...        Unknown       Positioning                  0.0   \n",
       "2022-11-30  ...        Unknown    Other Work Use                  0.0   \n",
       "2022-12-01  ...        Unknown       Positioning                  0.0   \n",
       "\n",
       "            Total Serious Injuries  Total Minor Injuries  Total Uninjured  \\\n",
       "Event Date                                                                  \n",
       "1982-01-03                     0.0                   0.0              0.0   \n",
       "1982-01-04                     0.0                   1.0              0.0   \n",
       "1982-01-05                     1.0                   0.0              1.0   \n",
       "1982-01-18                     2.0                   2.0              0.0   \n",
       "1982-01-18                     0.0                   0.0              1.0   \n",
       "...                            ...                   ...              ...   \n",
       "2022-11-18                     0.0                   0.0              0.0   \n",
       "2022-11-20                     0.0                   0.0              7.0   \n",
       "2022-11-25                     0.0                   0.0              1.0   \n",
       "2022-11-30                     0.0                   0.0              3.0   \n",
       "2022-12-01                     0.0                   0.0              4.0   \n",
       "\n",
       "            Weather Condition Broad Phase Of Flight Total Passengers  \\\n",
       "Event Date                                                             \n",
       "1982-01-03                IMC              Approach              8.0   \n",
       "1982-01-04                VMC                  Taxi              2.0   \n",
       "1982-01-05                VMC               Descent              2.0   \n",
       "1982-01-18                VMC               Descent              4.0   \n",
       "1982-01-18                VMC               Takeoff              1.0   \n",
       "...                       ...                   ...              ...   \n",
       "2022-11-18                VMC               Unknown              1.0   \n",
       "2022-11-20                VMC               Unknown              7.0   \n",
       "2022-11-25                IMC               Unknown              1.0   \n",
       "2022-11-30                VMC               Unknown              3.0   \n",
       "2022-12-01                VMC               Unknown              4.0   \n",
       "\n",
       "                         Make-Model  \n",
       "Event Date                           \n",
       "1982-01-03              Cessna 414A  \n",
       "1982-01-04               Cessna 206  \n",
       "1982-01-05          Piper PA-24-250  \n",
       "1982-01-18                Beech C23  \n",
       "1982-01-18              Cessna 180K  \n",
       "...                             ...  \n",
       "2022-11-18              Cessna 421C  \n",
       "2022-11-20               Cessna 207  \n",
       "2022-11-25  Cirrus Design Corp SF50  \n",
       "2022-11-30  Gates Lear Jet Corp. 36  \n",
       "2022-12-01               Learjet 35  \n",
       "\n",
       "[837 rows x 21 columns]"
      ]
     },
     "execution_count": 84,
     "metadata": {},
     "output_type": "execute_result"
    }
   ],
   "source": [
    "df.set_index('Event Date')"
   ]
  },
  {
   "cell_type": "code",
   "execution_count": 85,
   "id": "7d2443b4",
   "metadata": {},
   "outputs": [],
   "source": [
    "# We don't need this column now that we have filtered it to just Airplanes\n",
    "df = df.drop(['Aircraft Category'], axis =1)"
   ]
  },
  {
   "cell_type": "code",
   "execution_count": 86,
   "id": "55a438a2",
   "metadata": {},
   "outputs": [
    {
     "data": {
      "text/html": [
       "<div>\n",
       "<style scoped>\n",
       "    .dataframe tbody tr th:only-of-type {\n",
       "        vertical-align: middle;\n",
       "    }\n",
       "\n",
       "    .dataframe tbody tr th {\n",
       "        vertical-align: top;\n",
       "    }\n",
       "\n",
       "    .dataframe thead th {\n",
       "        text-align: right;\n",
       "    }\n",
       "</style>\n",
       "<table border=\"1\" class=\"dataframe\">\n",
       "  <thead>\n",
       "    <tr style=\"text-align: right;\">\n",
       "      <th></th>\n",
       "      <th>Investigation Type</th>\n",
       "      <th>Event Date</th>\n",
       "      <th>Location</th>\n",
       "      <th>Country</th>\n",
       "      <th>Airport Name</th>\n",
       "      <th>Injury Severity</th>\n",
       "      <th>Aircraft Damage</th>\n",
       "      <th>Make</th>\n",
       "      <th>Model</th>\n",
       "      <th>Amateur Built</th>\n",
       "      <th>...</th>\n",
       "      <th>Engine Type</th>\n",
       "      <th>Purpose Of Flight</th>\n",
       "      <th>Total Fatal Injuries</th>\n",
       "      <th>Total Serious Injuries</th>\n",
       "      <th>Total Minor Injuries</th>\n",
       "      <th>Total Uninjured</th>\n",
       "      <th>Weather Condition</th>\n",
       "      <th>Broad Phase Of Flight</th>\n",
       "      <th>Total Passengers</th>\n",
       "      <th>Make-Model</th>\n",
       "    </tr>\n",
       "  </thead>\n",
       "  <tbody>\n",
       "    <tr>\n",
       "      <th>25</th>\n",
       "      <td>Accident</td>\n",
       "      <td>1982-01-03</td>\n",
       "      <td>ASHLAND, VA</td>\n",
       "      <td>United States</td>\n",
       "      <td>HANOVER COUNTY</td>\n",
       "      <td>Fatal</td>\n",
       "      <td>Destroyed</td>\n",
       "      <td>Cessna</td>\n",
       "      <td>414A</td>\n",
       "      <td>No</td>\n",
       "      <td>...</td>\n",
       "      <td>Reciprocating</td>\n",
       "      <td>Business</td>\n",
       "      <td>8.0</td>\n",
       "      <td>0.0</td>\n",
       "      <td>0.0</td>\n",
       "      <td>0.0</td>\n",
       "      <td>IMC</td>\n",
       "      <td>Approach</td>\n",
       "      <td>8.0</td>\n",
       "      <td>Cessna 414A</td>\n",
       "    </tr>\n",
       "    <tr>\n",
       "      <th>36</th>\n",
       "      <td>Accident</td>\n",
       "      <td>1982-01-04</td>\n",
       "      <td>SAINT CROIX</td>\n",
       "      <td>Unknown</td>\n",
       "      <td>ALEXANDER HAMILTON</td>\n",
       "      <td>Fatal</td>\n",
       "      <td>Destroyed</td>\n",
       "      <td>Cessna</td>\n",
       "      <td>206</td>\n",
       "      <td>No</td>\n",
       "      <td>...</td>\n",
       "      <td>Reciprocating</td>\n",
       "      <td>Business</td>\n",
       "      <td>1.0</td>\n",
       "      <td>0.0</td>\n",
       "      <td>1.0</td>\n",
       "      <td>0.0</td>\n",
       "      <td>VMC</td>\n",
       "      <td>Taxi</td>\n",
       "      <td>2.0</td>\n",
       "      <td>Cessna 206</td>\n",
       "    </tr>\n",
       "    <tr>\n",
       "      <th>41</th>\n",
       "      <td>Accident</td>\n",
       "      <td>1982-01-05</td>\n",
       "      <td>LONOKE, AR</td>\n",
       "      <td>United States</td>\n",
       "      <td>Unknown</td>\n",
       "      <td>Non-Fatal</td>\n",
       "      <td>Substantial</td>\n",
       "      <td>Piper</td>\n",
       "      <td>PA-24-250</td>\n",
       "      <td>No</td>\n",
       "      <td>...</td>\n",
       "      <td>Reciprocating</td>\n",
       "      <td>Business</td>\n",
       "      <td>0.0</td>\n",
       "      <td>1.0</td>\n",
       "      <td>0.0</td>\n",
       "      <td>1.0</td>\n",
       "      <td>VMC</td>\n",
       "      <td>Descent</td>\n",
       "      <td>2.0</td>\n",
       "      <td>Piper PA-24-250</td>\n",
       "    </tr>\n",
       "    <tr>\n",
       "      <th>109</th>\n",
       "      <td>Accident</td>\n",
       "      <td>1982-01-18</td>\n",
       "      <td>ORCHARDS, WA</td>\n",
       "      <td>United States</td>\n",
       "      <td>CLARK COUNTY</td>\n",
       "      <td>Non-Fatal</td>\n",
       "      <td>Destroyed</td>\n",
       "      <td>Beech</td>\n",
       "      <td>C23</td>\n",
       "      <td>No</td>\n",
       "      <td>...</td>\n",
       "      <td>Reciprocating</td>\n",
       "      <td>Business</td>\n",
       "      <td>0.0</td>\n",
       "      <td>2.0</td>\n",
       "      <td>2.0</td>\n",
       "      <td>0.0</td>\n",
       "      <td>VMC</td>\n",
       "      <td>Descent</td>\n",
       "      <td>4.0</td>\n",
       "      <td>Beech C23</td>\n",
       "    </tr>\n",
       "    <tr>\n",
       "      <th>112</th>\n",
       "      <td>Accident</td>\n",
       "      <td>1982-01-18</td>\n",
       "      <td>S.E. OF HOUMA, LA</td>\n",
       "      <td>United States</td>\n",
       "      <td>Unknown</td>\n",
       "      <td>Non-Fatal</td>\n",
       "      <td>Substantial</td>\n",
       "      <td>Cessna</td>\n",
       "      <td>180K</td>\n",
       "      <td>No</td>\n",
       "      <td>...</td>\n",
       "      <td>Reciprocating</td>\n",
       "      <td>Business</td>\n",
       "      <td>0.0</td>\n",
       "      <td>0.0</td>\n",
       "      <td>0.0</td>\n",
       "      <td>1.0</td>\n",
       "      <td>VMC</td>\n",
       "      <td>Takeoff</td>\n",
       "      <td>1.0</td>\n",
       "      <td>Cessna 180K</td>\n",
       "    </tr>\n",
       "    <tr>\n",
       "      <th>...</th>\n",
       "      <td>...</td>\n",
       "      <td>...</td>\n",
       "      <td>...</td>\n",
       "      <td>...</td>\n",
       "      <td>...</td>\n",
       "      <td>...</td>\n",
       "      <td>...</td>\n",
       "      <td>...</td>\n",
       "      <td>...</td>\n",
       "      <td>...</td>\n",
       "      <td>...</td>\n",
       "      <td>...</td>\n",
       "      <td>...</td>\n",
       "      <td>...</td>\n",
       "      <td>...</td>\n",
       "      <td>...</td>\n",
       "      <td>...</td>\n",
       "      <td>...</td>\n",
       "      <td>...</td>\n",
       "      <td>...</td>\n",
       "      <td>...</td>\n",
       "    </tr>\n",
       "    <tr>\n",
       "      <th>88794</th>\n",
       "      <td>Accident</td>\n",
       "      <td>2022-11-18</td>\n",
       "      <td>Decatur, TX</td>\n",
       "      <td>United States</td>\n",
       "      <td>Unknown</td>\n",
       "      <td>Fatal</td>\n",
       "      <td>Destroyed</td>\n",
       "      <td>Cessna</td>\n",
       "      <td>421C</td>\n",
       "      <td>No</td>\n",
       "      <td>...</td>\n",
       "      <td>Unknown</td>\n",
       "      <td>Positioning</td>\n",
       "      <td>1.0</td>\n",
       "      <td>0.0</td>\n",
       "      <td>0.0</td>\n",
       "      <td>0.0</td>\n",
       "      <td>VMC</td>\n",
       "      <td>Unknown</td>\n",
       "      <td>1.0</td>\n",
       "      <td>Cessna 421C</td>\n",
       "    </tr>\n",
       "    <tr>\n",
       "      <th>88804</th>\n",
       "      <td>Accident</td>\n",
       "      <td>2022-11-20</td>\n",
       "      <td>Bethel, AK</td>\n",
       "      <td>United States</td>\n",
       "      <td>Unknown</td>\n",
       "      <td>Non-Fatal</td>\n",
       "      <td>Substantial</td>\n",
       "      <td>Cessna</td>\n",
       "      <td>207</td>\n",
       "      <td>No</td>\n",
       "      <td>...</td>\n",
       "      <td>Unknown</td>\n",
       "      <td>Business</td>\n",
       "      <td>0.0</td>\n",
       "      <td>0.0</td>\n",
       "      <td>0.0</td>\n",
       "      <td>7.0</td>\n",
       "      <td>VMC</td>\n",
       "      <td>Unknown</td>\n",
       "      <td>7.0</td>\n",
       "      <td>Cessna 207</td>\n",
       "    </tr>\n",
       "    <tr>\n",
       "      <th>88822</th>\n",
       "      <td>Accident</td>\n",
       "      <td>2022-11-25</td>\n",
       "      <td>Mount Comfort, IN</td>\n",
       "      <td>United States</td>\n",
       "      <td>INDIANAPOLIS RGNL</td>\n",
       "      <td>Non-Fatal</td>\n",
       "      <td>Substantial</td>\n",
       "      <td>Cirrus Design Corp</td>\n",
       "      <td>SF50</td>\n",
       "      <td>No</td>\n",
       "      <td>...</td>\n",
       "      <td>Unknown</td>\n",
       "      <td>Positioning</td>\n",
       "      <td>0.0</td>\n",
       "      <td>0.0</td>\n",
       "      <td>0.0</td>\n",
       "      <td>1.0</td>\n",
       "      <td>IMC</td>\n",
       "      <td>Unknown</td>\n",
       "      <td>1.0</td>\n",
       "      <td>Cirrus Design Corp SF50</td>\n",
       "    </tr>\n",
       "    <tr>\n",
       "      <th>88836</th>\n",
       "      <td>Accident</td>\n",
       "      <td>2022-11-30</td>\n",
       "      <td>Newport News, VA</td>\n",
       "      <td>United States</td>\n",
       "      <td>NEWPORT NEWS/WILLIAMSBURG INTL</td>\n",
       "      <td>Non-Fatal</td>\n",
       "      <td>Substantial</td>\n",
       "      <td>Gates Lear Jet Corp.</td>\n",
       "      <td>36</td>\n",
       "      <td>No</td>\n",
       "      <td>...</td>\n",
       "      <td>Unknown</td>\n",
       "      <td>Other Work Use</td>\n",
       "      <td>0.0</td>\n",
       "      <td>0.0</td>\n",
       "      <td>0.0</td>\n",
       "      <td>3.0</td>\n",
       "      <td>VMC</td>\n",
       "      <td>Unknown</td>\n",
       "      <td>3.0</td>\n",
       "      <td>Gates Lear Jet Corp. 36</td>\n",
       "    </tr>\n",
       "    <tr>\n",
       "      <th>88837</th>\n",
       "      <td>Accident</td>\n",
       "      <td>2022-12-01</td>\n",
       "      <td>Guantanamo Bay, OF</td>\n",
       "      <td>Cuba</td>\n",
       "      <td>GUANTANAMO BAY NAVAL AIR STATI</td>\n",
       "      <td>Non-Fatal</td>\n",
       "      <td>Substantial</td>\n",
       "      <td>Learjet</td>\n",
       "      <td>35</td>\n",
       "      <td>No</td>\n",
       "      <td>...</td>\n",
       "      <td>Unknown</td>\n",
       "      <td>Positioning</td>\n",
       "      <td>0.0</td>\n",
       "      <td>0.0</td>\n",
       "      <td>0.0</td>\n",
       "      <td>4.0</td>\n",
       "      <td>VMC</td>\n",
       "      <td>Unknown</td>\n",
       "      <td>4.0</td>\n",
       "      <td>Learjet 35</td>\n",
       "    </tr>\n",
       "  </tbody>\n",
       "</table>\n",
       "<p>837 rows × 21 columns</p>\n",
       "</div>"
      ],
      "text/plain": [
       "      Investigation Type Event Date            Location        Country  \\\n",
       "25              Accident 1982-01-03         ASHLAND, VA  United States   \n",
       "36              Accident 1982-01-04         SAINT CROIX        Unknown   \n",
       "41              Accident 1982-01-05          LONOKE, AR  United States   \n",
       "109             Accident 1982-01-18        ORCHARDS, WA  United States   \n",
       "112             Accident 1982-01-18   S.E. OF HOUMA, LA  United States   \n",
       "...                  ...        ...                 ...            ...   \n",
       "88794           Accident 2022-11-18         Decatur, TX  United States   \n",
       "88804           Accident 2022-11-20          Bethel, AK  United States   \n",
       "88822           Accident 2022-11-25   Mount Comfort, IN  United States   \n",
       "88836           Accident 2022-11-30    Newport News, VA  United States   \n",
       "88837           Accident 2022-12-01  Guantanamo Bay, OF           Cuba   \n",
       "\n",
       "                         Airport Name Injury Severity Aircraft Damage  \\\n",
       "25                     HANOVER COUNTY           Fatal       Destroyed   \n",
       "36                 ALEXANDER HAMILTON           Fatal       Destroyed   \n",
       "41                            Unknown       Non-Fatal     Substantial   \n",
       "109                      CLARK COUNTY       Non-Fatal       Destroyed   \n",
       "112                           Unknown       Non-Fatal     Substantial   \n",
       "...                               ...             ...             ...   \n",
       "88794                         Unknown           Fatal       Destroyed   \n",
       "88804                         Unknown       Non-Fatal     Substantial   \n",
       "88822               INDIANAPOLIS RGNL       Non-Fatal     Substantial   \n",
       "88836  NEWPORT NEWS/WILLIAMSBURG INTL       Non-Fatal     Substantial   \n",
       "88837  GUANTANAMO BAY NAVAL AIR STATI       Non-Fatal     Substantial   \n",
       "\n",
       "                       Make      Model Amateur Built  ...    Engine Type  \\\n",
       "25                   Cessna       414A            No  ...  Reciprocating   \n",
       "36                   Cessna        206            No  ...  Reciprocating   \n",
       "41                    Piper  PA-24-250            No  ...  Reciprocating   \n",
       "109                   Beech        C23            No  ...  Reciprocating   \n",
       "112                  Cessna       180K            No  ...  Reciprocating   \n",
       "...                     ...        ...           ...  ...            ...   \n",
       "88794                Cessna       421C            No  ...        Unknown   \n",
       "88804                Cessna        207            No  ...        Unknown   \n",
       "88822    Cirrus Design Corp       SF50            No  ...        Unknown   \n",
       "88836  Gates Lear Jet Corp.         36            No  ...        Unknown   \n",
       "88837               Learjet         35            No  ...        Unknown   \n",
       "\n",
       "      Purpose Of Flight Total Fatal Injuries  Total Serious Injuries  \\\n",
       "25             Business                  8.0                     0.0   \n",
       "36             Business                  1.0                     0.0   \n",
       "41             Business                  0.0                     1.0   \n",
       "109            Business                  0.0                     2.0   \n",
       "112            Business                  0.0                     0.0   \n",
       "...                 ...                  ...                     ...   \n",
       "88794       Positioning                  1.0                     0.0   \n",
       "88804          Business                  0.0                     0.0   \n",
       "88822       Positioning                  0.0                     0.0   \n",
       "88836    Other Work Use                  0.0                     0.0   \n",
       "88837       Positioning                  0.0                     0.0   \n",
       "\n",
       "       Total Minor Injuries  Total Uninjured  Weather Condition  \\\n",
       "25                      0.0              0.0                IMC   \n",
       "36                      1.0              0.0                VMC   \n",
       "41                      0.0              1.0                VMC   \n",
       "109                     2.0              0.0                VMC   \n",
       "112                     0.0              1.0                VMC   \n",
       "...                     ...              ...                ...   \n",
       "88794                   0.0              0.0                VMC   \n",
       "88804                   0.0              7.0                VMC   \n",
       "88822                   0.0              1.0                IMC   \n",
       "88836                   0.0              3.0                VMC   \n",
       "88837                   0.0              4.0                VMC   \n",
       "\n",
       "      Broad Phase Of Flight Total Passengers               Make-Model  \n",
       "25                 Approach              8.0              Cessna 414A  \n",
       "36                     Taxi              2.0               Cessna 206  \n",
       "41                  Descent              2.0          Piper PA-24-250  \n",
       "109                 Descent              4.0                Beech C23  \n",
       "112                 Takeoff              1.0              Cessna 180K  \n",
       "...                     ...              ...                      ...  \n",
       "88794               Unknown              1.0              Cessna 421C  \n",
       "88804               Unknown              7.0               Cessna 207  \n",
       "88822               Unknown              1.0  Cirrus Design Corp SF50  \n",
       "88836               Unknown              3.0  Gates Lear Jet Corp. 36  \n",
       "88837               Unknown              4.0               Learjet 35  \n",
       "\n",
       "[837 rows x 21 columns]"
      ]
     },
     "execution_count": 86,
     "metadata": {},
     "output_type": "execute_result"
    }
   ],
   "source": [
    "df"
   ]
  },
  {
   "cell_type": "code",
   "execution_count": 87,
   "id": "2819a534",
   "metadata": {},
   "outputs": [],
   "source": [
    "df.to_csv('Clean_Aviation_Data_Final.csv')"
   ]
  }
 ],
 "metadata": {
  "kernelspec": {
   "display_name": "Python (learn-env)",
   "language": "python",
   "name": "learn-env"
  },
  "language_info": {
   "codemirror_mode": {
    "name": "ipython",
    "version": 3
   },
   "file_extension": ".py",
   "mimetype": "text/x-python",
   "name": "python",
   "nbconvert_exporter": "python",
   "pygments_lexer": "ipython3",
   "version": "3.8.5"
  }
 },
 "nbformat": 4,
 "nbformat_minor": 5
}
