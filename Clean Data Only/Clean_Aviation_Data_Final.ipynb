{
 "cells": [
  {
   "cell_type": "code",
   "execution_count": 1,
   "id": "4787e0fe-64c8-4304-b10a-85935d3ad759",
   "metadata": {},
   "outputs": [],
   "source": [
    "import pandas as pd\n",
    "import numpy as np\n",
    "import matplotlib.pyplot as plt\n",
    "\n",
    "import seaborn as sns"
   ]
  },
  {
   "cell_type": "markdown",
   "id": "4a03353e",
   "metadata": {},
   "source": [
    "First, we load in our dataset"
   ]
  },
  {
   "cell_type": "code",
   "execution_count": 4,
   "id": "19abf858-6596-4675-aa90-19765dea72f9",
   "metadata": {},
   "outputs": [
    {
     "data": {
      "text/html": [
       "<div>\n",
       "<style scoped>\n",
       "    .dataframe tbody tr th:only-of-type {\n",
       "        vertical-align: middle;\n",
       "    }\n",
       "\n",
       "    .dataframe tbody tr th {\n",
       "        vertical-align: top;\n",
       "    }\n",
       "\n",
       "    .dataframe thead th {\n",
       "        text-align: right;\n",
       "    }\n",
       "</style>\n",
       "<table border=\"1\" class=\"dataframe\">\n",
       "  <thead>\n",
       "    <tr style=\"text-align: right;\">\n",
       "      <th></th>\n",
       "      <th>Event.Id</th>\n",
       "      <th>Investigation.Type</th>\n",
       "      <th>Accident.Number</th>\n",
       "      <th>Event.Date</th>\n",
       "      <th>Location</th>\n",
       "      <th>Country</th>\n",
       "      <th>Latitude</th>\n",
       "      <th>Longitude</th>\n",
       "      <th>Airport.Code</th>\n",
       "      <th>Airport.Name</th>\n",
       "      <th>...</th>\n",
       "      <th>Purpose.of.flight</th>\n",
       "      <th>Air.carrier</th>\n",
       "      <th>Total.Fatal.Injuries</th>\n",
       "      <th>Total.Serious.Injuries</th>\n",
       "      <th>Total.Minor.Injuries</th>\n",
       "      <th>Total.Uninjured</th>\n",
       "      <th>Weather.Condition</th>\n",
       "      <th>Broad.phase.of.flight</th>\n",
       "      <th>Report.Status</th>\n",
       "      <th>Publication.Date</th>\n",
       "    </tr>\n",
       "  </thead>\n",
       "  <tbody>\n",
       "    <tr>\n",
       "      <th>0</th>\n",
       "      <td>20001218X45444</td>\n",
       "      <td>Accident</td>\n",
       "      <td>SEA87LA080</td>\n",
       "      <td>1948-10-24</td>\n",
       "      <td>MOOSE CREEK, ID</td>\n",
       "      <td>United States</td>\n",
       "      <td>NaN</td>\n",
       "      <td>NaN</td>\n",
       "      <td>NaN</td>\n",
       "      <td>NaN</td>\n",
       "      <td>...</td>\n",
       "      <td>Personal</td>\n",
       "      <td>NaN</td>\n",
       "      <td>2.0</td>\n",
       "      <td>0.0</td>\n",
       "      <td>0.0</td>\n",
       "      <td>0.0</td>\n",
       "      <td>UNK</td>\n",
       "      <td>Cruise</td>\n",
       "      <td>Probable Cause</td>\n",
       "      <td>NaN</td>\n",
       "    </tr>\n",
       "    <tr>\n",
       "      <th>1</th>\n",
       "      <td>20001218X45447</td>\n",
       "      <td>Accident</td>\n",
       "      <td>LAX94LA336</td>\n",
       "      <td>1962-07-19</td>\n",
       "      <td>BRIDGEPORT, CA</td>\n",
       "      <td>United States</td>\n",
       "      <td>NaN</td>\n",
       "      <td>NaN</td>\n",
       "      <td>NaN</td>\n",
       "      <td>NaN</td>\n",
       "      <td>...</td>\n",
       "      <td>Personal</td>\n",
       "      <td>NaN</td>\n",
       "      <td>4.0</td>\n",
       "      <td>0.0</td>\n",
       "      <td>0.0</td>\n",
       "      <td>0.0</td>\n",
       "      <td>UNK</td>\n",
       "      <td>Unknown</td>\n",
       "      <td>Probable Cause</td>\n",
       "      <td>19-09-1996</td>\n",
       "    </tr>\n",
       "    <tr>\n",
       "      <th>2</th>\n",
       "      <td>20061025X01555</td>\n",
       "      <td>Accident</td>\n",
       "      <td>NYC07LA005</td>\n",
       "      <td>1974-08-30</td>\n",
       "      <td>Saltville, VA</td>\n",
       "      <td>United States</td>\n",
       "      <td>36.922223</td>\n",
       "      <td>-81.878056</td>\n",
       "      <td>NaN</td>\n",
       "      <td>NaN</td>\n",
       "      <td>...</td>\n",
       "      <td>Personal</td>\n",
       "      <td>NaN</td>\n",
       "      <td>3.0</td>\n",
       "      <td>NaN</td>\n",
       "      <td>NaN</td>\n",
       "      <td>NaN</td>\n",
       "      <td>IMC</td>\n",
       "      <td>Cruise</td>\n",
       "      <td>Probable Cause</td>\n",
       "      <td>26-02-2007</td>\n",
       "    </tr>\n",
       "    <tr>\n",
       "      <th>3</th>\n",
       "      <td>20001218X45448</td>\n",
       "      <td>Accident</td>\n",
       "      <td>LAX96LA321</td>\n",
       "      <td>1977-06-19</td>\n",
       "      <td>EUREKA, CA</td>\n",
       "      <td>United States</td>\n",
       "      <td>NaN</td>\n",
       "      <td>NaN</td>\n",
       "      <td>NaN</td>\n",
       "      <td>NaN</td>\n",
       "      <td>...</td>\n",
       "      <td>Personal</td>\n",
       "      <td>NaN</td>\n",
       "      <td>2.0</td>\n",
       "      <td>0.0</td>\n",
       "      <td>0.0</td>\n",
       "      <td>0.0</td>\n",
       "      <td>IMC</td>\n",
       "      <td>Cruise</td>\n",
       "      <td>Probable Cause</td>\n",
       "      <td>12-09-2000</td>\n",
       "    </tr>\n",
       "    <tr>\n",
       "      <th>4</th>\n",
       "      <td>20041105X01764</td>\n",
       "      <td>Accident</td>\n",
       "      <td>CHI79FA064</td>\n",
       "      <td>1979-08-02</td>\n",
       "      <td>Canton, OH</td>\n",
       "      <td>United States</td>\n",
       "      <td>NaN</td>\n",
       "      <td>NaN</td>\n",
       "      <td>NaN</td>\n",
       "      <td>NaN</td>\n",
       "      <td>...</td>\n",
       "      <td>Personal</td>\n",
       "      <td>NaN</td>\n",
       "      <td>1.0</td>\n",
       "      <td>2.0</td>\n",
       "      <td>NaN</td>\n",
       "      <td>0.0</td>\n",
       "      <td>VMC</td>\n",
       "      <td>Approach</td>\n",
       "      <td>Probable Cause</td>\n",
       "      <td>16-04-1980</td>\n",
       "    </tr>\n",
       "    <tr>\n",
       "      <th>...</th>\n",
       "      <td>...</td>\n",
       "      <td>...</td>\n",
       "      <td>...</td>\n",
       "      <td>...</td>\n",
       "      <td>...</td>\n",
       "      <td>...</td>\n",
       "      <td>...</td>\n",
       "      <td>...</td>\n",
       "      <td>...</td>\n",
       "      <td>...</td>\n",
       "      <td>...</td>\n",
       "      <td>...</td>\n",
       "      <td>...</td>\n",
       "      <td>...</td>\n",
       "      <td>...</td>\n",
       "      <td>...</td>\n",
       "      <td>...</td>\n",
       "      <td>...</td>\n",
       "      <td>...</td>\n",
       "      <td>...</td>\n",
       "      <td>...</td>\n",
       "    </tr>\n",
       "    <tr>\n",
       "      <th>88884</th>\n",
       "      <td>20221227106491</td>\n",
       "      <td>Accident</td>\n",
       "      <td>ERA23LA093</td>\n",
       "      <td>2022-12-26</td>\n",
       "      <td>Annapolis, MD</td>\n",
       "      <td>United States</td>\n",
       "      <td>NaN</td>\n",
       "      <td>NaN</td>\n",
       "      <td>NaN</td>\n",
       "      <td>NaN</td>\n",
       "      <td>...</td>\n",
       "      <td>Personal</td>\n",
       "      <td>NaN</td>\n",
       "      <td>0.0</td>\n",
       "      <td>1.0</td>\n",
       "      <td>0.0</td>\n",
       "      <td>0.0</td>\n",
       "      <td>NaN</td>\n",
       "      <td>NaN</td>\n",
       "      <td>NaN</td>\n",
       "      <td>29-12-2022</td>\n",
       "    </tr>\n",
       "    <tr>\n",
       "      <th>88885</th>\n",
       "      <td>20221227106494</td>\n",
       "      <td>Accident</td>\n",
       "      <td>ERA23LA095</td>\n",
       "      <td>2022-12-26</td>\n",
       "      <td>Hampton, NH</td>\n",
       "      <td>United States</td>\n",
       "      <td>NaN</td>\n",
       "      <td>NaN</td>\n",
       "      <td>NaN</td>\n",
       "      <td>NaN</td>\n",
       "      <td>...</td>\n",
       "      <td>NaN</td>\n",
       "      <td>NaN</td>\n",
       "      <td>0.0</td>\n",
       "      <td>0.0</td>\n",
       "      <td>0.0</td>\n",
       "      <td>0.0</td>\n",
       "      <td>NaN</td>\n",
       "      <td>NaN</td>\n",
       "      <td>NaN</td>\n",
       "      <td>NaN</td>\n",
       "    </tr>\n",
       "    <tr>\n",
       "      <th>88886</th>\n",
       "      <td>20221227106497</td>\n",
       "      <td>Accident</td>\n",
       "      <td>WPR23LA075</td>\n",
       "      <td>2022-12-26</td>\n",
       "      <td>Payson, AZ</td>\n",
       "      <td>United States</td>\n",
       "      <td>341525N</td>\n",
       "      <td>1112021W</td>\n",
       "      <td>PAN</td>\n",
       "      <td>PAYSON</td>\n",
       "      <td>...</td>\n",
       "      <td>Personal</td>\n",
       "      <td>NaN</td>\n",
       "      <td>0.0</td>\n",
       "      <td>0.0</td>\n",
       "      <td>0.0</td>\n",
       "      <td>1.0</td>\n",
       "      <td>VMC</td>\n",
       "      <td>NaN</td>\n",
       "      <td>NaN</td>\n",
       "      <td>27-12-2022</td>\n",
       "    </tr>\n",
       "    <tr>\n",
       "      <th>88887</th>\n",
       "      <td>20221227106498</td>\n",
       "      <td>Accident</td>\n",
       "      <td>WPR23LA076</td>\n",
       "      <td>2022-12-26</td>\n",
       "      <td>Morgan, UT</td>\n",
       "      <td>United States</td>\n",
       "      <td>NaN</td>\n",
       "      <td>NaN</td>\n",
       "      <td>NaN</td>\n",
       "      <td>NaN</td>\n",
       "      <td>...</td>\n",
       "      <td>Personal</td>\n",
       "      <td>MC CESSNA 210N LLC</td>\n",
       "      <td>0.0</td>\n",
       "      <td>0.0</td>\n",
       "      <td>0.0</td>\n",
       "      <td>0.0</td>\n",
       "      <td>NaN</td>\n",
       "      <td>NaN</td>\n",
       "      <td>NaN</td>\n",
       "      <td>NaN</td>\n",
       "    </tr>\n",
       "    <tr>\n",
       "      <th>88888</th>\n",
       "      <td>20221230106513</td>\n",
       "      <td>Accident</td>\n",
       "      <td>ERA23LA097</td>\n",
       "      <td>2022-12-29</td>\n",
       "      <td>Athens, GA</td>\n",
       "      <td>United States</td>\n",
       "      <td>NaN</td>\n",
       "      <td>NaN</td>\n",
       "      <td>NaN</td>\n",
       "      <td>NaN</td>\n",
       "      <td>...</td>\n",
       "      <td>Personal</td>\n",
       "      <td>NaN</td>\n",
       "      <td>0.0</td>\n",
       "      <td>1.0</td>\n",
       "      <td>0.0</td>\n",
       "      <td>1.0</td>\n",
       "      <td>NaN</td>\n",
       "      <td>NaN</td>\n",
       "      <td>NaN</td>\n",
       "      <td>30-12-2022</td>\n",
       "    </tr>\n",
       "  </tbody>\n",
       "</table>\n",
       "<p>88889 rows × 31 columns</p>\n",
       "</div>"
      ],
      "text/plain": [
       "             Event.Id Investigation.Type Accident.Number  Event.Date  \\\n",
       "0      20001218X45444           Accident      SEA87LA080  1948-10-24   \n",
       "1      20001218X45447           Accident      LAX94LA336  1962-07-19   \n",
       "2      20061025X01555           Accident      NYC07LA005  1974-08-30   \n",
       "3      20001218X45448           Accident      LAX96LA321  1977-06-19   \n",
       "4      20041105X01764           Accident      CHI79FA064  1979-08-02   \n",
       "...               ...                ...             ...         ...   \n",
       "88884  20221227106491           Accident      ERA23LA093  2022-12-26   \n",
       "88885  20221227106494           Accident      ERA23LA095  2022-12-26   \n",
       "88886  20221227106497           Accident      WPR23LA075  2022-12-26   \n",
       "88887  20221227106498           Accident      WPR23LA076  2022-12-26   \n",
       "88888  20221230106513           Accident      ERA23LA097  2022-12-29   \n",
       "\n",
       "              Location        Country   Latitude   Longitude Airport.Code  \\\n",
       "0      MOOSE CREEK, ID  United States        NaN         NaN          NaN   \n",
       "1       BRIDGEPORT, CA  United States        NaN         NaN          NaN   \n",
       "2        Saltville, VA  United States  36.922223  -81.878056          NaN   \n",
       "3           EUREKA, CA  United States        NaN         NaN          NaN   \n",
       "4           Canton, OH  United States        NaN         NaN          NaN   \n",
       "...                ...            ...        ...         ...          ...   \n",
       "88884    Annapolis, MD  United States        NaN         NaN          NaN   \n",
       "88885      Hampton, NH  United States        NaN         NaN          NaN   \n",
       "88886       Payson, AZ  United States    341525N    1112021W          PAN   \n",
       "88887       Morgan, UT  United States        NaN         NaN          NaN   \n",
       "88888       Athens, GA  United States        NaN         NaN          NaN   \n",
       "\n",
       "      Airport.Name  ... Purpose.of.flight         Air.carrier  \\\n",
       "0              NaN  ...          Personal                 NaN   \n",
       "1              NaN  ...          Personal                 NaN   \n",
       "2              NaN  ...          Personal                 NaN   \n",
       "3              NaN  ...          Personal                 NaN   \n",
       "4              NaN  ...          Personal                 NaN   \n",
       "...            ...  ...               ...                 ...   \n",
       "88884          NaN  ...          Personal                 NaN   \n",
       "88885          NaN  ...               NaN                 NaN   \n",
       "88886       PAYSON  ...          Personal                 NaN   \n",
       "88887          NaN  ...          Personal  MC CESSNA 210N LLC   \n",
       "88888          NaN  ...          Personal                 NaN   \n",
       "\n",
       "      Total.Fatal.Injuries Total.Serious.Injuries Total.Minor.Injuries  \\\n",
       "0                      2.0                    0.0                  0.0   \n",
       "1                      4.0                    0.0                  0.0   \n",
       "2                      3.0                    NaN                  NaN   \n",
       "3                      2.0                    0.0                  0.0   \n",
       "4                      1.0                    2.0                  NaN   \n",
       "...                    ...                    ...                  ...   \n",
       "88884                  0.0                    1.0                  0.0   \n",
       "88885                  0.0                    0.0                  0.0   \n",
       "88886                  0.0                    0.0                  0.0   \n",
       "88887                  0.0                    0.0                  0.0   \n",
       "88888                  0.0                    1.0                  0.0   \n",
       "\n",
       "      Total.Uninjured Weather.Condition  Broad.phase.of.flight  \\\n",
       "0                 0.0               UNK                 Cruise   \n",
       "1                 0.0               UNK                Unknown   \n",
       "2                 NaN               IMC                 Cruise   \n",
       "3                 0.0               IMC                 Cruise   \n",
       "4                 0.0               VMC               Approach   \n",
       "...               ...               ...                    ...   \n",
       "88884             0.0               NaN                    NaN   \n",
       "88885             0.0               NaN                    NaN   \n",
       "88886             1.0               VMC                    NaN   \n",
       "88887             0.0               NaN                    NaN   \n",
       "88888             1.0               NaN                    NaN   \n",
       "\n",
       "        Report.Status Publication.Date  \n",
       "0      Probable Cause              NaN  \n",
       "1      Probable Cause       19-09-1996  \n",
       "2      Probable Cause       26-02-2007  \n",
       "3      Probable Cause       12-09-2000  \n",
       "4      Probable Cause       16-04-1980  \n",
       "...               ...              ...  \n",
       "88884             NaN       29-12-2022  \n",
       "88885             NaN              NaN  \n",
       "88886             NaN       27-12-2022  \n",
       "88887             NaN              NaN  \n",
       "88888             NaN       30-12-2022  \n",
       "\n",
       "[88889 rows x 31 columns]"
      ]
     },
     "execution_count": 4,
     "metadata": {},
     "output_type": "execute_result"
    }
   ],
   "source": [
    "df = pd. read_csv('/Users/jessiefreelander/Flatiron_labs/Git_lab_projects/Phase_1_proj/Phase-1-Project/Phase-1-Project/Phase-1-Project/Phase-1-Project/Phase-1-Project/Phase-1-Project/Data/AviationData.csv', encoding = 'latin1', low_memory = False)\n",
    "df"
   ]
  },
  {
   "cell_type": "markdown",
   "id": "e49397bd",
   "metadata": {},
   "source": [
    "Let's clean up any unnecessary punctuation, spaces, and fix capitalization for column names."
   ]
  },
  {
   "cell_type": "code",
   "execution_count": null,
   "id": "77d122e0-a18c-4ed8-ac8a-b4f4f9710d47",
   "metadata": {},
   "outputs": [],
   "source": [
    "#Replace periods in all the column names\n",
    "df.columns = df.columns.str.replace('.', ' ', regex=False)"
   ]
  },
  {
   "cell_type": "code",
   "execution_count": null,
   "id": "8814c5f3",
   "metadata": {},
   "outputs": [],
   "source": [
    "#Fixing the capitalization for column names\n",
    "df.columns = df.columns.str.title()"
   ]
  },
  {
   "cell_type": "code",
   "execution_count": null,
   "id": "0e20ef40",
   "metadata": {},
   "outputs": [],
   "source": [
    "df.info()"
   ]
  },
  {
   "cell_type": "markdown",
   "id": "947278f4",
   "metadata": {},
   "source": [
    "Let's start exploring each column to identify any duplicate values, missing values, and unnecessary columns/rows."
   ]
  },
  {
   "cell_type": "code",
   "execution_count": null,
   "id": "6297f0c7",
   "metadata": {},
   "outputs": [],
   "source": [
    "df['Weather Condition'].value_counts()"
   ]
  },
  {
   "cell_type": "code",
   "execution_count": null,
   "id": "da94e70e",
   "metadata": {},
   "outputs": [],
   "source": [
    "#There are two columns for unknowns. Let's consolidate into one.\n",
    "df['Weather Condition'] = df['Weather Condition'].str.replace('Unk','UNK')"
   ]
  },
  {
   "cell_type": "code",
   "execution_count": null,
   "id": "53eeaa6d",
   "metadata": {},
   "outputs": [],
   "source": [
    "df['Weather Condition'].value_counts()"
   ]
  },
  {
   "cell_type": "code",
   "execution_count": null,
   "id": "31a5c841",
   "metadata": {},
   "outputs": [],
   "source": [
    "# The publication date for these reports are not useful to us. The event date \n",
    "## is enough for us to track the times of these accidents.\n",
    "df = df.drop('Publication Date', axis = 1)"
   ]
  },
  {
   "cell_type": "code",
   "execution_count": null,
   "id": "d4cf9bd6",
   "metadata": {},
   "outputs": [],
   "source": [
    "df.info()"
   ]
  },
  {
   "cell_type": "code",
   "execution_count": null,
   "id": "51968764",
   "metadata": {},
   "outputs": [],
   "source": [
    "df['Schedule'].value_counts()"
   ]
  },
  {
   "cell_type": "code",
   "execution_count": null,
   "id": "fa07a7b0",
   "metadata": {},
   "outputs": [],
   "source": [
    "# Since the schedule status for flights does not contribute anyway to safety\n",
    "## of flights we can drop this column.\n",
    "\n",
    "df = df.drop('Schedule', axis = 1)"
   ]
  },
  {
   "cell_type": "code",
   "execution_count": null,
   "id": "5bd7b89e",
   "metadata": {},
   "outputs": [],
   "source": [
    "#We will be focusing on the make and model of each plane so we can do without\n",
    "#   knowing the Air Carriers.\n",
    "\n",
    "df = df.drop('Air Carrier', axis = 1)"
   ]
  },
  {
   "cell_type": "code",
   "execution_count": null,
   "id": "a99cbda5",
   "metadata": {},
   "outputs": [],
   "source": [
    "# There's more missing values than existing values for the Latitude and Longitude columns\n",
    "## Since we have the cities, countries, and airports to pinpoint locations of flights,\n",
    "### let's get ride of these 2 columns.\n",
    "\n",
    "df['Latitude'].isna().value_counts()\n",
    "df['Longitude'].isna().value_counts()"
   ]
  },
  {
   "cell_type": "code",
   "execution_count": null,
   "id": "3adc4199",
   "metadata": {},
   "outputs": [],
   "source": [
    "df = df.drop('Latitude', axis=1)\n",
    "df = df.drop('Longitude', axis=1)"
   ]
  },
  {
   "cell_type": "code",
   "execution_count": null,
   "id": "950c01d0",
   "metadata": {},
   "outputs": [],
   "source": [
    "# Amateur Built aircrafts are homebuilt aircrafts or kit planes constructed by\n",
    "## individuals for personal use or education rather than professional activity.\n",
    "### We only want professionaly built aircrafts for our purposes, so we can get rid of any\n",
    "#### aircrafts that are Amateur Built.\n",
    "\n",
    "df = df.drop(df[df['Amateur Built'] == 'Yes'].index)"
   ]
  },
  {
   "cell_type": "code",
   "execution_count": null,
   "id": "dabaed25",
   "metadata": {},
   "outputs": [],
   "source": [
    "df.info()"
   ]
  },
  {
   "cell_type": "code",
   "execution_count": null,
   "id": "fb5bf969",
   "metadata": {},
   "outputs": [],
   "source": [
    "df['Engine Type'].value_counts()"
   ]
  },
  {
   "cell_type": "markdown",
   "id": "5207446a",
   "metadata": {},
   "source": [
    "Let's take a deep dive into these engine types to figure out which engines are suitable for our corporate and business aviation purposes.\n",
    "\n",
    "1. Reciprocating (a.k.a. piston) engines are used for general aviation because they're affordable, robust, and have good fuel efficiency. They're also used for corporate aviation and are best for flying at lower altitudes. **We'll keep this one!**\n",
    "\n",
    "2. Turbo Shaft engines are used in helicopters and large commercial aircrafts. **We'll keep this!**\n",
    "\n",
    "3. Turbo Prop engines are a hybrid of piston and jet ingines that are used in light aircrafts. They're known for their fuel efficiency on short and medium-haul flights. They offer good performance at low altitudes and speeds, and are ideal fo take-off and landing operations at smaller airports. **We'll keep this!**\n",
    "\n",
    "4. Turbofan engines are commonly used in corporate aircrafts including light to mid-size business jets, and are generally popular for commercial aircrafts. They are known for being compact and fuel efficient. **We'll keep this!**\n",
    "\n",
    "5. Turbo Jet engines are commonly used in commercial aircrafts and private jets. They are capable of high speeds and take up little space. **We'll keep this!**\n",
    "\n",
    "6. Geared Turbo Fans are commonly used in commercial aircrafts, a sub-type of Turbofan engines. They are efficient with smaller and faster tubrines. **We'll keep this!**\n",
    "\n",
    "7. LR engines, or long range engines, are developed for ultra-long-haul routes such as from L.A. to Singapore. This will be useful for our executives. **We'll keep this!**\n",
    "\n",
    "8. Electric engines are relatively newer to the industry and are mainly used for training flights. They're not yet a common use for the commercial industry though many companies are working on and investing in building these aircrafts. We can drop these values and luckily there's only 10 values to drop. \n",
    "\n",
    "9. Hybrid rocket engines are used in rockets, so for obvious reasons we can drop that."
   ]
  },
  {
   "cell_type": "code",
   "execution_count": null,
   "id": "b85fd5fd",
   "metadata": {},
   "outputs": [],
   "source": [
    "df.drop(df[df['Engine Type'] == 'Hybrid Rocket'].index, inplace = True)\n",
    "df.drop(df[df['Engine Type'] == 'Electric'].index, inplace = True)\n",
    "\n",
    "df['Engine Type'].value_counts()"
   ]
  },
  {
   "cell_type": "markdown",
   "id": "8aa56611",
   "metadata": {},
   "source": [
    "Now let's consolidate the unknown values."
   ]
  },
  {
   "cell_type": "code",
   "execution_count": null,
   "id": "9daf38b2",
   "metadata": {},
   "outputs": [],
   "source": [
    "df['Engine Type'] = df['Engine Type'].str.replace('UNK', 'Unknown')\n",
    "df['Engine Type'] = df['Engine Type'].str.replace('NONE', 'Unknown')\n",
    "df['Engine Type'] = df['Engine Type'].str.replace('None', 'Unknown')\n",
    "df['Engine Type'].value_counts()"
   ]
  },
  {
   "cell_type": "code",
   "execution_count": null,
   "id": "96a7a36b",
   "metadata": {},
   "outputs": [],
   "source": [
    "# Let's replace the missing values as Unknown.\n",
    "df['Engine Type'].isna().value_counts()\n"
   ]
  },
  {
   "cell_type": "code",
   "execution_count": null,
   "id": "a21f541b",
   "metadata": {},
   "outputs": [],
   "source": [
    "df['Engine Type'] = df['Engine Type'].fillna('Unknown')\n",
    "df['Engine Type'].value_counts()"
   ]
  },
  {
   "cell_type": "code",
   "execution_count": null,
   "id": "0b432362",
   "metadata": {},
   "outputs": [],
   "source": [
    "df.info()"
   ]
  },
  {
   "cell_type": "code",
   "execution_count": null,
   "id": "cf816aac",
   "metadata": {},
   "outputs": [],
   "source": [
    "# We won't need the airport codes since we have airport names.\n",
    "df.drop('Airport Code', axis=1, inplace = True)"
   ]
  },
  {
   "cell_type": "code",
   "execution_count": null,
   "id": "a0387285",
   "metadata": {},
   "outputs": [],
   "source": [
    "# Let's replace missing Location value as Unknown.\n",
    "df['Location'].isna().value_counts()\n",
    "df['Location'] = df['Location'].fillna('Unknown')"
   ]
  },
  {
   "cell_type": "code",
   "execution_count": null,
   "id": "0ea97322",
   "metadata": {},
   "outputs": [],
   "source": [
    "df.info()"
   ]
  },
  {
   "cell_type": "code",
   "execution_count": null,
   "id": "cefc77fc",
   "metadata": {},
   "outputs": [],
   "source": [
    "# Let's replace any missing Country values with Unknown\n",
    "df['Country'] = df['Country'].fillna('Unknown')\n",
    "df['Country'].value_counts()"
   ]
  },
  {
   "cell_type": "code",
   "execution_count": null,
   "id": "7f8d80df",
   "metadata": {},
   "outputs": [],
   "source": [
    "# It looks like Country column has a skewed representation of data because the U.S. represents more than 90% of the data. \n",
    "## We can make a separate dataframe that solely includes U.S. called df_us to do analyses on specific incidents in the U.S.\n",
    "\n",
    "df_us = df[df['Country'] == 'United States']"
   ]
  },
  {
   "cell_type": "code",
   "execution_count": null,
   "id": "688fa98c",
   "metadata": {},
   "outputs": [],
   "source": [
    "# Event Date values are currently an object type, let's transform them into datetime types\n",
    "df['Event Date'] = pd.to_datetime(df['Event Date'])"
   ]
  },
  {
   "cell_type": "code",
   "execution_count": null,
   "id": "16de3b2b",
   "metadata": {},
   "outputs": [],
   "source": [
    "# Injury Severity has Fatal values with different names. Let's rename any values that \n",
    "# start with Fatal to just be called 'Fatal'.\n",
    "\n",
    "df['Injury Severity'] = df['Injury Severity'].apply(lambda x: 'Fatal' if 'Fatal' in str(x) else x)"
   ]
  },
  {
   "cell_type": "code",
   "execution_count": null,
   "id": "502d5912",
   "metadata": {},
   "outputs": [],
   "source": [
    "# Injury Severity has missing values with different names, let's call them all 'Unavailable'.\n",
    "df['Injury Severity'].fillna('Unavailable', inplace=True)\n",
    "df['Injury Severity'].value_counts()\n"
   ]
  },
  {
   "cell_type": "code",
   "execution_count": null,
   "id": "870e67a2",
   "metadata": {},
   "outputs": [],
   "source": [
    "# There are many types of aircrafts but for our intents and purposes we only want to see airplanes, so let's remove anything that isn't an airplane.\n",
    "df['Aircraft Category'].value_counts()\n"
   ]
  },
  {
   "cell_type": "code",
   "execution_count": null,
   "id": "f8f2ffc3",
   "metadata": {},
   "outputs": [],
   "source": [
    "df = df.drop(df[(df['Aircraft Category'] != 'Airplane')].index)"
   ]
  },
  {
   "cell_type": "code",
   "execution_count": null,
   "id": "7487ba39",
   "metadata": {},
   "outputs": [],
   "source": [
    "# Let's look at our overall info ans see what else is left.\n",
    "df.info()"
   ]
  },
  {
   "cell_type": "code",
   "execution_count": null,
   "id": "342135c5",
   "metadata": {},
   "outputs": [],
   "source": [
    "# Aircraft Damage has  138 missing values, lets drop them since there's too few to affect our analysis.\n",
    "\n",
    "df['Aircraft Damage'].value_counts()\n",
    "df['Aircraft Damage'].isna().value_counts()\n",
    "df['Aircraft Damage'] = df['Aircraft Damage'].fillna('Unknown')\n",
    "df = df.drop(df[df['Aircraft Damage'] == 'Unknown'].index)\n",
    "df['Aircraft Damage'].value_counts()\n"
   ]
  },
  {
   "cell_type": "code",
   "execution_count": null,
   "id": "e566118e",
   "metadata": {},
   "outputs": [],
   "source": [
    "# Let's look into the Purpose of Flight column.\n",
    "## Let's get rid of the values that won't be useful to us for business and corporate travel\n",
    "df['Purpose Of Flight'].value_counts()\n"
   ]
  },
  {
   "cell_type": "code",
   "execution_count": null,
   "id": "32dd87a1",
   "metadata": {},
   "outputs": [],
   "source": [
    "df = df.drop(df[(df['Purpose Of Flight'] != 'Personal') & (df['Purpose Of Flight'] != 'Aerial Application') & (df['Purpose Of Flight'] != 'Instructional') & (df['Purpose Of Flight'] != 'Unknown') & (df['Purpose Of Flight'] != 'Business') & (df['Purpose Of Flight'] != 'Positioning') & (df['Purpose Of Flight'] != 'Executive/corporate') & (df['Purpose Of Flight'] != 'Flight Test') & (df['Purpose Of Flight'] != 'Other Work Use') & (df['Purpose Of Flight'] != 'Public Aircraft - State') & (df['Purpose Of Flight'] != 'Ferry') & (df['Purpose Of Flight'] != 'Public Aircraft') & (df['Purpose Of Flight'] != 'Public Aircraft - Local')].index)"
   ]
  },
  {
   "cell_type": "code",
   "execution_count": null,
   "id": "c61e7933",
   "metadata": {},
   "outputs": [],
   "source": [
    "# We'll get rid of registration number since that won't be useful to our analysis\n",
    "df = df.drop(['Registration Number'], axis =1)"
   ]
  },
  {
   "cell_type": "code",
   "execution_count": null,
   "id": "4c74a35a",
   "metadata": {},
   "outputs": [],
   "source": [
    "# Models has some missing values that we'll drop since there aren't many and have unknown Models will not be helpful in offering a final recommendation.\n",
    "df['Model'].isna().value_counts()\n",
    "df.dropna(subset= ['Model'], inplace=True)"
   ]
  },
  {
   "cell_type": "code",
   "execution_count": null,
   "id": "01e8f766",
   "metadata": {},
   "outputs": [],
   "source": [
    "df['Model'].isna().value_counts()"
   ]
  },
  {
   "cell_type": "code",
   "execution_count": null,
   "id": "1acf7d69",
   "metadata": {},
   "outputs": [],
   "source": [
    "# We need to clean up the Make column to get rid of duplicate Make types caused by different cases and white space.\n",
    "df['Make'].value_counts()\n",
    "df['Make'] = df['Make'].replace('CESSNA', 'Cessna')\n",
    "df['Make'] = df['Make'].replace('PIPER', 'Piper')\n",
    "df['Make'] = df['Make'].replace('BEECH', 'Beech')\n",
    "df['Make'] = df['Make'].str.strip(' ')\n",
    "df[['Make', 'Model']].value_counts()\n",
    "df['Make'] = df['Make'].str.title()\n",
    "df['Make'].value_counts()\n",
    "\n",
    "#Let's also drop any missing values in this column\n",
    "df.dropna(subset= ['Make'], inplace=True)\n",
    "\n"
   ]
  },
  {
   "cell_type": "code",
   "execution_count": null,
   "id": "e3e66a1c",
   "metadata": {},
   "outputs": [],
   "source": [
    "df['Make'].isna().value_counts()\n"
   ]
  },
  {
   "cell_type": "code",
   "execution_count": null,
   "id": "1a86baba",
   "metadata": {},
   "outputs": [],
   "source": [
    "df['Number Of Engines'].isna().value_counts()"
   ]
  },
  {
   "cell_type": "code",
   "execution_count": null,
   "id": "57863c63",
   "metadata": {},
   "outputs": [],
   "source": [
    "# I wanted to see what the relationship between Total Fatal Injuries and Make looks like.\n",
    "## This scatter plot shows that there's almost too many Makes to be able to distinguish any type of pattern\n",
    "### It seems it will be important to cut down on unneccessary Makes and Models, and then create a Make-Model column\n",
    "#### to have unique identifiers that will stand out and reveal more to us\n",
    "\n",
    "fig, ax = plt.subplots(figsize = (20, 10))\n",
    "sns.scatterplot(x = 'Make', y = 'Total Fatal Injuries', data = df, ax = ax)"
   ]
  },
  {
   "cell_type": "markdown",
   "id": "ea4a6b51",
   "metadata": {},
   "source": [
    "Let's keep getting rid of missing values in the rest of the rest of the columns first before we continue cutting down Makes and Models."
   ]
  },
  {
   "cell_type": "code",
   "execution_count": null,
   "id": "370dce7d",
   "metadata": {},
   "outputs": [],
   "source": [
    "# The mean, median, and mode for number of engines is about 1 per aircraft. Let's fill the missing values with the average.\n",
    "df['Number Of Engines'].mean()\n",
    "df['Number Of Engines'] = df['Number Of Engines'].fillna(df['Number Of Engines'].mean())\n",
    "df['Number Of Engines'].isna().value_counts()"
   ]
  },
  {
   "cell_type": "code",
   "execution_count": null,
   "id": "56228b4d",
   "metadata": {},
   "outputs": [],
   "source": [
    "# The mean of total fatal injuries is .04. Theres about 1000 missing values. Let's fill them in with the mean.\n",
    "df['Total Fatal Injuries'].isna().value_counts()\n",
    "df['Total Fatal Injuries'].mean()"
   ]
  },
  {
   "cell_type": "code",
   "execution_count": null,
   "id": "2a0b0261",
   "metadata": {},
   "outputs": [],
   "source": [
    "df['Total Fatal Injuries'] = df['Total Fatal Injuries'].fillna(df['Total Fatal Injuries'].mean())"
   ]
  },
  {
   "cell_type": "code",
   "execution_count": null,
   "id": "75cf144f",
   "metadata": {},
   "outputs": [],
   "source": [
    "# Theres some missing values here, lets forward fill to fill in the gaps.\n",
    "df['Total Serious Injuries'].ffill(axis=0, inplace=True)\n",
    "df['Total Serious Injuries'].isna().value_counts()"
   ]
  },
  {
   "cell_type": "code",
   "execution_count": null,
   "id": "6fcbae11",
   "metadata": {},
   "outputs": [],
   "source": [
    "df['Total Minor Injuries'].ffill(axis=0, inplace=True)\n",
    "df['Total Minor Injuries'].isna().value_counts()"
   ]
  },
  {
   "cell_type": "code",
   "execution_count": null,
   "id": "a5ea1e92",
   "metadata": {},
   "outputs": [],
   "source": [
    "# Let's fill in these missing values the same way\n",
    "df['Total Uninjured'].ffill(axis=0,inplace=True)\n",
    "df['Total Uninjured'].isna().value_counts()"
   ]
  },
  {
   "cell_type": "code",
   "execution_count": null,
   "id": "23d54574",
   "metadata": {},
   "outputs": [],
   "source": [
    "# We can calculate the number of Total Passengers in each incident by adding up the fatal injuries, serious injuries, minor injuries, and uninjured.\n",
    "## This will be helpful when we want to build our risk index by calculating the ratio of fatalities and injuries for each make and model.\n",
    "df['Total Passengers'] = df['Total Fatal Injuries'] + df['Total Minor Injuries'] + df['Total Serious Injuries'] + df['Total Uninjured']\n",
    "\n",
    "df.info()"
   ]
  },
  {
   "cell_type": "code",
   "execution_count": null,
   "id": "35198fd7",
   "metadata": {},
   "outputs": [],
   "source": [
    "# I will also drop the Report Status since this information will not be helping us calculate the risk index  to measure safety or efficiency of engines\n",
    "df.drop(['Report Status'], axis = 1, inplace=True)\n"
   ]
  },
  {
   "cell_type": "code",
   "execution_count": null,
   "id": "7c1ec7ae",
   "metadata": {},
   "outputs": [],
   "source": [
    "# We will keep the Broad Phase of Flight column to see if there is specific when these accidents may occur, or not.\n",
    "df['Broad Phase Of Flight'] = df['Broad Phase Of Flight'].fillna('Unknown')\n",
    "df.info()"
   ]
  },
  {
   "cell_type": "code",
   "execution_count": null,
   "id": "e35246d1",
   "metadata": {},
   "outputs": [],
   "source": [
    "# Weather conditions will be interesitng to evaluate how they affect fatalities/injuries and how certain aircrafts perform in worse conditions\n",
    "df['Weather Condition'].isna().value_counts()"
   ]
  },
  {
   "cell_type": "code",
   "execution_count": null,
   "id": "7c556455",
   "metadata": {},
   "outputs": [],
   "source": [
    "# Let's fill in the missing values here\n",
    "df['Weather Condition'].fillna('Unknown', axis=0, inplace=True)"
   ]
  },
  {
   "cell_type": "code",
   "execution_count": null,
   "id": "645a77ba",
   "metadata": {},
   "outputs": [],
   "source": [
    "# We'll do the same for airport Names.\n",
    "df['Airport Name'] = df['Airport Name'].fillna('Unknown')"
   ]
  },
  {
   "cell_type": "code",
   "execution_count": null,
   "id": "8989f3fc",
   "metadata": {},
   "outputs": [],
   "source": [
    "df.dropna(subset=['Amateur Built'], axis=0, inplace=True)"
   ]
  },
  {
   "cell_type": "code",
   "execution_count": null,
   "id": "baff0709",
   "metadata": {},
   "outputs": [],
   "source": [
    "df['Amateur Built'].isna().value_counts()"
   ]
  },
  {
   "cell_type": "markdown",
   "id": "bab7238c",
   "metadata": {},
   "source": [
    "We will drop any values with Total Passengers greater than 20 for our business purposes."
   ]
  },
  {
   "cell_type": "code",
   "execution_count": null,
   "id": "99152adf",
   "metadata": {},
   "outputs": [],
   "source": [
    "df =  df.drop(df[df['Total Passengers'] > 10].index)\n",
    "(df['Total Passengers'] > 10).value_counts()\n"
   ]
  },
  {
   "cell_type": "code",
   "execution_count": null,
   "id": "c28069ae",
   "metadata": {},
   "outputs": [],
   "source": [
    "# Let's remove aircrafts with instructional and aerial application purpose of flight\n",
    "## these aircrafts do not apply to our \n",
    "df_filtered = df[(df['Purpose Of Flight'] != 'Instructional') & (df['Purpose Of Flight'] != 'Public Aircraft') & (df['Purpose Of Flight'] != 'Aerial Application')]\n",
    "df = df_filtered"
   ]
  },
  {
   "cell_type": "code",
   "execution_count": null,
   "id": "7e782d0d",
   "metadata": {},
   "outputs": [],
   "source": [
    "# We can also get rid of the Personal flights because they seem to be unfit for corporate use\n",
    "df['Purpose Of Flight'].value_counts()\n",
    "df = df[df['Purpose Of Flight'] != 'Personal']"
   ]
  },
  {
   "cell_type": "code",
   "execution_count": null,
   "id": "6d282bbc",
   "metadata": {},
   "outputs": [],
   "source": [
    "# Let's drop all of the makes and models that don't apply for our business purposes\n",
    "df =  df.drop(df[(df['Make'] == 'Cessna') & (df['Model'] == '172')].index)\n",
    "df =  df.drop(df[(df['Make'] == 'Cessna') & (df['Model'] == '152')].index)\n",
    "df =  df.drop(df[(df['Make'] == 'Cessna') & (df['Model'] == '150')].index)\n",
    "df =  df.drop(df[(df['Make'] == 'Cessna') & (df['Model'] == '172S')].index)\n",
    "df =  df.drop(df[(df['Make'] == 'Cessna') & (df['Model'] == '172N')].index)\n"
   ]
  },
  {
   "cell_type": "code",
   "execution_count": null,
   "id": "9900f79d",
   "metadata": {},
   "outputs": [],
   "source": [
    "# Let's drop the make that only have one value counts\n",
    "make_counts= df['Make'].value_counts()\n",
    "df_filtered = df[df['Make'].isin(make_counts[make_counts > 1].index)]\n",
    "df = df_filtered\n",
    "df['Make'].value_counts() == 1\n",
    "df['Make'].value_counts()"
   ]
  },
  {
   "cell_type": "code",
   "execution_count": null,
   "id": "643ed06c",
   "metadata": {},
   "outputs": [],
   "source": [
    "# The list below is a list of makes and models put together by CHatGPT\n",
    "# that are not suited for our business purposes, so we will drop them\n",
    "remove_list = [\n",
    "    (\"Cessna\", \"140\"),\n",
    "    (\"Bellanca\", \"17-30A\"),\n",
    "    (\"Cessna\", \"R172K\"),\n",
    "    (\"Navion\", \"A\"),\n",
    "    (\"Beech\", \"19\"),\n",
    "    (\"Cessna\", \"180\"),\n",
    "    (\"Cessna\", \"150L\"),\n",
    "    (\"Piper\", \"PA-24-180\"),\n",
    "    (\"Grumman\", \"AA-5B\"),\n",
    "    (\"Beechcraft\", \"BE-58\"),\n",
    "    (\"Maule\", \"M-5-235C\"),\n",
    "    (\"Cessna\", \"210L\"),\n",
    "    (\"Bellanca\", \"7GCBC\"),\n",
    "    (\"Cessna\", \"182\"),\n",
    "    (\"Air Tractor\", \"AT-301\"),\n",
    "    (\"Piper\", \"PA-28-161\"),\n",
    "    (\"Piper\", \"PA-34-200T\"),\n",
    "    (\"Cessna\", \"T337G\"),\n",
    "    (\"Piper\", \"PA-28R-200\"),\n",
    "    (\"Piper\", \"PA-22\")\n",
    "]\n",
    "\n",
    "remove_df = pd.DataFrame(remove_list, columns=['Make', 'Model'])\n",
    "df_filtered = df[~df[['Make', 'Model']].apply(tuple, axis=1).isin(remove_list)]\n",
    "df = df_filtered\n"
   ]
  },
  {
   "cell_type": "code",
   "execution_count": null,
   "id": "900ae692",
   "metadata": {},
   "outputs": [],
   "source": [
    "# In order to make it easier to filter out the makes and models we don't need, \n",
    "# we need to combine them into one column.\n",
    "df[['Make', 'Model']]\n",
    "df['Make-Model'] = df['Make'] + ' ' + df['Model']\n",
    "df['Make-Model']\n"
   ]
  },
  {
   "cell_type": "code",
   "execution_count": null,
   "id": "bab3daa9",
   "metadata": {},
   "outputs": [],
   "source": [
    "make_model_counts= df['Make-Model'].value_counts()\n",
    "df2 = df[df['Make-Model'].isin(make_model_counts[make_model_counts > 1].index)]\n",
    "df = df2"
   ]
  },
  {
   "cell_type": "code",
   "execution_count": null,
   "id": "6d8b6340",
   "metadata": {},
   "outputs": [],
   "source": [
    "df['Make-Model'].value_counts()"
   ]
  },
  {
   "cell_type": "code",
   "execution_count": null,
   "id": "9a347f38",
   "metadata": {},
   "outputs": [],
   "source": [
    "df = df.drop(columns = ['Accident Number', 'Far Description', 'Event Id'], axis=1)"
   ]
  },
  {
   "cell_type": "code",
   "execution_count": null,
   "id": "d47ce827",
   "metadata": {},
   "outputs": [],
   "source": [
    "df.set_index('Event Date')"
   ]
  },
  {
   "cell_type": "code",
   "execution_count": null,
   "id": "7d2443b4",
   "metadata": {},
   "outputs": [],
   "source": [
    "df = df.drop(['Aircraft Category'], axis =1)"
   ]
  },
  {
   "cell_type": "code",
   "execution_count": 3,
   "id": "55a438a2",
   "metadata": {},
   "outputs": [
    {
     "ename": "NameError",
     "evalue": "name 'df' is not defined",
     "output_type": "error",
     "traceback": [
      "\u001b[0;31m---------------------------------------------------------------------------\u001b[0m",
      "\u001b[0;31mNameError\u001b[0m                                 Traceback (most recent call last)",
      "Cell \u001b[0;32mIn[3], line 1\u001b[0m\n\u001b[0;32m----> 1\u001b[0m df\u001b[38;5;241m.\u001b[39mto_csv(\u001b[38;5;124m'\u001b[39m\u001b[38;5;124mAcessable_Cleaned_Data_Aviation\u001b[39m\u001b[38;5;124m'\u001b[39m)\n",
      "\u001b[0;31mNameError\u001b[0m: name 'df' is not defined"
     ]
    }
   ],
   "source": [
    "df.to_csv('Acessable_Cleaned_Data_Aviation')"
   ]
  },
  {
   "cell_type": "code",
   "execution_count": null,
   "id": "2819a534",
   "metadata": {},
   "outputs": [],
   "source": []
  }
 ],
 "metadata": {
  "kernelspec": {
   "display_name": "Python (learn-env)",
   "language": "python",
   "name": "learn-env"
  },
  "language_info": {
   "codemirror_mode": {
    "name": "ipython",
    "version": 3
   },
   "file_extension": ".py",
   "mimetype": "text/x-python",
   "name": "python",
   "nbconvert_exporter": "python",
   "pygments_lexer": "ipython3",
   "version": "3.12.4"
  }
 },
 "nbformat": 4,
 "nbformat_minor": 5
}
