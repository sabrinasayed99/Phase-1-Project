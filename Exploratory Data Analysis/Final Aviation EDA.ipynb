{
 "cells": [
  {
   "cell_type": "markdown",
   "id": "199f59b3-93a8-4f00-b58c-8924fd561656",
   "metadata": {},
   "source": [
    "## EDA Notebook"
   ]
  },
  {
   "cell_type": "code",
   "execution_count": 1,
   "id": "4c471ff9-56bf-4ab2-aa5c-368a5e4a81e6",
   "metadata": {},
   "outputs": [],
   "source": [
    "import pandas as pd\n",
    "import numpy as np\n",
    "import matplotlib.pyplot as plt\n",
    "import matplotlib\n",
    "\n",
    "import seaborn as sns"
   ]
  },
  {
   "cell_type": "code",
   "execution_count": 2,
   "id": "8cf9005e-1dad-4a82-92ff-e5ab42886440",
   "metadata": {},
   "outputs": [],
   "source": [
    "df = pd.read_csv('/Users/sabrinasayed/Documents/Flatiron/Phase 1/Phase 1 Project/Phase-1-Project/Clean Data Only/Clean_Aviation_Data_Final.csv', index_col= 'Event Date')"
   ]
  },
  {
   "cell_type": "code",
   "execution_count": 3,
   "id": "6c0ad809-3219-4cae-92a4-8c7e5d034260",
   "metadata": {},
   "outputs": [
    {
     "data": {
      "text/plain": [
       "Index(['Unnamed: 0', 'Investigation Type', 'Location', 'Country',\n",
       "       'Airport Name', 'Injury Severity', 'Aircraft Damage', 'Make', 'Model',\n",
       "       'Amateur Built', 'Number Of Engines', 'Engine Type',\n",
       "       'Purpose Of Flight', 'Total Fatal Injuries', 'Total Serious Injuries',\n",
       "       'Total Minor Injuries', 'Total Uninjured', 'Weather Condition',\n",
       "       'Broad Phase Of Flight', 'Total Passengers', 'Make-Model'],\n",
       "      dtype='object')"
      ]
     },
     "execution_count": 3,
     "metadata": {},
     "output_type": "execute_result"
    }
   ],
   "source": [
    "df.columns"
   ]
  },
  {
   "cell_type": "markdown",
   "id": "b2e826c3",
   "metadata": {},
   "source": []
  },
  {
   "cell_type": "code",
   "execution_count": 4,
   "id": "81ba6e16-c0f1-4a4c-9371-db6588ee0b89",
   "metadata": {},
   "outputs": [],
   "source": [
    "df=df.drop(['Unnamed: 0'], axis=1)"
   ]
  },
  {
   "cell_type": "code",
   "execution_count": 5,
   "id": "b57e4bf8-caf7-4a88-9316-d7c9eda8fc50",
   "metadata": {},
   "outputs": [
    {
     "name": "stdout",
     "output_type": "stream",
     "text": [
      "<class 'pandas.core.frame.DataFrame'>\n",
      "Index: 1427 entries, 1982-01-03 to 2022-12-01\n",
      "Data columns (total 20 columns):\n",
      " #   Column                  Non-Null Count  Dtype  \n",
      "---  ------                  --------------  -----  \n",
      " 0   Investigation Type      1427 non-null   object \n",
      " 1   Location                1427 non-null   object \n",
      " 2   Country                 1427 non-null   object \n",
      " 3   Airport Name            1427 non-null   object \n",
      " 4   Injury Severity         1427 non-null   object \n",
      " 5   Aircraft Damage         1427 non-null   object \n",
      " 6   Make                    1427 non-null   object \n",
      " 7   Model                   1427 non-null   object \n",
      " 8   Amateur Built           1427 non-null   object \n",
      " 9   Number Of Engines       1427 non-null   float64\n",
      " 10  Engine Type             1427 non-null   object \n",
      " 11  Purpose Of Flight       1427 non-null   object \n",
      " 12  Total Fatal Injuries    1427 non-null   float64\n",
      " 13  Total Serious Injuries  1427 non-null   float64\n",
      " 14  Total Minor Injuries    1427 non-null   float64\n",
      " 15  Total Uninjured         1427 non-null   float64\n",
      " 16  Weather Condition       1427 non-null   object \n",
      " 17  Broad Phase Of Flight   1427 non-null   object \n",
      " 18  Total Passengers        1427 non-null   float64\n",
      " 19  Make-Model              1427 non-null   object \n",
      "dtypes: float64(6), object(14)\n",
      "memory usage: 234.1+ KB\n"
     ]
    }
   ],
   "source": [
    "df.info()"
   ]
  },
  {
   "cell_type": "code",
   "execution_count": 6,
   "id": "9c8b56d4-41d9-4889-a85c-1bc7b8e609b1",
   "metadata": {},
   "outputs": [],
   "source": [
    "df = df.reset_index()"
   ]
  },
  {
   "cell_type": "markdown",
   "id": "84b0c540-d38e-4932-8878-0e6f9b8b7314",
   "metadata": {},
   "source": [
    "## Understanding the Dataset"
   ]
  },
  {
   "cell_type": "code",
   "execution_count": 7,
   "id": "1f94c0fc-4237-48bc-aefb-4753783b9255",
   "metadata": {},
   "outputs": [],
   "source": [
    "#Let's create new columns showing the rate of fatalities, serious injuries, minor injuries, and no injuries. \n",
    "## This ratio will show us what fraction of the cabin has been uninjured, injured, or killed.\n",
    "df['Fatal Injury Ratio'] = (df['Total Fatal Injuries']) / (df['Total Passengers'])\n",
    "df['Serious Injury Ratio'] = (df['Total Serious Injuries']) / (df['Total Passengers'])\n",
    "df['Minor Injury Ratio'] = (df['Total Minor Injuries']) / (df['Total Passengers'])\n",
    "df['Uninjured Ratio'] = (df['Total Uninjured']) / (df['Total Passengers'])"
   ]
  },
  {
   "cell_type": "markdown",
   "id": "f238a2ee-8348-4c10-a5bc-54c4215270d8",
   "metadata": {},
   "source": [
    "There's a clear dimorphism of the Fatal Injury Ratio that clusters at 0 and at 1."
   ]
  },
  {
   "cell_type": "code",
   "execution_count": 8,
   "id": "428f4b07-21cb-4687-b805-fffb66ca16bf",
   "metadata": {},
   "outputs": [
    {
     "data": {
      "text/plain": [
       "Text(0.5, 1.0, 'Fatal Injury Ratio By Make')"
      ]
     },
     "execution_count": 8,
     "metadata": {},
     "output_type": "execute_result"
    },
    {
     "data": {
      "image/png": "[encoded data removed]",
      "text/plain": [
       "<Figure size 432x288 with 1 Axes>"
      ]
     },
     "metadata": {
      "needs_background": "light"
     },
     "output_type": "display_data"
    }
   ],
   "source": [
    "fig, ax = plt.subplots()\n",
    "\n",
    "sns.stripplot(x='Make', y='Fatal Injury Ratio', data= df, ax=ax)\n",
    "\n",
    "ax.set_title('Fatal Injury Ratio By Make')"
   ]
  },
  {
   "cell_type": "markdown",
   "id": "61faec6e-e1ca-489e-93c4-4c96c1f9c25b",
   "metadata": {},
   "source": [
    "The number of engines does not seem to effect the fatality ratio the way we thought it might. There's more makes with lower fatalities with only 1 engine. "
   ]
  },
  {
   "cell_type": "code",
   "execution_count": 9,
   "id": "c1cc8c21-ea50-4429-a0da-2835e33da2fa",
   "metadata": {},
   "outputs": [
    {
     "data": {
      "image/png": "[encoded data removed]",
      "text/plain": [
       "<Figure size 432x288 with 1 Axes>"
      ]
     },
     "metadata": {
      "needs_background": "light"
     },
     "output_type": "display_data"
    }
   ],
   "source": [
    "fig, ax = plt.subplots()\n",
    "sns.scatterplot(x= 'Make', y='Fatal Injury Ratio', hue= 'Number Of Engines', data= df, ax=ax)\n",
    "ax.set_title('Fatal Injury Ratio By Make')\n",
    "plt.savefig('fatal_injury_by_engine.png')"
   ]
  },
  {
   "cell_type": "markdown",
   "id": "ef727108-cfa0-42e1-bb31-23c9b71aee61",
   "metadata": {},
   "source": [
    "There seems to be some correlation between the weather condition when it is VMC and lower fatality ratios."
   ]
  },
  {
   "cell_type": "markdown",
   "id": "9086bf9c-43fd-43b5-b007-7491f91acd69",
   "metadata": {},
   "source": [
    "## Filtering Down Manufacturers"
   ]
  },
  {
   "cell_type": "code",
   "execution_count": 10,
   "id": "cdae401e-718e-450f-9c30-2b7e885354f6",
   "metadata": {},
   "outputs": [
    {
     "data": {
      "text/html": [
       "<div>\n",
       "<style scoped>\n",
       "    .dataframe tbody tr th:only-of-type {\n",
       "        vertical-align: middle;\n",
       "    }\n",
       "\n",
       "    .dataframe tbody tr th {\n",
       "        vertical-align: top;\n",
       "    }\n",
       "\n",
       "    .dataframe thead th {\n",
       "        text-align: right;\n",
       "    }\n",
       "</style>\n",
       "<table border=\"1\" class=\"dataframe\">\n",
       "  <thead>\n",
       "    <tr style=\"text-align: right;\">\n",
       "      <th></th>\n",
       "      <th>Event Date</th>\n",
       "      <th>Investigation Type</th>\n",
       "      <th>Location</th>\n",
       "      <th>Country</th>\n",
       "      <th>Airport Name</th>\n",
       "      <th>Injury Severity</th>\n",
       "      <th>Aircraft Damage</th>\n",
       "      <th>Make</th>\n",
       "      <th>Model</th>\n",
       "      <th>Amateur Built</th>\n",
       "      <th>...</th>\n",
       "      <th>Total Minor Injuries</th>\n",
       "      <th>Total Uninjured</th>\n",
       "      <th>Weather Condition</th>\n",
       "      <th>Broad Phase Of Flight</th>\n",
       "      <th>Total Passengers</th>\n",
       "      <th>Make-Model</th>\n",
       "      <th>Fatal Injury Ratio</th>\n",
       "      <th>Serious Injury Ratio</th>\n",
       "      <th>Minor Injury Ratio</th>\n",
       "      <th>Uninjured Ratio</th>\n",
       "    </tr>\n",
       "  </thead>\n",
       "  <tbody>\n",
       "    <tr>\n",
       "      <th>27</th>\n",
       "      <td>1982-01-21</td>\n",
       "      <td>Accident</td>\n",
       "      <td>DOS PALOS, CA</td>\n",
       "      <td>United States</td>\n",
       "      <td>SPAIN-AIR AIRPORT</td>\n",
       "      <td>Fatal</td>\n",
       "      <td>Substantial</td>\n",
       "      <td>Air Tractor</td>\n",
       "      <td>301</td>\n",
       "      <td>No</td>\n",
       "      <td>...</td>\n",
       "      <td>0.0</td>\n",
       "      <td>1.0</td>\n",
       "      <td>VMC</td>\n",
       "      <td>Takeoff</td>\n",
       "      <td>1.0</td>\n",
       "      <td>Air Tractor 301</td>\n",
       "      <td>0.000000</td>\n",
       "      <td>0.000000</td>\n",
       "      <td>0.000000</td>\n",
       "      <td>1.000000</td>\n",
       "    </tr>\n",
       "    <tr>\n",
       "      <th>1023</th>\n",
       "      <td>2013-08-09</td>\n",
       "      <td>Accident</td>\n",
       "      <td>Dumas, AR</td>\n",
       "      <td>United States</td>\n",
       "      <td>Billy Free Memorial Airport</td>\n",
       "      <td>Fatal</td>\n",
       "      <td>Substantial</td>\n",
       "      <td>Air Tractor</td>\n",
       "      <td>AT-400</td>\n",
       "      <td>No</td>\n",
       "      <td>...</td>\n",
       "      <td>0.0</td>\n",
       "      <td>1.0</td>\n",
       "      <td>VMC</td>\n",
       "      <td>Unknown</td>\n",
       "      <td>1.0</td>\n",
       "      <td>Air Tractor AT-400</td>\n",
       "      <td>0.000000</td>\n",
       "      <td>0.000000</td>\n",
       "      <td>0.000000</td>\n",
       "      <td>1.000000</td>\n",
       "    </tr>\n",
       "    <tr>\n",
       "      <th>1296</th>\n",
       "      <td>2019-08-08</td>\n",
       "      <td>Accident</td>\n",
       "      <td>Sumner, IA</td>\n",
       "      <td>United States</td>\n",
       "      <td>Unknown</td>\n",
       "      <td>Fatal</td>\n",
       "      <td>Destroyed</td>\n",
       "      <td>Air Tractor</td>\n",
       "      <td>AT502</td>\n",
       "      <td>No</td>\n",
       "      <td>...</td>\n",
       "      <td>0.0</td>\n",
       "      <td>0.0</td>\n",
       "      <td>VMC</td>\n",
       "      <td>Unknown</td>\n",
       "      <td>1.0</td>\n",
       "      <td>Air Tractor AT502</td>\n",
       "      <td>1.000000</td>\n",
       "      <td>0.000000</td>\n",
       "      <td>0.000000</td>\n",
       "      <td>0.000000</td>\n",
       "    </tr>\n",
       "    <tr>\n",
       "      <th>1241</th>\n",
       "      <td>2018-08-14</td>\n",
       "      <td>Accident</td>\n",
       "      <td>Northport, WA</td>\n",
       "      <td>United States</td>\n",
       "      <td>Unknown</td>\n",
       "      <td>Fatal</td>\n",
       "      <td>Substantial</td>\n",
       "      <td>Air Tractor</td>\n",
       "      <td>AT802</td>\n",
       "      <td>No</td>\n",
       "      <td>...</td>\n",
       "      <td>1.0</td>\n",
       "      <td>0.0</td>\n",
       "      <td>Unknown</td>\n",
       "      <td>Unknown</td>\n",
       "      <td>1.0</td>\n",
       "      <td>Air Tractor AT802</td>\n",
       "      <td>0.000000</td>\n",
       "      <td>0.000000</td>\n",
       "      <td>1.000000</td>\n",
       "      <td>0.000000</td>\n",
       "    </tr>\n",
       "    <tr>\n",
       "      <th>1169</th>\n",
       "      <td>2016-09-01</td>\n",
       "      <td>Accident</td>\n",
       "      <td>Sorriso, Brazil</td>\n",
       "      <td>Brazil</td>\n",
       "      <td>Santa Anastacia Airport</td>\n",
       "      <td>Fatal</td>\n",
       "      <td>Destroyed</td>\n",
       "      <td>Air Tractor</td>\n",
       "      <td>AT502</td>\n",
       "      <td>No</td>\n",
       "      <td>...</td>\n",
       "      <td>0.0</td>\n",
       "      <td>0.0</td>\n",
       "      <td>VMC</td>\n",
       "      <td>Unknown</td>\n",
       "      <td>2.0</td>\n",
       "      <td>Air Tractor AT502</td>\n",
       "      <td>1.000000</td>\n",
       "      <td>0.000000</td>\n",
       "      <td>0.000000</td>\n",
       "      <td>0.000000</td>\n",
       "    </tr>\n",
       "    <tr>\n",
       "      <th>...</th>\n",
       "      <td>...</td>\n",
       "      <td>...</td>\n",
       "      <td>...</td>\n",
       "      <td>...</td>\n",
       "      <td>...</td>\n",
       "      <td>...</td>\n",
       "      <td>...</td>\n",
       "      <td>...</td>\n",
       "      <td>...</td>\n",
       "      <td>...</td>\n",
       "      <td>...</td>\n",
       "      <td>...</td>\n",
       "      <td>...</td>\n",
       "      <td>...</td>\n",
       "      <td>...</td>\n",
       "      <td>...</td>\n",
       "      <td>...</td>\n",
       "      <td>...</td>\n",
       "      <td>...</td>\n",
       "      <td>...</td>\n",
       "      <td>...</td>\n",
       "    </tr>\n",
       "    <tr>\n",
       "      <th>1401</th>\n",
       "      <td>2022-07-15</td>\n",
       "      <td>Accident</td>\n",
       "      <td>Brunswick, GA</td>\n",
       "      <td>United States</td>\n",
       "      <td>BRUNSWICK GOLDEN ISLES</td>\n",
       "      <td>Fatal</td>\n",
       "      <td>Substantial</td>\n",
       "      <td>Raytheon Aircraft Company</td>\n",
       "      <td>400A</td>\n",
       "      <td>No</td>\n",
       "      <td>...</td>\n",
       "      <td>0.0</td>\n",
       "      <td>2.0</td>\n",
       "      <td>VMC</td>\n",
       "      <td>Unknown</td>\n",
       "      <td>2.0</td>\n",
       "      <td>Raytheon Aircraft Company 400A</td>\n",
       "      <td>0.000000</td>\n",
       "      <td>0.000000</td>\n",
       "      <td>0.000000</td>\n",
       "      <td>1.000000</td>\n",
       "    </tr>\n",
       "    <tr>\n",
       "      <th>643</th>\n",
       "      <td>2007-10-04</td>\n",
       "      <td>Accident</td>\n",
       "      <td>Pagosa Springs, CO</td>\n",
       "      <td>United States</td>\n",
       "      <td>Not Applicable</td>\n",
       "      <td>Fatal</td>\n",
       "      <td>Destroyed</td>\n",
       "      <td>Raytheon Aircraft Company</td>\n",
       "      <td>C90A</td>\n",
       "      <td>No</td>\n",
       "      <td>...</td>\n",
       "      <td>1.0</td>\n",
       "      <td>2.0</td>\n",
       "      <td>IMC</td>\n",
       "      <td>Descent</td>\n",
       "      <td>7.0</td>\n",
       "      <td>Raytheon Aircraft Company C90A</td>\n",
       "      <td>0.428571</td>\n",
       "      <td>0.142857</td>\n",
       "      <td>0.142857</td>\n",
       "      <td>0.285714</td>\n",
       "    </tr>\n",
       "    <tr>\n",
       "      <th>1198</th>\n",
       "      <td>2017-04-15</td>\n",
       "      <td>Accident</td>\n",
       "      <td>Richfield, UT</td>\n",
       "      <td>United States</td>\n",
       "      <td>RICHFIELD MUNI</td>\n",
       "      <td>Fatal</td>\n",
       "      <td>Substantial</td>\n",
       "      <td>Raytheon Aircraft Company</td>\n",
       "      <td>B200</td>\n",
       "      <td>No</td>\n",
       "      <td>...</td>\n",
       "      <td>0.0</td>\n",
       "      <td>1.0</td>\n",
       "      <td>VMC</td>\n",
       "      <td>Unknown</td>\n",
       "      <td>1.0</td>\n",
       "      <td>Raytheon Aircraft Company B200</td>\n",
       "      <td>0.000000</td>\n",
       "      <td>0.000000</td>\n",
       "      <td>0.000000</td>\n",
       "      <td>1.000000</td>\n",
       "    </tr>\n",
       "    <tr>\n",
       "      <th>1054</th>\n",
       "      <td>2014-05-13</td>\n",
       "      <td>Incident</td>\n",
       "      <td>Sugar Land, TX</td>\n",
       "      <td>United States</td>\n",
       "      <td>Sugar Land Regional Airport</td>\n",
       "      <td>Fatal</td>\n",
       "      <td>Minor</td>\n",
       "      <td>Raytheon Aircraft Company</td>\n",
       "      <td>400A</td>\n",
       "      <td>No</td>\n",
       "      <td>...</td>\n",
       "      <td>0.0</td>\n",
       "      <td>2.0</td>\n",
       "      <td>UNK</td>\n",
       "      <td>Unknown</td>\n",
       "      <td>2.0</td>\n",
       "      <td>Raytheon Aircraft Company 400A</td>\n",
       "      <td>0.000000</td>\n",
       "      <td>0.000000</td>\n",
       "      <td>0.000000</td>\n",
       "      <td>1.000000</td>\n",
       "    </tr>\n",
       "    <tr>\n",
       "      <th>673</th>\n",
       "      <td>2008-04-04</td>\n",
       "      <td>Accident</td>\n",
       "      <td>Tuscaloosa, AL</td>\n",
       "      <td>United States</td>\n",
       "      <td>Tuscaloosa Regional Airport</td>\n",
       "      <td>Fatal</td>\n",
       "      <td>Substantial</td>\n",
       "      <td>Raytheon Aircraft Company</td>\n",
       "      <td>B300</td>\n",
       "      <td>No</td>\n",
       "      <td>...</td>\n",
       "      <td>0.0</td>\n",
       "      <td>2.0</td>\n",
       "      <td>IMC</td>\n",
       "      <td>Unknown</td>\n",
       "      <td>2.0</td>\n",
       "      <td>Raytheon Aircraft Company B300</td>\n",
       "      <td>0.000000</td>\n",
       "      <td>0.000000</td>\n",
       "      <td>0.000000</td>\n",
       "      <td>1.000000</td>\n",
       "    </tr>\n",
       "  </tbody>\n",
       "</table>\n",
       "<p>1247 rows × 25 columns</p>\n",
       "</div>"
      ],
      "text/plain": [
       "      Event Date Investigation Type            Location        Country  \\\n",
       "27    1982-01-21           Accident       DOS PALOS, CA  United States   \n",
       "1023  2013-08-09           Accident           Dumas, AR  United States   \n",
       "1296  2019-08-08           Accident          Sumner, IA  United States   \n",
       "1241  2018-08-14           Accident       Northport, WA  United States   \n",
       "1169  2016-09-01           Accident     Sorriso, Brazil         Brazil   \n",
       "...          ...                ...                 ...            ...   \n",
       "1401  2022-07-15           Accident       Brunswick, GA  United States   \n",
       "643   2007-10-04           Accident  Pagosa Springs, CO  United States   \n",
       "1198  2017-04-15           Accident       Richfield, UT  United States   \n",
       "1054  2014-05-13           Incident      Sugar Land, TX  United States   \n",
       "673   2008-04-04           Accident      Tuscaloosa, AL  United States   \n",
       "\n",
       "                     Airport Name Injury Severity Aircraft Damage  \\\n",
       "27              SPAIN-AIR AIRPORT           Fatal     Substantial   \n",
       "1023  Billy Free Memorial Airport           Fatal     Substantial   \n",
       "1296                      Unknown           Fatal       Destroyed   \n",
       "1241                      Unknown           Fatal     Substantial   \n",
       "1169      Santa Anastacia Airport           Fatal       Destroyed   \n",
       "...                           ...             ...             ...   \n",
       "1401       BRUNSWICK GOLDEN ISLES           Fatal     Substantial   \n",
       "643                Not Applicable           Fatal       Destroyed   \n",
       "1198               RICHFIELD MUNI           Fatal     Substantial   \n",
       "1054  Sugar Land Regional Airport           Fatal           Minor   \n",
       "673   Tuscaloosa Regional Airport           Fatal     Substantial   \n",
       "\n",
       "                           Make   Model Amateur Built  ...  \\\n",
       "27                  Air Tractor     301            No  ...   \n",
       "1023                Air Tractor  AT-400            No  ...   \n",
       "1296                Air Tractor   AT502            No  ...   \n",
       "1241                Air Tractor   AT802            No  ...   \n",
       "1169                Air Tractor   AT502            No  ...   \n",
       "...                         ...     ...           ...  ...   \n",
       "1401  Raytheon Aircraft Company    400A            No  ...   \n",
       "643   Raytheon Aircraft Company    C90A            No  ...   \n",
       "1198  Raytheon Aircraft Company    B200            No  ...   \n",
       "1054  Raytheon Aircraft Company    400A            No  ...   \n",
       "673   Raytheon Aircraft Company    B300            No  ...   \n",
       "\n",
       "      Total Minor Injuries Total Uninjured Weather Condition  \\\n",
       "27                     0.0             1.0               VMC   \n",
       "1023                   0.0             1.0               VMC   \n",
       "1296                   0.0             0.0               VMC   \n",
       "1241                   1.0             0.0           Unknown   \n",
       "1169                   0.0             0.0               VMC   \n",
       "...                    ...             ...               ...   \n",
       "1401                   0.0             2.0               VMC   \n",
       "643                    1.0             2.0               IMC   \n",
       "1198                   0.0             1.0               VMC   \n",
       "1054                   0.0             2.0               UNK   \n",
       "673                    0.0             2.0               IMC   \n",
       "\n",
       "      Broad Phase Of Flight  Total Passengers                      Make-Model  \\\n",
       "27                  Takeoff               1.0                 Air Tractor 301   \n",
       "1023                Unknown               1.0              Air Tractor AT-400   \n",
       "1296                Unknown               1.0               Air Tractor AT502   \n",
       "1241                Unknown               1.0               Air Tractor AT802   \n",
       "1169                Unknown               2.0               Air Tractor AT502   \n",
       "...                     ...               ...                             ...   \n",
       "1401                Unknown               2.0  Raytheon Aircraft Company 400A   \n",
       "643                 Descent               7.0  Raytheon Aircraft Company C90A   \n",
       "1198                Unknown               1.0  Raytheon Aircraft Company B200   \n",
       "1054                Unknown               2.0  Raytheon Aircraft Company 400A   \n",
       "673                 Unknown               2.0  Raytheon Aircraft Company B300   \n",
       "\n",
       "      Fatal Injury Ratio Serious Injury Ratio Minor Injury Ratio  \\\n",
       "27              0.000000             0.000000           0.000000   \n",
       "1023            0.000000             0.000000           0.000000   \n",
       "1296            1.000000             0.000000           0.000000   \n",
       "1241            0.000000             0.000000           1.000000   \n",
       "1169            1.000000             0.000000           0.000000   \n",
       "...                  ...                  ...                ...   \n",
       "1401            0.000000             0.000000           0.000000   \n",
       "643             0.428571             0.142857           0.142857   \n",
       "1198            0.000000             0.000000           0.000000   \n",
       "1054            0.000000             0.000000           0.000000   \n",
       "673             0.000000             0.000000           0.000000   \n",
       "\n",
       "      Uninjured Ratio  \n",
       "27           1.000000  \n",
       "1023         1.000000  \n",
       "1296         0.000000  \n",
       "1241         0.000000  \n",
       "1169         0.000000  \n",
       "...               ...  \n",
       "1401         1.000000  \n",
       "643          0.285714  \n",
       "1198         1.000000  \n",
       "1054         1.000000  \n",
       "673          1.000000  \n",
       "\n",
       "[1247 rows x 25 columns]"
      ]
     },
     "execution_count": 10,
     "metadata": {},
     "output_type": "execute_result"
    }
   ],
   "source": [
    "#Let's just plot the top ten most common makes so we can see the data better and get rid of the manufacturers with less than 10 values\n",
    "top_ten_makes = ['Cessna', 'Piper', 'Beech', 'Grumman', 'Mooney', 'Cirrus Design Corp', 'Raytheon Aircraft Company', 'Air Tractor', 'Dehavilland', 'Cirrus']\n",
    "top_ten_df = df[df['Make'].isin(top_ten_makes)]\n",
    "top_ten_df = top_ten_df.sort_values('Make')\n",
    "top_ten_df"
   ]
  },
  {
   "cell_type": "markdown",
   "id": "ca9f9665-3987-4104-997e-00ae78693400",
   "metadata": {},
   "source": [
    "Narrow it down further to the manufacturers with more than 20 values each, anything less than that will be removed because anything less than 20 will be difficult to extract accurate statistical analyses from. This gives us the top 5 makes."
   ]
  },
  {
   "cell_type": "code",
   "execution_count": 11,
   "id": "55f6caf1-267a-4e3f-903e-c0234fd97ed6",
   "metadata": {},
   "outputs": [
    {
     "data": {
      "text/plain": [
       "Cessna     619\n",
       "Piper      322\n",
       "Beech      174\n",
       "Grumman     30\n",
       "Mooney      28\n",
       "Name: Make, dtype: int64"
      ]
     },
     "execution_count": 11,
     "metadata": {},
     "output_type": "execute_result"
    }
   ],
   "source": [
    "top_five_makes = ['Cessna', 'Piper', 'Beech', 'Grumman', 'Mooney']\n",
    "filtered_df = top_ten_df[top_ten_df['Make'].isin(top_five_makes)]\n",
    "filtered_df['Make'].value_counts()"
   ]
  },
  {
   "cell_type": "code",
   "execution_count": 12,
   "id": "a68eb920-3eae-472b-9165-a551cc2f0b66",
   "metadata": {},
   "outputs": [
    {
     "data": {
      "text/html": [
       "<div>\n",
       "<style scoped>\n",
       "    .dataframe tbody tr th:only-of-type {\n",
       "        vertical-align: middle;\n",
       "    }\n",
       "\n",
       "    .dataframe tbody tr th {\n",
       "        vertical-align: top;\n",
       "    }\n",
       "\n",
       "    .dataframe thead th {\n",
       "        text-align: right;\n",
       "    }\n",
       "</style>\n",
       "<table border=\"1\" class=\"dataframe\">\n",
       "  <thead>\n",
       "    <tr style=\"text-align: right;\">\n",
       "      <th></th>\n",
       "      <th>Event Date</th>\n",
       "      <th>Investigation Type</th>\n",
       "      <th>Location</th>\n",
       "      <th>Country</th>\n",
       "      <th>Airport Name</th>\n",
       "      <th>Injury Severity</th>\n",
       "      <th>Aircraft Damage</th>\n",
       "      <th>Make</th>\n",
       "      <th>Model</th>\n",
       "      <th>Amateur Built</th>\n",
       "      <th>...</th>\n",
       "      <th>Total Minor Injuries</th>\n",
       "      <th>Total Uninjured</th>\n",
       "      <th>Weather Condition</th>\n",
       "      <th>Broad Phase Of Flight</th>\n",
       "      <th>Total Passengers</th>\n",
       "      <th>Make-Model</th>\n",
       "      <th>Fatal Injury Ratio</th>\n",
       "      <th>Serious Injury Ratio</th>\n",
       "      <th>Minor Injury Ratio</th>\n",
       "      <th>Uninjured Ratio</th>\n",
       "    </tr>\n",
       "  </thead>\n",
       "  <tbody>\n",
       "    <tr>\n",
       "      <th>128</th>\n",
       "      <td>1982-04-07</td>\n",
       "      <td>Accident</td>\n",
       "      <td>WINSTON-SALEM, NC</td>\n",
       "      <td>United States</td>\n",
       "      <td>SMITH REYNOLDS</td>\n",
       "      <td>Fatal</td>\n",
       "      <td>Substantial</td>\n",
       "      <td>Beech</td>\n",
       "      <td>65-A90</td>\n",
       "      <td>No</td>\n",
       "      <td>...</td>\n",
       "      <td>0.0</td>\n",
       "      <td>2.0</td>\n",
       "      <td>VMC</td>\n",
       "      <td>Landing</td>\n",
       "      <td>2.0</td>\n",
       "      <td>Beech 65-A90</td>\n",
       "      <td>0.0</td>\n",
       "      <td>0.000000</td>\n",
       "      <td>0.000000</td>\n",
       "      <td>1.0</td>\n",
       "    </tr>\n",
       "    <tr>\n",
       "      <th>721</th>\n",
       "      <td>2008-12-14</td>\n",
       "      <td>Accident</td>\n",
       "      <td>Rocksprings, TX</td>\n",
       "      <td>United States</td>\n",
       "      <td>Unknown</td>\n",
       "      <td>Fatal</td>\n",
       "      <td>Substantial</td>\n",
       "      <td>Beech</td>\n",
       "      <td>C90</td>\n",
       "      <td>No</td>\n",
       "      <td>...</td>\n",
       "      <td>0.0</td>\n",
       "      <td>0.0</td>\n",
       "      <td>VMC</td>\n",
       "      <td>Unknown</td>\n",
       "      <td>1.0</td>\n",
       "      <td>Beech C90</td>\n",
       "      <td>1.0</td>\n",
       "      <td>0.000000</td>\n",
       "      <td>0.000000</td>\n",
       "      <td>0.0</td>\n",
       "    </tr>\n",
       "    <tr>\n",
       "      <th>1245</th>\n",
       "      <td>2018-09-03</td>\n",
       "      <td>Accident</td>\n",
       "      <td>Burbank, CA</td>\n",
       "      <td>United States</td>\n",
       "      <td>Bob Hope</td>\n",
       "      <td>Fatal</td>\n",
       "      <td>Substantial</td>\n",
       "      <td>Beech</td>\n",
       "      <td>200</td>\n",
       "      <td>No</td>\n",
       "      <td>...</td>\n",
       "      <td>0.0</td>\n",
       "      <td>1.0</td>\n",
       "      <td>VMC</td>\n",
       "      <td>Unknown</td>\n",
       "      <td>1.0</td>\n",
       "      <td>Beech 200</td>\n",
       "      <td>0.0</td>\n",
       "      <td>0.000000</td>\n",
       "      <td>0.000000</td>\n",
       "      <td>1.0</td>\n",
       "    </tr>\n",
       "    <tr>\n",
       "      <th>727</th>\n",
       "      <td>2008-12-27</td>\n",
       "      <td>Accident</td>\n",
       "      <td>Fort Myers, FL</td>\n",
       "      <td>United States</td>\n",
       "      <td>Southwest Florida Internationa</td>\n",
       "      <td>Fatal</td>\n",
       "      <td>Substantial</td>\n",
       "      <td>Beech</td>\n",
       "      <td>E18S</td>\n",
       "      <td>No</td>\n",
       "      <td>...</td>\n",
       "      <td>1.0</td>\n",
       "      <td>0.0</td>\n",
       "      <td>VMC</td>\n",
       "      <td>Unknown</td>\n",
       "      <td>1.0</td>\n",
       "      <td>Beech E18S</td>\n",
       "      <td>0.0</td>\n",
       "      <td>0.000000</td>\n",
       "      <td>1.000000</td>\n",
       "      <td>0.0</td>\n",
       "    </tr>\n",
       "    <tr>\n",
       "      <th>718</th>\n",
       "      <td>2008-11-23</td>\n",
       "      <td>Accident</td>\n",
       "      <td>God's Lake Narrows, Canada</td>\n",
       "      <td>Canada</td>\n",
       "      <td>God's Lake Narrows Airport</td>\n",
       "      <td>Fatal</td>\n",
       "      <td>Destroyed</td>\n",
       "      <td>Beech</td>\n",
       "      <td>A100</td>\n",
       "      <td>No</td>\n",
       "      <td>...</td>\n",
       "      <td>0.0</td>\n",
       "      <td>0.0</td>\n",
       "      <td>VMC</td>\n",
       "      <td>Unknown</td>\n",
       "      <td>5.0</td>\n",
       "      <td>Beech A100</td>\n",
       "      <td>0.0</td>\n",
       "      <td>1.000000</td>\n",
       "      <td>0.000000</td>\n",
       "      <td>0.0</td>\n",
       "    </tr>\n",
       "    <tr>\n",
       "      <th>...</th>\n",
       "      <td>...</td>\n",
       "      <td>...</td>\n",
       "      <td>...</td>\n",
       "      <td>...</td>\n",
       "      <td>...</td>\n",
       "      <td>...</td>\n",
       "      <td>...</td>\n",
       "      <td>...</td>\n",
       "      <td>...</td>\n",
       "      <td>...</td>\n",
       "      <td>...</td>\n",
       "      <td>...</td>\n",
       "      <td>...</td>\n",
       "      <td>...</td>\n",
       "      <td>...</td>\n",
       "      <td>...</td>\n",
       "      <td>...</td>\n",
       "      <td>...</td>\n",
       "      <td>...</td>\n",
       "      <td>...</td>\n",
       "      <td>...</td>\n",
       "    </tr>\n",
       "    <tr>\n",
       "      <th>967</th>\n",
       "      <td>2012-08-17</td>\n",
       "      <td>Accident</td>\n",
       "      <td>Holton, KS</td>\n",
       "      <td>United States</td>\n",
       "      <td>Unknown</td>\n",
       "      <td>Fatal</td>\n",
       "      <td>Substantial</td>\n",
       "      <td>Piper</td>\n",
       "      <td>PA-24-260</td>\n",
       "      <td>No</td>\n",
       "      <td>...</td>\n",
       "      <td>2.0</td>\n",
       "      <td>0.0</td>\n",
       "      <td>VMC</td>\n",
       "      <td>Unknown</td>\n",
       "      <td>3.0</td>\n",
       "      <td>Piper PA-24-260</td>\n",
       "      <td>0.0</td>\n",
       "      <td>0.333333</td>\n",
       "      <td>0.666667</td>\n",
       "      <td>0.0</td>\n",
       "    </tr>\n",
       "    <tr>\n",
       "      <th>954</th>\n",
       "      <td>2012-06-13</td>\n",
       "      <td>Accident</td>\n",
       "      <td>Ocilla, GA</td>\n",
       "      <td>United States</td>\n",
       "      <td>Unknown</td>\n",
       "      <td>Fatal</td>\n",
       "      <td>Substantial</td>\n",
       "      <td>Piper</td>\n",
       "      <td>PA-28-180</td>\n",
       "      <td>No</td>\n",
       "      <td>...</td>\n",
       "      <td>0.0</td>\n",
       "      <td>0.0</td>\n",
       "      <td>VMC</td>\n",
       "      <td>Unknown</td>\n",
       "      <td>1.0</td>\n",
       "      <td>Piper PA-28-180</td>\n",
       "      <td>0.0</td>\n",
       "      <td>1.000000</td>\n",
       "      <td>0.000000</td>\n",
       "      <td>0.0</td>\n",
       "    </tr>\n",
       "    <tr>\n",
       "      <th>339</th>\n",
       "      <td>1982-08-14</td>\n",
       "      <td>Accident</td>\n",
       "      <td>KANKAKEE, IL</td>\n",
       "      <td>United States</td>\n",
       "      <td>GREATER KANKAKEE</td>\n",
       "      <td>Fatal</td>\n",
       "      <td>Substantial</td>\n",
       "      <td>Piper</td>\n",
       "      <td>PA-28-151</td>\n",
       "      <td>No</td>\n",
       "      <td>...</td>\n",
       "      <td>0.0</td>\n",
       "      <td>2.0</td>\n",
       "      <td>VMC</td>\n",
       "      <td>Landing</td>\n",
       "      <td>2.0</td>\n",
       "      <td>Piper PA-28-151</td>\n",
       "      <td>0.0</td>\n",
       "      <td>0.000000</td>\n",
       "      <td>0.000000</td>\n",
       "      <td>1.0</td>\n",
       "    </tr>\n",
       "    <tr>\n",
       "      <th>956</th>\n",
       "      <td>2012-06-22</td>\n",
       "      <td>Accident</td>\n",
       "      <td>Metropolis, IL</td>\n",
       "      <td>United States</td>\n",
       "      <td>Metropolis Municipal</td>\n",
       "      <td>Fatal</td>\n",
       "      <td>Substantial</td>\n",
       "      <td>Piper</td>\n",
       "      <td>PA-46-310P</td>\n",
       "      <td>No</td>\n",
       "      <td>...</td>\n",
       "      <td>0.0</td>\n",
       "      <td>1.0</td>\n",
       "      <td>VMC</td>\n",
       "      <td>Unknown</td>\n",
       "      <td>1.0</td>\n",
       "      <td>Piper PA-46-310P</td>\n",
       "      <td>0.0</td>\n",
       "      <td>0.000000</td>\n",
       "      <td>0.000000</td>\n",
       "      <td>1.0</td>\n",
       "    </tr>\n",
       "    <tr>\n",
       "      <th>961</th>\n",
       "      <td>2012-07-20</td>\n",
       "      <td>Accident</td>\n",
       "      <td>Statesboro, GA</td>\n",
       "      <td>United States</td>\n",
       "      <td>Statesboro-Bulloch County</td>\n",
       "      <td>Fatal</td>\n",
       "      <td>Substantial</td>\n",
       "      <td>Piper</td>\n",
       "      <td>PA-28-180</td>\n",
       "      <td>No</td>\n",
       "      <td>...</td>\n",
       "      <td>0.0</td>\n",
       "      <td>1.0</td>\n",
       "      <td>VMC</td>\n",
       "      <td>Unknown</td>\n",
       "      <td>2.0</td>\n",
       "      <td>Piper PA-28-180</td>\n",
       "      <td>0.0</td>\n",
       "      <td>0.500000</td>\n",
       "      <td>0.000000</td>\n",
       "      <td>0.5</td>\n",
       "    </tr>\n",
       "  </tbody>\n",
       "</table>\n",
       "<p>1173 rows × 25 columns</p>\n",
       "</div>"
      ],
      "text/plain": [
       "      Event Date Investigation Type                    Location  \\\n",
       "128   1982-04-07           Accident           WINSTON-SALEM, NC   \n",
       "721   2008-12-14           Accident             Rocksprings, TX   \n",
       "1245  2018-09-03           Accident                 Burbank, CA   \n",
       "727   2008-12-27           Accident              Fort Myers, FL   \n",
       "718   2008-11-23           Accident  God's Lake Narrows, Canada   \n",
       "...          ...                ...                         ...   \n",
       "967   2012-08-17           Accident                  Holton, KS   \n",
       "954   2012-06-13           Accident                  Ocilla, GA   \n",
       "339   1982-08-14           Accident                KANKAKEE, IL   \n",
       "956   2012-06-22           Accident              Metropolis, IL   \n",
       "961   2012-07-20           Accident              Statesboro, GA   \n",
       "\n",
       "            Country                    Airport Name Injury Severity  \\\n",
       "128   United States                  SMITH REYNOLDS           Fatal   \n",
       "721   United States                         Unknown           Fatal   \n",
       "1245  United States                        Bob Hope           Fatal   \n",
       "727   United States  Southwest Florida Internationa           Fatal   \n",
       "718          Canada      God's Lake Narrows Airport           Fatal   \n",
       "...             ...                             ...             ...   \n",
       "967   United States                         Unknown           Fatal   \n",
       "954   United States                         Unknown           Fatal   \n",
       "339   United States                GREATER KANKAKEE           Fatal   \n",
       "956   United States            Metropolis Municipal           Fatal   \n",
       "961   United States       Statesboro-Bulloch County           Fatal   \n",
       "\n",
       "     Aircraft Damage   Make       Model Amateur Built  ...  \\\n",
       "128      Substantial  Beech      65-A90            No  ...   \n",
       "721      Substantial  Beech         C90            No  ...   \n",
       "1245     Substantial  Beech         200            No  ...   \n",
       "727      Substantial  Beech        E18S            No  ...   \n",
       "718        Destroyed  Beech        A100            No  ...   \n",
       "...              ...    ...         ...           ...  ...   \n",
       "967      Substantial  Piper   PA-24-260            No  ...   \n",
       "954      Substantial  Piper   PA-28-180            No  ...   \n",
       "339      Substantial  Piper   PA-28-151            No  ...   \n",
       "956      Substantial  Piper  PA-46-310P            No  ...   \n",
       "961      Substantial  Piper   PA-28-180            No  ...   \n",
       "\n",
       "      Total Minor Injuries Total Uninjured Weather Condition  \\\n",
       "128                    0.0             2.0               VMC   \n",
       "721                    0.0             0.0               VMC   \n",
       "1245                   0.0             1.0               VMC   \n",
       "727                    1.0             0.0               VMC   \n",
       "718                    0.0             0.0               VMC   \n",
       "...                    ...             ...               ...   \n",
       "967                    2.0             0.0               VMC   \n",
       "954                    0.0             0.0               VMC   \n",
       "339                    0.0             2.0               VMC   \n",
       "956                    0.0             1.0               VMC   \n",
       "961                    0.0             1.0               VMC   \n",
       "\n",
       "      Broad Phase Of Flight  Total Passengers        Make-Model  \\\n",
       "128                 Landing               2.0      Beech 65-A90   \n",
       "721                 Unknown               1.0         Beech C90   \n",
       "1245                Unknown               1.0         Beech 200   \n",
       "727                 Unknown               1.0        Beech E18S   \n",
       "718                 Unknown               5.0        Beech A100   \n",
       "...                     ...               ...               ...   \n",
       "967                 Unknown               3.0   Piper PA-24-260   \n",
       "954                 Unknown               1.0   Piper PA-28-180   \n",
       "339                 Landing               2.0   Piper PA-28-151   \n",
       "956                 Unknown               1.0  Piper PA-46-310P   \n",
       "961                 Unknown               2.0   Piper PA-28-180   \n",
       "\n",
       "      Fatal Injury Ratio Serious Injury Ratio Minor Injury Ratio  \\\n",
       "128                  0.0             0.000000           0.000000   \n",
       "721                  1.0             0.000000           0.000000   \n",
       "1245                 0.0             0.000000           0.000000   \n",
       "727                  0.0             0.000000           1.000000   \n",
       "718                  0.0             1.000000           0.000000   \n",
       "...                  ...                  ...                ...   \n",
       "967                  0.0             0.333333           0.666667   \n",
       "954                  0.0             1.000000           0.000000   \n",
       "339                  0.0             0.000000           0.000000   \n",
       "956                  0.0             0.000000           0.000000   \n",
       "961                  0.0             0.500000           0.000000   \n",
       "\n",
       "      Uninjured Ratio  \n",
       "128               1.0  \n",
       "721               0.0  \n",
       "1245              1.0  \n",
       "727               0.0  \n",
       "718               0.0  \n",
       "...               ...  \n",
       "967               0.0  \n",
       "954               0.0  \n",
       "339               1.0  \n",
       "956               1.0  \n",
       "961               0.5  \n",
       "\n",
       "[1173 rows x 25 columns]"
      ]
     },
     "execution_count": 12,
     "metadata": {},
     "output_type": "execute_result"
    }
   ],
   "source": [
    "filtered_df"
   ]
  },
  {
   "cell_type": "markdown",
   "id": "07eadc67-bad4-44a8-b611-6fb39ec0fe91",
   "metadata": {},
   "source": [
    "## Understanding the Relationships with Top 5 Manufacturers"
   ]
  },
  {
   "cell_type": "markdown",
   "id": "b91b6611-d50a-4134-9cc2-41b63acf4b8b",
   "metadata": {},
   "source": [
    "The lowest fatal injury ratio is Grumman. We'll look into this further."
   ]
  },
  {
   "cell_type": "code",
   "execution_count": 13,
   "id": "e4410de7-e203-454d-bec3-321c583377a5",
   "metadata": {},
   "outputs": [
    {
     "data": {
      "image/png": "[encoded data removed]",
      "text/plain": [
       "<Figure size 432x288 with 1 Axes>"
      ]
     },
     "metadata": {
      "needs_background": "light"
     },
     "output_type": "display_data"
    }
   ],
   "source": [
    "fig, ax = plt.subplots()\n",
    "sns.barplot(x= 'Make', y='Fatal Injury Ratio', data= filtered_df, ax=ax)\n",
    "ax.set_title('Fatal Injury Ratio For Top-Five Makes')\n",
    "#plt.savefig('fatality_top_five.png')"
   ]
  },
  {
   "cell_type": "markdown",
   "id": "a5f3d280-df42-494b-aae3-51130216266c",
   "metadata": {},
   "source": [
    "There's way more aircrafts with reciprocating engines and turbo props."
   ]
  },
  {
   "cell_type": "code",
   "execution_count": 14,
   "id": "a1ff7c5b-410f-49ca-87a1-f7140a25ec7f",
   "metadata": {},
   "outputs": [
    {
     "data": {
      "image/png": "[encoded data removed]",
      "text/plain": [
       "<Figure size 432x288 with 1 Axes>"
      ]
     },
     "metadata": {
      "needs_background": "light"
     },
     "output_type": "display_data"
    }
   ],
   "source": [
    "fig, ax = plt.subplots()\n",
    "sns.scatterplot(x= 'Fatal Injury Ratio', y='Make', hue= 'Engine Type', data= filtered_df, ax=ax)\n",
    "ax.set_title('Fatal Injury Ratio For Top-Five Makes')\n",
    "#plt.savefig('fatality_engines_top_five.png')"
   ]
  },
  {
   "cell_type": "code",
   "execution_count": 15,
   "id": "7c456239-3564-4f14-8e14-13534ba97d9f",
   "metadata": {},
   "outputs": [
    {
     "data": {
      "text/plain": [
       "VMC    917\n",
       "IMC    158\n",
       "Name: Weather Condition, dtype: int64"
      ]
     },
     "execution_count": 15,
     "metadata": {},
     "output_type": "execute_result"
    }
   ],
   "source": [
    "#Get rid of the unknown weather values that are left\n",
    "filtered_df = filtered_df[filtered_df['Weather Condition'] != 'UNK']\n",
    "filtered_df = filtered_df[filtered_df['Weather Condition'] != 'Unknown']\n",
    "filtered_df['Weather Condition'].value_counts()"
   ]
  },
  {
   "cell_type": "markdown",
   "id": "cfb8f4ee-9b22-4c6a-b97e-8d0b3661f691",
   "metadata": {},
   "source": [
    "When we add weather condition to the mix it looks like Cessna performs well in both good and bad weather conditions."
   ]
  },
  {
   "cell_type": "code",
   "execution_count": 19,
   "id": "2d306f14-001b-4099-a13e-6b88ac9ba6a1",
   "metadata": {},
   "outputs": [
    {
     "data": {
      "image/png": "[encoded data removed]",
      "text/plain": [
       "<Figure size 432x288 with 1 Axes>"
      ]
     },
     "metadata": {
      "needs_background": "light"
     },
     "output_type": "display_data"
    }
   ],
   "source": [
    "fig, ax = plt.subplots()\n",
    "sns.scatterplot(x= 'Make', y='Fatal Injury Ratio', hue= 'Weather Condition', data= filtered_df, ax=ax)\n",
    "\n",
    "ax.set_title('Fatal Injury Ratio By Make')\n",
    "\n",
    "#plt.savefig('fatal_injury_weather.png')"
   ]
  },
  {
   "cell_type": "markdown",
   "id": "ee4f7313-9c3c-425e-b391-c41e2da4d6e3",
   "metadata": {},
   "source": [
    "- Highest Average Fatality Ratio is happening in Approach, Climb, Maneuvering, Cruise and Go-Around Phases.\n",
    "- The lowest average fatalities are happening in the Standing, Landing, and Taxi Phases.\n",
    "- IMC Weather Conditions are more often present with Higher Average Fatality Rate while VMC are present with lower average fatality rates"
   ]
  },
  {
   "cell_type": "code",
   "execution_count": 20,
   "id": "ed206f20-8046-483e-957e-a0935318a94b",
   "metadata": {},
   "outputs": [
    {
     "data": {
      "image/png": "[encoded data removed]",
      "text/plain": [
       "<Figure size 864x504 with 1 Axes>"
      ]
     },
     "metadata": {
      "needs_background": "light"
     },
     "output_type": "display_data"
    },
    {
     "data": {
      "text/plain": [
       "<Figure size 432x288 with 0 Axes>"
      ]
     },
     "metadata": {},
     "output_type": "display_data"
    }
   ],
   "source": [
    "plt.figure(figsize=(12,7))\n",
    "sns.barplot(x='Broad Phase Of Flight', y= 'Fatal Injury Ratio', hue= 'Weather Condition', data= filtered_df)\n",
    "plt.xlabel('Phase of Flight')\n",
    "plt.ylabel('Average Fatality Rate')\n",
    "plt.title('Average Fatality Rates in Each Phase of Flight of Top 5 Aircraft Makes')\n",
    "plt.show()\n",
    "\n",
    "#plt.savefig('avg_fatality_phase_weather.png')"
   ]
  },
  {
   "cell_type": "markdown",
   "id": "59410cc1-0e0e-4e65-a91b-4b9c56f5678a",
   "metadata": {},
   "source": [
    "## Creating the Risk Index\n",
    "\n",
    "We are assessing safety by creating a risk index that takes in a Make & Model and will output a risk index rank (i.e. High, Medium, and Low Risk) and Risk Values, the numeric value between 0 and 1 calculated by the risk score we create in our function.\n",
    "\n",
    "Risk Index Indicators: Average Fatality Rate, Average Fatality with Substantial Aircraft Damage, Median Uninjured Rate, and Average Minor Injury Rate"
   ]
  },
  {
   "cell_type": "code",
   "execution_count": 21,
   "id": "45f4db29-4b17-4273-8291-464af8fd7aac",
   "metadata": {},
   "outputs": [
    {
     "data": {
      "text/html": [
       "<div>\n",
       "<style scoped>\n",
       "    .dataframe tbody tr th:only-of-type {\n",
       "        vertical-align: middle;\n",
       "    }\n",
       "\n",
       "    .dataframe tbody tr th {\n",
       "        vertical-align: top;\n",
       "    }\n",
       "\n",
       "    .dataframe thead th {\n",
       "        text-align: right;\n",
       "    }\n",
       "</style>\n",
       "<table border=\"1\" class=\"dataframe\">\n",
       "  <thead>\n",
       "    <tr style=\"text-align: right;\">\n",
       "      <th></th>\n",
       "      <th>Uninjured Ratio</th>\n",
       "    </tr>\n",
       "    <tr>\n",
       "      <th>Make-Model</th>\n",
       "      <th></th>\n",
       "    </tr>\n",
       "  </thead>\n",
       "  <tbody>\n",
       "    <tr>\n",
       "      <th>Beech 1900</th>\n",
       "      <td>0.500000</td>\n",
       "    </tr>\n",
       "    <tr>\n",
       "      <th>Beech 200</th>\n",
       "      <td>0.637363</td>\n",
       "    </tr>\n",
       "    <tr>\n",
       "      <th>Beech 35</th>\n",
       "      <td>1.000000</td>\n",
       "    </tr>\n",
       "    <tr>\n",
       "      <th>Beech 36</th>\n",
       "      <td>0.750000</td>\n",
       "    </tr>\n",
       "    <tr>\n",
       "      <th>Beech 400</th>\n",
       "      <td>0.666667</td>\n",
       "    </tr>\n",
       "    <tr>\n",
       "      <th>...</th>\n",
       "      <td>...</td>\n",
       "    </tr>\n",
       "    <tr>\n",
       "      <th>Piper PA31-350</th>\n",
       "      <td>1.000000</td>\n",
       "    </tr>\n",
       "    <tr>\n",
       "      <th>Piper PA31T</th>\n",
       "      <td>0.000000</td>\n",
       "    </tr>\n",
       "    <tr>\n",
       "      <th>Piper PA32R</th>\n",
       "      <td>0.500000</td>\n",
       "    </tr>\n",
       "    <tr>\n",
       "      <th>Piper PA46</th>\n",
       "      <td>1.000000</td>\n",
       "    </tr>\n",
       "    <tr>\n",
       "      <th>Piper PA46-500TP</th>\n",
       "      <td>0.000000</td>\n",
       "    </tr>\n",
       "  </tbody>\n",
       "</table>\n",
       "<p>238 rows × 1 columns</p>\n",
       "</div>"
      ],
      "text/plain": [
       "                  Uninjured Ratio\n",
       "Make-Model                       \n",
       "Beech 1900               0.500000\n",
       "Beech 200                0.637363\n",
       "Beech 35                 1.000000\n",
       "Beech 36                 0.750000\n",
       "Beech 400                0.666667\n",
       "...                           ...\n",
       "Piper PA31-350           1.000000\n",
       "Piper PA31T              0.000000\n",
       "Piper PA32R              0.500000\n",
       "Piper PA46               1.000000\n",
       "Piper PA46-500TP         0.000000\n",
       "\n",
       "[238 rows x 1 columns]"
      ]
     },
     "execution_count": 21,
     "metadata": {},
     "output_type": "execute_result"
    }
   ],
   "source": [
    "# Take the groupby mean of uninjured rates for each make-model; \n",
    "filtered_df[['Uninjured Ratio', 'Make-Model']].groupby('Make-Model').mean()"
   ]
  },
  {
   "cell_type": "markdown",
   "id": "405aadab",
   "metadata": {},
   "source": [
    "### Build a risk index dataframe"
   ]
  },
  {
   "cell_type": "code",
   "execution_count": 22,
   "id": "06a2c08b-49d9-4153-9ac5-3bf36fb60cdf",
   "metadata": {},
   "outputs": [],
   "source": [
    "#Let's use this column to start our risk_index_df which will consist of all the risk indicators\n",
    "risk_index_df = filtered_df[['Uninjured Ratio', 'Make-Model']].groupby('Make-Model').mean()\n",
    "risk_index_df.rename(columns={\"Uninjured Ratio\": \"Average Uninjured Rate\"}, inplace=True)\n",
    "risk_index_df\n",
    "\n",
    "second = filtered_df[['Fatal Injury Ratio', 'Make-Model']].groupby('Make-Model').mean()\n",
    "risk_index_df['Average Fatality Rate'] = second['Fatal Injury Ratio']\n",
    "\n",
    "# Calculate the average fatality rate when there is Substantial damage to the aircraft\n",
    "substantial_damage_df = filtered_df[filtered_df['Aircraft Damage'] == 'Substantial']\n",
    "substantial_damage_df\n",
    "third = substantial_damage_df[['Fatal Injury Ratio', 'Make-Model']].groupby('Make-Model').mean()\n",
    "\n",
    "# Add this column to the risk index df\n",
    "risk_index_df['Average Fatality Rate w/ Substantial Damage'] = third\n",
    "\n",
    "# Calculate the average minor injury rate \n",
    "fourth = filtered_df[['Minor Injury Ratio', 'Make-Model']].groupby('Make-Model').mean()\n",
    "fourth\n",
    "\n",
    "risk_index_df['Average Minor Injury Rate'] = fourth\n",
    "risk_index_df\n",
    "\n",
    "fifth = filtered_df[['Serious Injury Ratio', 'Make-Model']].groupby('Make-Model').mean()\n",
    "fifth\n",
    "\n",
    "risk_index_df['Average Serious Injury Rate'] = fifth"
   ]
  },
  {
   "cell_type": "code",
   "execution_count": 23,
   "id": "d2f181c9-53d5-4209-9fa8-c2105d857181",
   "metadata": {},
   "outputs": [
    {
     "name": "stdout",
     "output_type": "stream",
     "text": [
      "0.07093000750357291\n"
     ]
    },
    {
     "data": {
      "text/plain": [
       "False    238\n",
       "Name: Average Fatality Rate w/ Substantial Damage, dtype: int64"
      ]
     },
     "execution_count": 23,
     "metadata": {},
     "output_type": "execute_result"
    }
   ],
   "source": [
    "#Checking for the missing values and imputing them with the mean them\n",
    "risk_index_df['Average Fatality Rate w/ Substantial Damage'].isna().value_counts()\n",
    "\n",
    "print(risk_index_df['Average Fatality Rate w/ Substantial Damage'].mean())\n",
    "\n",
    "risk_index_df['Average Fatality Rate w/ Substantial Damage']= risk_index_df['Average Fatality Rate w/ Substantial Damage'].fillna(risk_index_df['Average Fatality Rate w/ Substantial Damage'].mean())\n",
    "risk_index_df['Average Fatality Rate w/ Substantial Damage'].isna().value_counts()"
   ]
  },
  {
   "cell_type": "markdown",
   "id": "97310106",
   "metadata": {},
   "source": [
    "Our risk index dataframe is built. We will be using this dataframe to input values into our risk index function which will assess the risk level as High, Medium, or Low, based on the given conditions."
   ]
  },
  {
   "cell_type": "code",
   "execution_count": 24,
   "id": "615f44f0-63ef-43c0-994e-9f1dd889985a",
   "metadata": {},
   "outputs": [
    {
     "data": {
      "text/html": [
       "<div>\n",
       "<style scoped>\n",
       "    .dataframe tbody tr th:only-of-type {\n",
       "        vertical-align: middle;\n",
       "    }\n",
       "\n",
       "    .dataframe tbody tr th {\n",
       "        vertical-align: top;\n",
       "    }\n",
       "\n",
       "    .dataframe thead th {\n",
       "        text-align: right;\n",
       "    }\n",
       "</style>\n",
       "<table border=\"1\" class=\"dataframe\">\n",
       "  <thead>\n",
       "    <tr style=\"text-align: right;\">\n",
       "      <th></th>\n",
       "      <th>Average Uninjured Rate</th>\n",
       "      <th>Average Fatality Rate</th>\n",
       "      <th>Average Fatality Rate w/ Substantial Damage</th>\n",
       "      <th>Average Minor Injury Rate</th>\n",
       "      <th>Average Serious Injury Rate</th>\n",
       "    </tr>\n",
       "    <tr>\n",
       "      <th>Make-Model</th>\n",
       "      <th></th>\n",
       "      <th></th>\n",
       "      <th></th>\n",
       "      <th></th>\n",
       "      <th></th>\n",
       "    </tr>\n",
       "  </thead>\n",
       "  <tbody>\n",
       "    <tr>\n",
       "      <th>Beech 1900</th>\n",
       "      <td>0.500000</td>\n",
       "      <td>0.500000</td>\n",
       "      <td>0.000000</td>\n",
       "      <td>0.000000</td>\n",
       "      <td>0.000000</td>\n",
       "    </tr>\n",
       "    <tr>\n",
       "      <th>Beech 200</th>\n",
       "      <td>0.637363</td>\n",
       "      <td>0.302198</td>\n",
       "      <td>0.053571</td>\n",
       "      <td>0.049451</td>\n",
       "      <td>0.010989</td>\n",
       "    </tr>\n",
       "    <tr>\n",
       "      <th>Beech 35</th>\n",
       "      <td>1.000000</td>\n",
       "      <td>0.000000</td>\n",
       "      <td>0.000000</td>\n",
       "      <td>0.000000</td>\n",
       "      <td>0.000000</td>\n",
       "    </tr>\n",
       "    <tr>\n",
       "      <th>Beech 36</th>\n",
       "      <td>0.750000</td>\n",
       "      <td>0.000000</td>\n",
       "      <td>0.000000</td>\n",
       "      <td>0.000000</td>\n",
       "      <td>0.250000</td>\n",
       "    </tr>\n",
       "    <tr>\n",
       "      <th>Beech 400</th>\n",
       "      <td>0.666667</td>\n",
       "      <td>0.000000</td>\n",
       "      <td>0.000000</td>\n",
       "      <td>0.000000</td>\n",
       "      <td>0.333333</td>\n",
       "    </tr>\n",
       "    <tr>\n",
       "      <th>...</th>\n",
       "      <td>...</td>\n",
       "      <td>...</td>\n",
       "      <td>...</td>\n",
       "      <td>...</td>\n",
       "      <td>...</td>\n",
       "    </tr>\n",
       "    <tr>\n",
       "      <th>Piper PA31-350</th>\n",
       "      <td>1.000000</td>\n",
       "      <td>0.000000</td>\n",
       "      <td>0.070930</td>\n",
       "      <td>0.000000</td>\n",
       "      <td>0.000000</td>\n",
       "    </tr>\n",
       "    <tr>\n",
       "      <th>Piper PA31T</th>\n",
       "      <td>0.000000</td>\n",
       "      <td>1.000000</td>\n",
       "      <td>0.070930</td>\n",
       "      <td>0.000000</td>\n",
       "      <td>0.000000</td>\n",
       "    </tr>\n",
       "    <tr>\n",
       "      <th>Piper PA32R</th>\n",
       "      <td>0.500000</td>\n",
       "      <td>0.250000</td>\n",
       "      <td>0.000000</td>\n",
       "      <td>0.000000</td>\n",
       "      <td>0.250000</td>\n",
       "    </tr>\n",
       "    <tr>\n",
       "      <th>Piper PA46</th>\n",
       "      <td>1.000000</td>\n",
       "      <td>0.000000</td>\n",
       "      <td>0.000000</td>\n",
       "      <td>0.000000</td>\n",
       "      <td>0.000000</td>\n",
       "    </tr>\n",
       "    <tr>\n",
       "      <th>Piper PA46-500TP</th>\n",
       "      <td>0.000000</td>\n",
       "      <td>1.000000</td>\n",
       "      <td>0.070930</td>\n",
       "      <td>0.000000</td>\n",
       "      <td>0.000000</td>\n",
       "    </tr>\n",
       "  </tbody>\n",
       "</table>\n",
       "<p>238 rows × 5 columns</p>\n",
       "</div>"
      ],
      "text/plain": [
       "                  Average Uninjured Rate  Average Fatality Rate  \\\n",
       "Make-Model                                                        \n",
       "Beech 1900                      0.500000               0.500000   \n",
       "Beech 200                       0.637363               0.302198   \n",
       "Beech 35                        1.000000               0.000000   \n",
       "Beech 36                        0.750000               0.000000   \n",
       "Beech 400                       0.666667               0.000000   \n",
       "...                                  ...                    ...   \n",
       "Piper PA31-350                  1.000000               0.000000   \n",
       "Piper PA31T                     0.000000               1.000000   \n",
       "Piper PA32R                     0.500000               0.250000   \n",
       "Piper PA46                      1.000000               0.000000   \n",
       "Piper PA46-500TP                0.000000               1.000000   \n",
       "\n",
       "                  Average Fatality Rate w/ Substantial Damage  \\\n",
       "Make-Model                                                      \n",
       "Beech 1900                                           0.000000   \n",
       "Beech 200                                            0.053571   \n",
       "Beech 35                                             0.000000   \n",
       "Beech 36                                             0.000000   \n",
       "Beech 400                                            0.000000   \n",
       "...                                                       ...   \n",
       "Piper PA31-350                                       0.070930   \n",
       "Piper PA31T                                          0.070930   \n",
       "Piper PA32R                                          0.000000   \n",
       "Piper PA46                                           0.000000   \n",
       "Piper PA46-500TP                                     0.070930   \n",
       "\n",
       "                  Average Minor Injury Rate  Average Serious Injury Rate  \n",
       "Make-Model                                                                \n",
       "Beech 1900                         0.000000                     0.000000  \n",
       "Beech 200                          0.049451                     0.010989  \n",
       "Beech 35                           0.000000                     0.000000  \n",
       "Beech 36                           0.000000                     0.250000  \n",
       "Beech 400                          0.000000                     0.333333  \n",
       "...                                     ...                          ...  \n",
       "Piper PA31-350                     0.000000                     0.000000  \n",
       "Piper PA31T                        0.000000                     0.000000  \n",
       "Piper PA32R                        0.000000                     0.250000  \n",
       "Piper PA46                         0.000000                     0.000000  \n",
       "Piper PA46-500TP                   0.000000                     0.000000  \n",
       "\n",
       "[238 rows x 5 columns]"
      ]
     },
     "execution_count": 24,
     "metadata": {},
     "output_type": "execute_result"
    }
   ],
   "source": [
    "risk_index_df"
   ]
  },
  {
   "cell_type": "markdown",
   "id": "16996fa8",
   "metadata": {},
   "source": [
    "### Build the Risk Index"
   ]
  },
  {
   "cell_type": "code",
   "execution_count": 25,
   "id": "05878e4b-8828-432a-96aa-384c77547fd9",
   "metadata": {},
   "outputs": [
    {
     "name": "stdout",
     "output_type": "stream",
     "text": [
      "0.5941919686716328\n",
      "0.10234870118732338\n",
      "0.10682344519052284\n",
      "0.19663588495052095\n",
      "0.0830502764855524\n"
     ]
    }
   ],
   "source": [
    "## Use the average of the ratios to set our conditions for risk\n",
    "print(filtered_df['Uninjured Ratio'].mean())\n",
    "print(filtered_df['Serious Injury Ratio'].mean())\n",
    "print(filtered_df['Minor Injury Ratio'].mean())\n",
    "print(filtered_df['Fatal Injury Ratio'].mean())\n",
    "print(substantial_damage_df['Fatal Injury Ratio'].mean())"
   ]
  },
  {
   "cell_type": "code",
   "execution_count": 26,
   "id": "c4195f32-aca3-48d0-834e-d9c46042291a",
   "metadata": {},
   "outputs": [],
   "source": [
    "#Normalizing the risk data frame: (x-x.min)/(x.max-x.min)\n",
    "\n",
    "risk_index_df['Average Uninjured Rate'] = (risk_index_df['Average Uninjured Rate'] - risk_index_df['Average Uninjured Rate'].min()) / (risk_index_df['Average Uninjured Rate'].max() - risk_index_df['Average Uninjured Rate'].min())\n",
    "risk_index_df['Average Fatality Rate w/ Substantial Damage'] = (risk_index_df['Average Fatality Rate w/ Substantial Damage'] - risk_index_df['Average Fatality Rate w/ Substantial Damage'].min()) / (risk_index_df['Average Fatality Rate w/ Substantial Damage'].max() - risk_index_df['Average Fatality Rate w/ Substantial Damage'].min())\n",
    "risk_index_df['Average Fatality Rate'] = (risk_index_df['Average Fatality Rate'] - risk_index_df['Average Fatality Rate'].min()) / (risk_index_df['Average Fatality Rate'].max() - risk_index_df['Average Fatality Rate'].min())\n",
    "risk_index_df['Average Minor Injury Rate'] = (risk_index_df['Average Minor Injury Rate'] - risk_index_df['Average Minor Injury Rate'].min()) / (risk_index_df['Average Minor Injury Rate'].max() - risk_index_df['Average Minor Injury Rate'].min())\n",
    "risk_index_df['Average Serious Injury Rate'] = (risk_index_df['Average Serious Injury Rate'] - risk_index_df['Average Serious Injury Rate'].min()) / (risk_index_df['Average Serious Injury Rate'].max() - risk_index_df['Average Serious Injury Rate'].min())\n"
   ]
  },
  {
   "cell_type": "code",
   "execution_count": null,
   "id": "a5262c6f-5ff3-41ba-90c7-46907b374cef",
   "metadata": {},
   "outputs": [
    {
     "data": {
      "text/html": [
       "<div>\n",
       "<style scoped>\n",
       "    .dataframe tbody tr th:only-of-type {\n",
       "        vertical-align: middle;\n",
       "    }\n",
       "\n",
       "    .dataframe tbody tr th {\n",
       "        vertical-align: top;\n",
       "    }\n",
       "\n",
       "    .dataframe thead th {\n",
       "        text-align: right;\n",
       "    }\n",
       "</style>\n",
       "<table border=\"1\" class=\"dataframe\">\n",
       "  <thead>\n",
       "    <tr style=\"text-align: right;\">\n",
       "      <th></th>\n",
       "      <th>Average Uninjured Rate</th>\n",
       "      <th>Average Fatality Rate</th>\n",
       "      <th>Average Fatality Rate w/ Substantial Damage</th>\n",
       "      <th>Average Minor Injury Rate</th>\n",
       "      <th>Average Serious Injury Rate</th>\n",
       "    </tr>\n",
       "  </thead>\n",
       "  <tbody>\n",
       "    <tr>\n",
       "      <th>count</th>\n",
       "      <td>238.000000</td>\n",
       "      <td>238.000000</td>\n",
       "      <td>238.000000</td>\n",
       "      <td>238.000000</td>\n",
       "      <td>238.000000</td>\n",
       "    </tr>\n",
       "    <tr>\n",
       "      <th>mean</th>\n",
       "      <td>0.594615</td>\n",
       "      <td>0.183655</td>\n",
       "      <td>0.106395</td>\n",
       "      <td>0.166340</td>\n",
       "      <td>0.110836</td>\n",
       "    </tr>\n",
       "    <tr>\n",
       "      <th>std</th>\n",
       "      <td>0.293789</td>\n",
       "      <td>0.219902</td>\n",
       "      <td>0.186832</td>\n",
       "      <td>0.241276</td>\n",
       "      <td>0.175800</td>\n",
       "    </tr>\n",
       "    <tr>\n",
       "      <th>min</th>\n",
       "      <td>0.000000</td>\n",
       "      <td>0.000000</td>\n",
       "      <td>0.000000</td>\n",
       "      <td>0.000000</td>\n",
       "      <td>0.000000</td>\n",
       "    </tr>\n",
       "    <tr>\n",
       "      <th>25%</th>\n",
       "      <td>0.447218</td>\n",
       "      <td>0.000000</td>\n",
       "      <td>0.000000</td>\n",
       "      <td>0.000000</td>\n",
       "      <td>0.000000</td>\n",
       "    </tr>\n",
       "    <tr>\n",
       "      <th>50%</th>\n",
       "      <td>0.598961</td>\n",
       "      <td>0.097779</td>\n",
       "      <td>0.000000</td>\n",
       "      <td>0.051230</td>\n",
       "      <td>0.047157</td>\n",
       "    </tr>\n",
       "    <tr>\n",
       "      <th>75%</th>\n",
       "      <td>0.810282</td>\n",
       "      <td>0.333333</td>\n",
       "      <td>0.106395</td>\n",
       "      <td>0.244091</td>\n",
       "      <td>0.145177</td>\n",
       "    </tr>\n",
       "    <tr>\n",
       "      <th>max</th>\n",
       "      <td>1.000000</td>\n",
       "      <td>1.000000</td>\n",
       "      <td>1.000000</td>\n",
       "      <td>1.000000</td>\n",
       "      <td>1.000000</td>\n",
       "    </tr>\n",
       "  </tbody>\n",
       "</table>\n",
       "</div>"
      ],
      "text/plain": [
       "       Average Uninjured Rate  Average Fatality Rate  \\\n",
       "count              238.000000             238.000000   \n",
       "mean                 0.594615               0.183655   \n",
       "std                  0.293789               0.219902   \n",
       "min                  0.000000               0.000000   \n",
       "25%                  0.447218               0.000000   \n",
       "50%                  0.598961               0.097779   \n",
       "75%                  0.810282               0.333333   \n",
       "max                  1.000000               1.000000   \n",
       "\n",
       "       Average Fatality Rate w/ Substantial Damage  Average Minor Injury Rate  \\\n",
       "count                                   238.000000                 238.000000   \n",
       "mean                                      0.106395                   0.166340   \n",
       "std                                       0.186832                   0.241276   \n",
       "min                                       0.000000                   0.000000   \n",
       "25%                                       0.000000                   0.000000   \n",
       "50%                                       0.000000                   0.051230   \n",
       "75%                                       0.106395                   0.244091   \n",
       "max                                       1.000000                   1.000000   \n",
       "\n",
       "       Average Serious Injury Rate  \n",
       "count                   238.000000  \n",
       "mean                      0.110836  \n",
       "std                       0.175800  \n",
       "min                       0.000000  \n",
       "25%                       0.000000  \n",
       "50%                       0.047157  \n",
       "75%                       0.145177  \n",
       "max                       1.000000  "
      ]
     },
     "execution_count": 707,
     "metadata": {},
     "output_type": "execute_result"
    }
   ],
   "source": [
    "risk_index_df.describe()"
   ]
  },
  {
   "cell_type": "markdown",
   "id": "b547a8e7",
   "metadata": {},
   "source": [
    "## Create the function"
   ]
  },
  {
   "cell_type": "code",
   "execution_count": 27,
   "id": "a962a507-6c1b-4320-8ead-236081c66326",
   "metadata": {},
   "outputs": [],
   "source": [
    "#Have the function take in a make_model in string form and the dataframe\n",
    "##### \n",
    "#####\n",
    "def risk_index(make_model, risk_index_df):\n",
    "    # Find the row corresponding to the given Make-Model\n",
    "    row = risk_index_df.loc[make_model]\n",
    "   \n",
    "    if row.empty:\n",
    "        return \"Make-Model not found\"\n",
    "\n",
    "    avg_fatality_rate = row['Average Fatality Rate']\n",
    "    avg_serious_injury_rate = row['Average Serious Injury Rate']\n",
    "    avg_fatality_substantial_damage = row['Average Fatality Rate w/ Substantial Damage']\n",
    "    avg_uninjured_rate = row['Average Uninjured Rate']\n",
    "    avg_minor_injury = row['Average Minor Injury Rate']\n",
    "    \n",
    "    count = 0\n",
    "    # Apply the risk conditions\n",
    "    if avg_fatality_rate > .20:\n",
    "        count += 1\n",
    "    if avg_serious_injury_rate > .10:\n",
    "        count += 1\n",
    "    if avg_fatality_substantial_damage > .08:\n",
    "        count += 1\n",
    "    if avg_uninjured_rate < .6:\n",
    "        count += 1\n",
    "    if avg_minor_injury < .13:\n",
    "        count += 1\n",
    "\n",
    "    # Determine risk level based on count\n",
    "    if count >= 4:\n",
    "        return \"High Risk\"\n",
    "    elif count == 3:\n",
    "        return \"Medium Risk\"\n",
    "    else:\n",
    "        return \"Low Risk\"\n"
   ]
  },
  {
   "cell_type": "code",
   "execution_count": 28,
   "id": "b5deee67-7112-4683-b419-1d113fdeb25f",
   "metadata": {},
   "outputs": [
    {
     "data": {
      "text/plain": [
       "'Medium Risk'"
      ]
     },
     "execution_count": 28,
     "metadata": {},
     "output_type": "execute_result"
    }
   ],
   "source": [
    "risk_index('Beech 200', risk_index_df)"
   ]
  },
  {
   "cell_type": "markdown",
   "id": "2ceaafc7",
   "metadata": {},
   "source": [
    "## Apply the risk function across the dataframe"
   ]
  },
  {
   "cell_type": "code",
   "execution_count": 89,
   "id": "23f68708-8057-401f-8913-9f0b0cf54dcd",
   "metadata": {},
   "outputs": [],
   "source": [
    "## Create the Risk Index column\n",
    "risk_index_df['Risk Index'] = risk_index_df.apply(lambda row: risk_index(row.name, risk_index_df), axis=1)"
   ]
  },
  {
   "cell_type": "markdown",
   "id": "fc52a8d3-849b-499a-9e31-a69481cb03b2",
   "metadata": {},
   "source": [
    "An initial look at our risk index shows that something in the data may have skewed the results to be low risk. Let's look into the data a bit more and see what might be causing this. We may need to normalize or standardize the data and possibly give the conditions different weights."
   ]
  },
  {
   "cell_type": "code",
   "execution_count": 30,
   "id": "c48aae7c-df28-4ca9-8eef-fa50dea87f3b",
   "metadata": {},
   "outputs": [
    {
     "data": {
      "text/plain": [
       "Low Risk       143\n",
       "Medium Risk     55\n",
       "High Risk       40\n",
       "Name: Risk Index, dtype: int64"
      ]
     },
     "execution_count": 30,
     "metadata": {},
     "output_type": "execute_result"
    }
   ],
   "source": [
    "risk_index_df['Risk Index'].value_counts()"
   ]
  },
  {
   "cell_type": "markdown",
   "id": "f25382ae",
   "metadata": {},
   "source": [
    "There are a lot of 0 values for the average fatality rate. Maybe we can give this indicator less weight, or figure out how to standardize the data better when building the risk index function\n"
   ]
  },
  {
   "cell_type": "code",
   "execution_count": 31,
   "id": "84809922-7c7d-4221-a668-286fbaf0974d",
   "metadata": {},
   "outputs": [
    {
     "data": {
      "image/png": "[encoded data removed]",
      "text/plain": [
       "<Figure size 432x288 with 1 Axes>"
      ]
     },
     "metadata": {
      "needs_background": "light"
     },
     "output_type": "display_data"
    }
   ],
   "source": [
    "sns.histplot(risk_index_df['Average Fatality Rate'], bins=10, kde=True)\n",
    "plt.title('Distribution of Average Fatality Rate')\n",
    "plt.show()"
   ]
  },
  {
   "cell_type": "markdown",
   "id": "efe31498",
   "metadata": {},
   "source": [
    "Most of the values fall around 50% uninjured, we might be able to give this more weight since it is a more normal and more stable distribution"
   ]
  },
  {
   "cell_type": "code",
   "execution_count": 32,
   "id": "023aa4e6-f471-48c6-b09c-7b14ac9d7291",
   "metadata": {},
   "outputs": [
    {
     "data": {
      "image/png": "[encoded data removed]",
      "text/plain": [
       "<Figure size 432x288 with 1 Axes>"
      ]
     },
     "metadata": {
      "needs_background": "light"
     },
     "output_type": "display_data"
    }
   ],
   "source": [
    "sns.histplot(risk_index_df['Average Uninjured Rate'], bins=10, kde=True)\n",
    "plt.title('Distribution of Average Uninjured Rate')\n",
    "plt.show()"
   ]
  },
  {
   "cell_type": "markdown",
   "id": "ead90304",
   "metadata": {},
   "source": [
    "Again the distribution is skewed to have a low avg fatality rate w substantial damage, we may need to give this less weight in our risk index"
   ]
  },
  {
   "cell_type": "code",
   "execution_count": 33,
   "id": "9cc25d1e-520e-4757-8d6e-d3ba4b9b9077",
   "metadata": {},
   "outputs": [
    {
     "data": {
      "image/png": "[encoded data removed]",
      "text/plain": [
       "<Figure size 432x288 with 1 Axes>"
      ]
     },
     "metadata": {
      "needs_background": "light"
     },
     "output_type": "display_data"
    }
   ],
   "source": [
    "sns.histplot(risk_index_df['Average Fatality Rate w/ Substantial Damage'], bins=20, kde=True)\n",
    "plt.title('Distribution of Average Fatality Rate w/ Substantial Damage')\n",
    "plt.show()"
   ]
  },
  {
   "cell_type": "markdown",
   "id": "7f8df007",
   "metadata": {},
   "source": [
    "We may be able to give this more weight in the index, since there is less data showing high rates of minor injuries\n"
   ]
  },
  {
   "cell_type": "code",
   "execution_count": 34,
   "id": "5dbcc90b-6cb5-4619-be3a-33483112244d",
   "metadata": {},
   "outputs": [
    {
     "data": {
      "image/png": "[encoded data removed]",
      "text/plain": [
       "<Figure size 432x288 with 1 Axes>"
      ]
     },
     "metadata": {
      "needs_background": "light"
     },
     "output_type": "display_data"
    }
   ],
   "source": [
    "sns.histplot(risk_index_df['Average Minor Injury Rate'], bins=20, kde=True)\n",
    "plt.title('Distribution of Average Minor Injury Rate')\n",
    "plt.show()"
   ]
  },
  {
   "cell_type": "code",
   "execution_count": null,
   "id": "0f044404-6ca0-4cf1-b0aa-f36bd54801e9",
   "metadata": {},
   "outputs": [
    {
     "data": {
      "image/png": "[encoded data removed]",
      "text/plain": [
       "<Figure size 640x480 with 1 Axes>"
      ]
     },
     "metadata": {},
     "output_type": "display_data"
    }
   ],
   "source": [
    "sns.histplot(risk_index_df['Average Serious Injury Rate'], bins=20, kde=True)\n",
    "plt.title('Distribution of Average Serious Injury Rate')\n",
    "plt.show()"
   ]
  },
  {
   "cell_type": "markdown",
   "id": "cda0f0a7-a393-496d-a904-09a6e0e59dd1",
   "metadata": {},
   "source": [
    "### Re-write the risk_index function with a weighted scoring system:\n",
    "\n",
    "\"\"\"\"\n",
    "This function will take in a make-model in string form, and a dataframe, and output a risk index. The risk index\n",
    "will be in tuple form as Rank,Value. The values will be binned into ranks called High, Medium, and Low Risk. \n",
    "The values are calculated first by identifying the averages of each indicators to use as the threshold \n",
    "to build the conditions of risk in the function. The function also assigns each indicator condition \n",
    "a corresponding weight that takes into account whether the variable has a skewed distribution or not. Skewed\n",
    "distributions will be given less weight to create a more stabilized function.\n",
    "\"\"\"\"\n"
   ]
  },
  {
   "cell_type": "code",
   "execution_count": 88,
   "id": "a4d50487-edb4-464f-82f4-816ea226895f",
   "metadata": {},
   "outputs": [],
   "source": [
    "def risk_index(make_model, risk_index_df):\n",
    "\n",
    "    row = risk_index_df.loc[make_model]\n",
    "   \n",
    "    if row.empty:\n",
    "        return \"Make-Model not found\"\n",
    "\n",
    "    avg_fatality_rate = row['Average Fatality Rate']\n",
    "    avg_serious_injury_rate = row['Average Serious Injury Rate']\n",
    "    avg_fatality_substantial_damage = row['Average Fatality Rate w/ Substantial Damage']\n",
    "    avg_uninjured_rate = row['Average Uninjured Rate']\n",
    "    avg_minor_injury = row['Average Minor Injury Rate']\n",
    "\n",
    "    weights = {\n",
    "        'fatality_rate': .10,\n",
    "        'serious_injury_rate': .10,\n",
    "        'minor_injury_rate': .35,\n",
    "        'substantial_damage_rate': .10,\n",
    "        'uninjured_rate': .35\n",
    "}\n",
    "\n",
    "    score = (\n",
    "        weights['fatality_rate'] * (avg_fatality_rate > 0.20) +\n",
    "        weights['serious_injury_rate'] * (avg_serious_injury_rate > 0.10) +\n",
    "        weights['substantial_damage_rate'] * (avg_fatality_substantial_damage > 0.08) +\n",
    "        weights['uninjured_rate'] * (avg_uninjured_rate < 0.60) + \n",
    "        weights['minor_injury_rate'] * (avg_minor_injury < 0.13)\n",
    "\n",
    "    )\n",
    "    \n",
    "    if score > .7:\n",
    "\n",
    "        return f\"High Risk, {score}\"\n",
    "    elif score > .4:\n",
    "        \n",
    "        return f\"Medium Risk, {score}\"\n",
    "    else:\n",
    "  \n",
    "        return f\"Low Risk, {score}\"\n"
   ]
  },
  {
   "cell_type": "code",
   "execution_count": 37,
   "id": "26fd0cf5-994f-4636-9dac-a6c39f47e2b7",
   "metadata": {},
   "outputs": [],
   "source": [
    "#Run the index column through the updated function\n",
    "risk_index_df['Risk Index'] = risk_index_df.apply(lambda row: risk_index(row.name, risk_index_df), axis=1)"
   ]
  },
  {
   "cell_type": "code",
   "execution_count": 38,
   "id": "b3ae9ca1-d0dd-4266-b423-c35ee942344b",
   "metadata": {},
   "outputs": [],
   "source": [
    "#Create new columns to separate the risk rank and value\n",
    "risk_index_df[[\"Risk Rank\", \"Risk Value\"]] = risk_index_df[\"Risk Index\"].str.split(\",\", expand=True)"
   ]
  },
  {
   "cell_type": "markdown",
   "id": "a0f817c2",
   "metadata": {},
   "source": [
    "There a little less Low Risk values here than before. The original function gave us 97 Low Risk, 60 Medium, and 33 High Risk. It seems like our updated function has an effect but it isn't a drastic change, feels just a little more stabilized.\n"
   ]
  },
  {
   "cell_type": "code",
   "execution_count": 39,
   "id": "95ddb657-4d71-4a11-92eb-91b7e26682cf",
   "metadata": {},
   "outputs": [
    {
     "data": {
      "text/plain": [
       "Medium Risk    94\n",
       "Low Risk       91\n",
       "High Risk      53\n",
       "Name: Risk Rank, dtype: int64"
      ]
     },
     "execution_count": 39,
     "metadata": {},
     "output_type": "execute_result"
    }
   ],
   "source": [
    "risk_index_df['Risk Rank'].value_counts()"
   ]
  },
  {
   "cell_type": "code",
   "execution_count": 40,
   "id": "338638b4-6452-49d1-9007-182f1b47ba81",
   "metadata": {},
   "outputs": [
    {
     "data": {
      "text/plain": [
       "Make-Model\n",
       "Beech 1900          0.80\n",
       "Beech 200           0.55\n",
       "Beech 35            0.35\n",
       "Beech 36            0.45\n",
       "Beech 400           0.45\n",
       "                    ... \n",
       "Piper PA31-350      0.45\n",
       "Piper PA31T         0.90\n",
       "Piper PA32R         0.90\n",
       "Piper PA46          0.35\n",
       "Piper PA46-500TP    0.90\n",
       "Name: Risk Value, Length: 238, dtype: float64"
      ]
     },
     "execution_count": 40,
     "metadata": {},
     "output_type": "execute_result"
    }
   ],
   "source": [
    "# Turn the Risk Value column from objects into floats\n",
    "risk_index_df['Risk Value'] = risk_index_df['Risk Value'].astype(float)\n",
    "risk_index_df['Risk Value']"
   ]
  },
  {
   "cell_type": "code",
   "execution_count": 41,
   "id": "9bb8cda9-f5a8-4d5f-a635-34799669a3a5",
   "metadata": {},
   "outputs": [
    {
     "data": {
      "text/html": [
       "<div>\n",
       "<style scoped>\n",
       "    .dataframe tbody tr th:only-of-type {\n",
       "        vertical-align: middle;\n",
       "    }\n",
       "\n",
       "    .dataframe tbody tr th {\n",
       "        vertical-align: top;\n",
       "    }\n",
       "\n",
       "    .dataframe thead th {\n",
       "        text-align: right;\n",
       "    }\n",
       "</style>\n",
       "<table border=\"1\" class=\"dataframe\">\n",
       "  <thead>\n",
       "    <tr style=\"text-align: right;\">\n",
       "      <th></th>\n",
       "      <th>Average Uninjured Rate</th>\n",
       "      <th>Average Fatality Rate</th>\n",
       "      <th>Average Fatality Rate w/ Substantial Damage</th>\n",
       "      <th>Average Minor Injury Rate</th>\n",
       "      <th>Average Serious Injury Rate</th>\n",
       "      <th>Risk Index</th>\n",
       "      <th>Risk Rank</th>\n",
       "      <th>Risk Value</th>\n",
       "    </tr>\n",
       "    <tr>\n",
       "      <th>Make-Model</th>\n",
       "      <th></th>\n",
       "      <th></th>\n",
       "      <th></th>\n",
       "      <th></th>\n",
       "      <th></th>\n",
       "      <th></th>\n",
       "      <th></th>\n",
       "      <th></th>\n",
       "    </tr>\n",
       "  </thead>\n",
       "  <tbody>\n",
       "    <tr>\n",
       "      <th>Beech 1900</th>\n",
       "      <td>0.500000</td>\n",
       "      <td>0.500000</td>\n",
       "      <td>0.000000</td>\n",
       "      <td>0.000000</td>\n",
       "      <td>0.000000</td>\n",
       "      <td>High Risk, 0.7999999999999999</td>\n",
       "      <td>High Risk</td>\n",
       "      <td>0.80</td>\n",
       "    </tr>\n",
       "    <tr>\n",
       "      <th>Beech 200</th>\n",
       "      <td>0.637363</td>\n",
       "      <td>0.302198</td>\n",
       "      <td>0.080357</td>\n",
       "      <td>0.074176</td>\n",
       "      <td>0.010989</td>\n",
       "      <td>Medium Risk, 0.55</td>\n",
       "      <td>Medium Risk</td>\n",
       "      <td>0.55</td>\n",
       "    </tr>\n",
       "    <tr>\n",
       "      <th>Beech 35</th>\n",
       "      <td>1.000000</td>\n",
       "      <td>0.000000</td>\n",
       "      <td>0.000000</td>\n",
       "      <td>0.000000</td>\n",
       "      <td>0.000000</td>\n",
       "      <td>Low Risk, 0.35</td>\n",
       "      <td>Low Risk</td>\n",
       "      <td>0.35</td>\n",
       "    </tr>\n",
       "    <tr>\n",
       "      <th>Beech 36</th>\n",
       "      <td>0.750000</td>\n",
       "      <td>0.000000</td>\n",
       "      <td>0.000000</td>\n",
       "      <td>0.000000</td>\n",
       "      <td>0.250000</td>\n",
       "      <td>Medium Risk, 0.44999999999999996</td>\n",
       "      <td>Medium Risk</td>\n",
       "      <td>0.45</td>\n",
       "    </tr>\n",
       "    <tr>\n",
       "      <th>Beech 400</th>\n",
       "      <td>0.666667</td>\n",
       "      <td>0.000000</td>\n",
       "      <td>0.000000</td>\n",
       "      <td>0.000000</td>\n",
       "      <td>0.333333</td>\n",
       "      <td>Medium Risk, 0.44999999999999996</td>\n",
       "      <td>Medium Risk</td>\n",
       "      <td>0.45</td>\n",
       "    </tr>\n",
       "    <tr>\n",
       "      <th>...</th>\n",
       "      <td>...</td>\n",
       "      <td>...</td>\n",
       "      <td>...</td>\n",
       "      <td>...</td>\n",
       "      <td>...</td>\n",
       "      <td>...</td>\n",
       "      <td>...</td>\n",
       "      <td>...</td>\n",
       "    </tr>\n",
       "    <tr>\n",
       "      <th>Piper PA31-350</th>\n",
       "      <td>1.000000</td>\n",
       "      <td>0.000000</td>\n",
       "      <td>0.106395</td>\n",
       "      <td>0.000000</td>\n",
       "      <td>0.000000</td>\n",
       "      <td>Medium Risk, 0.44999999999999996</td>\n",
       "      <td>Medium Risk</td>\n",
       "      <td>0.45</td>\n",
       "    </tr>\n",
       "    <tr>\n",
       "      <th>Piper PA31T</th>\n",
       "      <td>0.000000</td>\n",
       "      <td>1.000000</td>\n",
       "      <td>0.106395</td>\n",
       "      <td>0.000000</td>\n",
       "      <td>0.000000</td>\n",
       "      <td>High Risk, 0.9</td>\n",
       "      <td>High Risk</td>\n",
       "      <td>0.90</td>\n",
       "    </tr>\n",
       "    <tr>\n",
       "      <th>Piper PA32R</th>\n",
       "      <td>0.500000</td>\n",
       "      <td>0.250000</td>\n",
       "      <td>0.000000</td>\n",
       "      <td>0.000000</td>\n",
       "      <td>0.250000</td>\n",
       "      <td>High Risk, 0.9</td>\n",
       "      <td>High Risk</td>\n",
       "      <td>0.90</td>\n",
       "    </tr>\n",
       "    <tr>\n",
       "      <th>Piper PA46</th>\n",
       "      <td>1.000000</td>\n",
       "      <td>0.000000</td>\n",
       "      <td>0.000000</td>\n",
       "      <td>0.000000</td>\n",
       "      <td>0.000000</td>\n",
       "      <td>Low Risk, 0.35</td>\n",
       "      <td>Low Risk</td>\n",
       "      <td>0.35</td>\n",
       "    </tr>\n",
       "    <tr>\n",
       "      <th>Piper PA46-500TP</th>\n",
       "      <td>0.000000</td>\n",
       "      <td>1.000000</td>\n",
       "      <td>0.106395</td>\n",
       "      <td>0.000000</td>\n",
       "      <td>0.000000</td>\n",
       "      <td>High Risk, 0.9</td>\n",
       "      <td>High Risk</td>\n",
       "      <td>0.90</td>\n",
       "    </tr>\n",
       "  </tbody>\n",
       "</table>\n",
       "<p>238 rows × 8 columns</p>\n",
       "</div>"
      ],
      "text/plain": [
       "                  Average Uninjured Rate  Average Fatality Rate  \\\n",
       "Make-Model                                                        \n",
       "Beech 1900                      0.500000               0.500000   \n",
       "Beech 200                       0.637363               0.302198   \n",
       "Beech 35                        1.000000               0.000000   \n",
       "Beech 36                        0.750000               0.000000   \n",
       "Beech 400                       0.666667               0.000000   \n",
       "...                                  ...                    ...   \n",
       "Piper PA31-350                  1.000000               0.000000   \n",
       "Piper PA31T                     0.000000               1.000000   \n",
       "Piper PA32R                     0.500000               0.250000   \n",
       "Piper PA46                      1.000000               0.000000   \n",
       "Piper PA46-500TP                0.000000               1.000000   \n",
       "\n",
       "                  Average Fatality Rate w/ Substantial Damage  \\\n",
       "Make-Model                                                      \n",
       "Beech 1900                                           0.000000   \n",
       "Beech 200                                            0.080357   \n",
       "Beech 35                                             0.000000   \n",
       "Beech 36                                             0.000000   \n",
       "Beech 400                                            0.000000   \n",
       "...                                                       ...   \n",
       "Piper PA31-350                                       0.106395   \n",
       "Piper PA31T                                          0.106395   \n",
       "Piper PA32R                                          0.000000   \n",
       "Piper PA46                                           0.000000   \n",
       "Piper PA46-500TP                                     0.106395   \n",
       "\n",
       "                  Average Minor Injury Rate  Average Serious Injury Rate  \\\n",
       "Make-Model                                                                 \n",
       "Beech 1900                         0.000000                     0.000000   \n",
       "Beech 200                          0.074176                     0.010989   \n",
       "Beech 35                           0.000000                     0.000000   \n",
       "Beech 36                           0.000000                     0.250000   \n",
       "Beech 400                          0.000000                     0.333333   \n",
       "...                                     ...                          ...   \n",
       "Piper PA31-350                     0.000000                     0.000000   \n",
       "Piper PA31T                        0.000000                     0.000000   \n",
       "Piper PA32R                        0.000000                     0.250000   \n",
       "Piper PA46                         0.000000                     0.000000   \n",
       "Piper PA46-500TP                   0.000000                     0.000000   \n",
       "\n",
       "                                        Risk Index    Risk Rank  Risk Value  \n",
       "Make-Model                                                                   \n",
       "Beech 1900           High Risk, 0.7999999999999999    High Risk        0.80  \n",
       "Beech 200                        Medium Risk, 0.55  Medium Risk        0.55  \n",
       "Beech 35                            Low Risk, 0.35     Low Risk        0.35  \n",
       "Beech 36          Medium Risk, 0.44999999999999996  Medium Risk        0.45  \n",
       "Beech 400         Medium Risk, 0.44999999999999996  Medium Risk        0.45  \n",
       "...                                            ...          ...         ...  \n",
       "Piper PA31-350    Medium Risk, 0.44999999999999996  Medium Risk        0.45  \n",
       "Piper PA31T                         High Risk, 0.9    High Risk        0.90  \n",
       "Piper PA32R                         High Risk, 0.9    High Risk        0.90  \n",
       "Piper PA46                          Low Risk, 0.35     Low Risk        0.35  \n",
       "Piper PA46-500TP                    High Risk, 0.9    High Risk        0.90  \n",
       "\n",
       "[238 rows x 8 columns]"
      ]
     },
     "execution_count": 41,
     "metadata": {},
     "output_type": "execute_result"
    }
   ],
   "source": [
    "risk_index_df"
   ]
  },
  {
   "cell_type": "code",
   "execution_count": 42,
   "id": "109a34fc-f223-4783-a716-a3c4ae607166",
   "metadata": {},
   "outputs": [
    {
     "name": "stdout",
     "output_type": "stream",
     "text": [
      "<class 'pandas.core.frame.DataFrame'>\n",
      "Index: 238 entries, Beech 1900 to Piper PA46-500TP\n",
      "Data columns (total 8 columns):\n",
      " #   Column                                       Non-Null Count  Dtype  \n",
      "---  ------                                       --------------  -----  \n",
      " 0   Average Uninjured Rate                       238 non-null    float64\n",
      " 1   Average Fatality Rate                        238 non-null    float64\n",
      " 2   Average Fatality Rate w/ Substantial Damage  238 non-null    float64\n",
      " 3   Average Minor Injury Rate                    238 non-null    float64\n",
      " 4   Average Serious Injury Rate                  238 non-null    float64\n",
      " 5   Risk Index                                   238 non-null    object \n",
      " 6   Risk Rank                                    238 non-null    object \n",
      " 7   Risk Value                                   238 non-null    float64\n",
      "dtypes: float64(6), object(2)\n",
      "memory usage: 26.7+ KB\n"
     ]
    }
   ],
   "source": [
    "risk_index_df.info()"
   ]
  },
  {
   "cell_type": "markdown",
   "id": "5f2f7b8d-1928-4e0b-b23e-514081d5d06a",
   "metadata": {},
   "source": [
    "25% of the data is below a 35% risk value, 50% of data is below 45% risk and 75% is below 65% risk value. The average risk value is 50%."
   ]
  },
  {
   "cell_type": "code",
   "execution_count": 43,
   "id": "8b5e70ca-1d27-4166-bb95-42957a1e90e1",
   "metadata": {},
   "outputs": [
    {
     "data": {
      "text/html": [
       "<div>\n",
       "<style scoped>\n",
       "    .dataframe tbody tr th:only-of-type {\n",
       "        vertical-align: middle;\n",
       "    }\n",
       "\n",
       "    .dataframe tbody tr th {\n",
       "        vertical-align: top;\n",
       "    }\n",
       "\n",
       "    .dataframe thead th {\n",
       "        text-align: right;\n",
       "    }\n",
       "</style>\n",
       "<table border=\"1\" class=\"dataframe\">\n",
       "  <thead>\n",
       "    <tr style=\"text-align: right;\">\n",
       "      <th></th>\n",
       "      <th>Average Uninjured Rate</th>\n",
       "      <th>Average Fatality Rate</th>\n",
       "      <th>Average Fatality Rate w/ Substantial Damage</th>\n",
       "      <th>Average Minor Injury Rate</th>\n",
       "      <th>Average Serious Injury Rate</th>\n",
       "      <th>Risk Value</th>\n",
       "    </tr>\n",
       "  </thead>\n",
       "  <tbody>\n",
       "    <tr>\n",
       "      <th>count</th>\n",
       "      <td>238.000000</td>\n",
       "      <td>238.000000</td>\n",
       "      <td>238.000000</td>\n",
       "      <td>238.000000</td>\n",
       "      <td>238.000000</td>\n",
       "      <td>238.000000</td>\n",
       "    </tr>\n",
       "    <tr>\n",
       "      <th>mean</th>\n",
       "      <td>0.594615</td>\n",
       "      <td>0.183655</td>\n",
       "      <td>0.106395</td>\n",
       "      <td>0.166340</td>\n",
       "      <td>0.110836</td>\n",
       "      <td>0.496639</td>\n",
       "    </tr>\n",
       "    <tr>\n",
       "      <th>std</th>\n",
       "      <td>0.293789</td>\n",
       "      <td>0.219902</td>\n",
       "      <td>0.186832</td>\n",
       "      <td>0.241276</td>\n",
       "      <td>0.175800</td>\n",
       "      <td>0.249365</td>\n",
       "    </tr>\n",
       "    <tr>\n",
       "      <th>min</th>\n",
       "      <td>0.000000</td>\n",
       "      <td>0.000000</td>\n",
       "      <td>0.000000</td>\n",
       "      <td>0.000000</td>\n",
       "      <td>0.000000</td>\n",
       "      <td>0.000000</td>\n",
       "    </tr>\n",
       "    <tr>\n",
       "      <th>25%</th>\n",
       "      <td>0.447218</td>\n",
       "      <td>0.000000</td>\n",
       "      <td>0.000000</td>\n",
       "      <td>0.000000</td>\n",
       "      <td>0.000000</td>\n",
       "      <td>0.350000</td>\n",
       "    </tr>\n",
       "    <tr>\n",
       "      <th>50%</th>\n",
       "      <td>0.598961</td>\n",
       "      <td>0.097779</td>\n",
       "      <td>0.000000</td>\n",
       "      <td>0.051230</td>\n",
       "      <td>0.047157</td>\n",
       "      <td>0.450000</td>\n",
       "    </tr>\n",
       "    <tr>\n",
       "      <th>75%</th>\n",
       "      <td>0.810282</td>\n",
       "      <td>0.333333</td>\n",
       "      <td>0.106395</td>\n",
       "      <td>0.244091</td>\n",
       "      <td>0.145177</td>\n",
       "      <td>0.650000</td>\n",
       "    </tr>\n",
       "    <tr>\n",
       "      <th>max</th>\n",
       "      <td>1.000000</td>\n",
       "      <td>1.000000</td>\n",
       "      <td>1.000000</td>\n",
       "      <td>1.000000</td>\n",
       "      <td>1.000000</td>\n",
       "      <td>1.000000</td>\n",
       "    </tr>\n",
       "  </tbody>\n",
       "</table>\n",
       "</div>"
      ],
      "text/plain": [
       "       Average Uninjured Rate  Average Fatality Rate  \\\n",
       "count              238.000000             238.000000   \n",
       "mean                 0.594615               0.183655   \n",
       "std                  0.293789               0.219902   \n",
       "min                  0.000000               0.000000   \n",
       "25%                  0.447218               0.000000   \n",
       "50%                  0.598961               0.097779   \n",
       "75%                  0.810282               0.333333   \n",
       "max                  1.000000               1.000000   \n",
       "\n",
       "       Average Fatality Rate w/ Substantial Damage  Average Minor Injury Rate  \\\n",
       "count                                   238.000000                 238.000000   \n",
       "mean                                      0.106395                   0.166340   \n",
       "std                                       0.186832                   0.241276   \n",
       "min                                       0.000000                   0.000000   \n",
       "25%                                       0.000000                   0.000000   \n",
       "50%                                       0.000000                   0.051230   \n",
       "75%                                       0.106395                   0.244091   \n",
       "max                                       1.000000                   1.000000   \n",
       "\n",
       "       Average Serious Injury Rate  Risk Value  \n",
       "count                   238.000000  238.000000  \n",
       "mean                      0.110836    0.496639  \n",
       "std                       0.175800    0.249365  \n",
       "min                       0.000000    0.000000  \n",
       "25%                       0.000000    0.350000  \n",
       "50%                       0.047157    0.450000  \n",
       "75%                       0.145177    0.650000  \n",
       "max                       1.000000    1.000000  "
      ]
     },
     "execution_count": 43,
     "metadata": {},
     "output_type": "execute_result"
    }
   ],
   "source": [
    "risk_index_df.describe()"
   ]
  },
  {
   "cell_type": "code",
   "execution_count": 44,
   "id": "a4013115-6ca4-4e77-9df9-e64590ae2298",
   "metadata": {},
   "outputs": [],
   "source": [
    "filtered_df['Make-Model'] = filtered_df['Make-Model'].astype(str)"
   ]
  },
  {
   "cell_type": "code",
   "execution_count": 45,
   "id": "a5d590d5-69c4-4b76-8bd6-6fa0b812c61e",
   "metadata": {},
   "outputs": [
    {
     "data": {
      "text/plain": [
       "128         Beech 65-A90\n",
       "721            Beech C90\n",
       "1245           Beech 200\n",
       "727           Beech E18S\n",
       "718           Beech A100\n",
       "              ...       \n",
       "967      Piper PA-24-260\n",
       "954      Piper PA-28-180\n",
       "339      Piper PA-28-151\n",
       "956     Piper PA-46-310P\n",
       "961      Piper PA-28-180\n",
       "Name: Make-Model, Length: 1075, dtype: object"
      ]
     },
     "execution_count": 45,
     "metadata": {},
     "output_type": "execute_result"
    }
   ],
   "source": [
    "filtered_df['Make-Model'] "
   ]
  },
  {
   "cell_type": "markdown",
   "id": "b2c0d42a-c4dd-4248-8c0d-9e4ef26c44c7",
   "metadata": {},
   "source": [
    "## Joining Risk Index and Controlling Variables"
   ]
  },
  {
   "cell_type": "code",
   "execution_count": 46,
   "id": "103363a6-dc2d-41e7-8f76-7948a73612ca",
   "metadata": {},
   "outputs": [],
   "source": [
    "# Make a new dataframe that joins the risk index data frame and the variables we want to compare it to \n",
    "mm_filtered_df = filtered_df[['Make-Model', 'Weather Condition', 'Make', 'Number Of Engines', 'Aircraft Damage','Engine Type','Broad Phase Of Flight']]\n",
    "mm_filtered_df\n",
    "\n",
    "filtered_mm_with_risk = mm_filtered_df.join(\n",
    "    risk_index_df, \n",
    "    on=\"Make-Model\"\n",
    ")"
   ]
  },
  {
   "cell_type": "code",
   "execution_count": 47,
   "id": "d79e364c-c5ea-4335-a11e-efca19572803",
   "metadata": {},
   "outputs": [
    {
     "data": {
      "text/html": [
       "<div>\n",
       "<style scoped>\n",
       "    .dataframe tbody tr th:only-of-type {\n",
       "        vertical-align: middle;\n",
       "    }\n",
       "\n",
       "    .dataframe tbody tr th {\n",
       "        vertical-align: top;\n",
       "    }\n",
       "\n",
       "    .dataframe thead th {\n",
       "        text-align: right;\n",
       "    }\n",
       "</style>\n",
       "<table border=\"1\" class=\"dataframe\">\n",
       "  <thead>\n",
       "    <tr style=\"text-align: right;\">\n",
       "      <th></th>\n",
       "      <th>Make-Model</th>\n",
       "      <th>Weather Condition</th>\n",
       "      <th>Make</th>\n",
       "      <th>Number Of Engines</th>\n",
       "      <th>Aircraft Damage</th>\n",
       "      <th>Engine Type</th>\n",
       "      <th>Broad Phase Of Flight</th>\n",
       "      <th>Average Uninjured Rate</th>\n",
       "      <th>Average Fatality Rate</th>\n",
       "      <th>Average Fatality Rate w/ Substantial Damage</th>\n",
       "      <th>Average Minor Injury Rate</th>\n",
       "      <th>Average Serious Injury Rate</th>\n",
       "      <th>Risk Index</th>\n",
       "      <th>Risk Rank</th>\n",
       "      <th>Risk Value</th>\n",
       "    </tr>\n",
       "  </thead>\n",
       "  <tbody>\n",
       "    <tr>\n",
       "      <th>128</th>\n",
       "      <td>Beech 65-A90</td>\n",
       "      <td>VMC</td>\n",
       "      <td>Beech</td>\n",
       "      <td>2.0</td>\n",
       "      <td>Substantial</td>\n",
       "      <td>Turbo Prop</td>\n",
       "      <td>Landing</td>\n",
       "      <td>0.887764</td>\n",
       "      <td>0.020393</td>\n",
       "      <td>0.030589</td>\n",
       "      <td>0.068882</td>\n",
       "      <td>0.045921</td>\n",
       "      <td>Low Risk, 0.35</td>\n",
       "      <td>Low Risk</td>\n",
       "      <td>0.35</td>\n",
       "    </tr>\n",
       "    <tr>\n",
       "      <th>721</th>\n",
       "      <td>Beech C90</td>\n",
       "      <td>VMC</td>\n",
       "      <td>Beech</td>\n",
       "      <td>2.0</td>\n",
       "      <td>Substantial</td>\n",
       "      <td>Turbo Prop</td>\n",
       "      <td>Unknown</td>\n",
       "      <td>0.666667</td>\n",
       "      <td>0.333333</td>\n",
       "      <td>0.500000</td>\n",
       "      <td>0.000000</td>\n",
       "      <td>0.000000</td>\n",
       "      <td>Medium Risk, 0.55</td>\n",
       "      <td>Medium Risk</td>\n",
       "      <td>0.55</td>\n",
       "    </tr>\n",
       "  </tbody>\n",
       "</table>\n",
       "</div>"
      ],
      "text/plain": [
       "       Make-Model Weather Condition   Make  Number Of Engines Aircraft Damage  \\\n",
       "128  Beech 65-A90               VMC  Beech                2.0     Substantial   \n",
       "721     Beech C90               VMC  Beech                2.0     Substantial   \n",
       "\n",
       "    Engine Type Broad Phase Of Flight  Average Uninjured Rate  \\\n",
       "128  Turbo Prop               Landing                0.887764   \n",
       "721  Turbo Prop               Unknown                0.666667   \n",
       "\n",
       "     Average Fatality Rate  Average Fatality Rate w/ Substantial Damage  \\\n",
       "128               0.020393                                     0.030589   \n",
       "721               0.333333                                     0.500000   \n",
       "\n",
       "     Average Minor Injury Rate  Average Serious Injury Rate  \\\n",
       "128                   0.068882                     0.045921   \n",
       "721                   0.000000                     0.000000   \n",
       "\n",
       "            Risk Index    Risk Rank  Risk Value  \n",
       "128     Low Risk, 0.35     Low Risk        0.35  \n",
       "721  Medium Risk, 0.55  Medium Risk        0.55  "
      ]
     },
     "execution_count": 47,
     "metadata": {},
     "output_type": "execute_result"
    }
   ],
   "source": [
    "filtered_mm_with_risk.head(2)"
   ]
  },
  {
   "cell_type": "markdown",
   "id": "d2aab45f-67b3-4e14-9b87-651a778cb295",
   "metadata": {},
   "source": [
    "## Results of Risk Index"
   ]
  },
  {
   "cell_type": "markdown",
   "id": "c696e59d-ad7c-4fd4-8531-a44325a97ed3",
   "metadata": {},
   "source": [
    "The risk index is strongly correlated with Average Fatality Rate."
   ]
  },
  {
   "cell_type": "code",
   "execution_count": 48,
   "id": "7e12fd66-8661-4666-86bb-316513a0b1a8",
   "metadata": {},
   "outputs": [
    {
     "data": {
      "text/plain": [
       "(0.0008415968664471571, 0.5053432131795104)"
      ]
     },
     "execution_count": 48,
     "metadata": {},
     "output_type": "execute_result"
    },
    {
     "data": {
      "image/png": "[encoded data removed]",
      "text/plain": [
       "<Figure size 864x504 with 2 Axes>"
      ]
     },
     "metadata": {
      "needs_background": "light"
     },
     "output_type": "display_data"
    }
   ],
   "source": [
    "x_vals = list(filtered_mm_with_risk['Risk Value'].unique())\n",
    "\n",
    "# Look at the relationship between risk index and average fatality rate\n",
    "from matplotlib.ticker import FormatStrFormatter\n",
    "\n",
    "fig, ax = plt.subplots(1,2, figsize = (12,7))\n",
    "\n",
    "sns.barplot(x='Risk Rank' , y='Average Fatality Rate', data = filtered_mm_with_risk, \n",
    "            ax = ax[0]).set(title='Average Fatality Rate for Risk Rank')\n",
    "\n",
    "sns.pointplot(x= 'Risk Value', y='Average Fatality Rate', data = filtered_mm_with_risk, \n",
    "             ax = ax[1]).set(title='Average Fatality Rate for Risk Value')\n",
    "ax[1].set_xticklabels(sorted([round(elem, 2) for elem in x_vals]))\n",
    "\n",
    "# ax[1].xaxis.set_major_formatter(FormatStrFormatter('%.2f'))\n",
    "ax[1].set_xlim(auto=True)\n",
    "ax[1].set_ylim(auto=True)\n",
    "\n",
    "#plt.savefig(\"avg_fatality_for_risk.png\")"
   ]
  },
  {
   "cell_type": "markdown",
   "id": "4fb6dc70-39b2-46ea-b590-dc34eb18725b",
   "metadata": {},
   "source": [
    "The Uninjured Rate is strongly correlated to the Risk Index."
   ]
  },
  {
   "cell_type": "code",
   "execution_count": 49,
   "id": "9a6d30f0-c4d1-483e-86c7-a0049b9af6cf",
   "metadata": {},
   "outputs": [
    {
     "data": {
      "text/plain": [
       "[Text(0, 0, '0.0'),\n",
       " Text(1, 0, '0.1'),\n",
       " Text(2, 0, '0.2'),\n",
       " Text(3, 0, '0.35'),\n",
       " Text(4, 0, '0.45'),\n",
       " Text(5, 0, '0.55'),\n",
       " Text(6, 0, '0.65'),\n",
       " Text(7, 0, '0.8'),\n",
       " Text(8, 0, '0.9'),\n",
       " Text(9, 0, '1.0')]"
      ]
     },
     "execution_count": 49,
     "metadata": {},
     "output_type": "execute_result"
    },
    {
     "data": {
      "image/png": "[encoded data removed]",
      "text/plain": [
       "<Figure size 720x504 with 2 Axes>"
      ]
     },
     "metadata": {
      "needs_background": "light"
     },
     "output_type": "display_data"
    }
   ],
   "source": [
    "fig, ax = plt.subplots(1,2, figsize = (10,7))\n",
    "\n",
    "sns.barplot(x='Risk Rank' , y='Average Uninjured Rate', data = filtered_mm_with_risk, \n",
    "            ax = ax[0]).set(title='Average Uninjured Rate for Risk Rank')\n",
    "\n",
    "sns.pointplot(x= 'Risk Value', y='Average Uninjured Rate', data = filtered_mm_with_risk, \n",
    "             ax = ax[1]).set(title='Average Uninjured Rate for Risk Value')\n",
    "\n",
    "ax[1].set_xticklabels(sorted([round(elem, 2) for elem in x_vals]))\n",
    "\n",
    "#plt.savefig(\"avg_uninjured_for_risk.png\")"
   ]
  },
  {
   "cell_type": "markdown",
   "id": "0244f0fb-e78d-411b-a723-a10ddeff906f",
   "metadata": {},
   "source": [
    "Weather Conditions do not have a strong affect on the performance of Low Risk aircrafts, unlike the Medium and High Risk aircrafts."
   ]
  },
  {
   "cell_type": "code",
   "execution_count": 50,
   "id": "29dd8ee2-5f0f-4e6d-9ea2-bd9a15b80a91",
   "metadata": {},
   "outputs": [
    {
     "data": {
      "text/plain": [
       "[Text(0.5, 1.0, 'Average Fatality Rate of Make-Model Risk Rank')]"
      ]
     },
     "execution_count": 50,
     "metadata": {},
     "output_type": "execute_result"
    },
    {
     "data": {
      "image/png": "[encoded data removed]",
      "text/plain": [
       "<Figure size 720x504 with 1 Axes>"
      ]
     },
     "metadata": {
      "needs_background": "light"
     },
     "output_type": "display_data"
    }
   ],
   "source": [
    "fig, ax = plt.subplots(figsize = (10,7))\n",
    "\n",
    "sns.barplot(x='Risk Rank' , y='Average Fatality Rate', data = filtered_mm_with_risk, hue= 'Weather Condition').set(title='Average Fatality Rate of Make-Model Risk Rank')\n",
    "\n",
    "#plt.savefig(\"avg_fatality_risk_make_model.png\")"
   ]
  },
  {
   "cell_type": "code",
   "execution_count": 51,
   "id": "33f6bdef-191c-4b3a-8bf1-18b55934b129",
   "metadata": {},
   "outputs": [
    {
     "data": {
      "text/plain": [
       "[Text(0.5, 1.0, 'Risk Value By Manufacturer')]"
      ]
     },
     "execution_count": 51,
     "metadata": {},
     "output_type": "execute_result"
    },
    {
     "data": {
      "image/png": "[encoded data removed]",
      "text/plain": [
       "<Figure size 720x504 with 1 Axes>"
      ]
     },
     "metadata": {
      "needs_background": "light"
     },
     "output_type": "display_data"
    }
   ],
   "source": [
    "filtered_mm_with_risk['Average Risk Value Per Make'] = filtered_mm_with_risk['Risk Value']\n",
    "fig, ax = plt.subplots(figsize = (10,7))\n",
    "\n",
    "sns.barplot(x='Make' , y='Risk Value', data = filtered_mm_with_risk).set(title='Risk Value By Manufacturer')\n",
    "#plt.savefig('risk_fatality_by_make.png')"
   ]
  },
  {
   "cell_type": "code",
   "execution_count": 52,
   "id": "01b88bc0-3d08-4515-bf10-593076d498b1",
   "metadata": {},
   "outputs": [
    {
     "data": {
      "text/plain": [
       "[Text(0.5, 1.0, 'Average Fatality Rate of Engine Types')]"
      ]
     },
     "execution_count": 52,
     "metadata": {},
     "output_type": "execute_result"
    },
    {
     "data": {
      "image/png": "[encoded data removed]",
      "text/plain": [
       "<Figure size 720x504 with 1 Axes>"
      ]
     },
     "metadata": {
      "needs_background": "light"
     },
     "output_type": "display_data"
    }
   ],
   "source": [
    "fig, ax = plt.subplots(figsize = (10,7))\n",
    "\n",
    "sns.barplot(x='Engine Type', y='Average Fatality Rate', data = filtered_mm_with_risk, hue= 'Risk Rank').set(title='Average Fatality Rate of Engine Types')\n",
    "#plt.savefig('risk_fatality_by_engine.png')"
   ]
  },
  {
   "cell_type": "markdown",
   "id": "03ee8fb7-aa4f-4980-b84c-c70323f329a4",
   "metadata": {},
   "source": [
    "## Results Amongst Low Risk Aircrafts"
   ]
  },
  {
   "cell_type": "markdown",
   "id": "28693d01-c8aa-4e78-9c75-0f9e35acdcfe",
   "metadata": {},
   "source": [
    "Create a dataframe with only aircrafts ranked as 'Low Risk'."
   ]
  },
  {
   "cell_type": "code",
   "execution_count": 62,
   "id": "41b34d07-ba5d-430d-aa1b-82d974bfcc22",
   "metadata": {},
   "outputs": [],
   "source": [
    "low_risk_df = filtered_mm_with_risk[filtered_mm_with_risk['Risk Rank'] == 'Low Risk']"
   ]
  },
  {
   "cell_type": "markdown",
   "id": "edec862d-0fd9-4837-b5ca-b3be143139ed",
   "metadata": {},
   "source": [
    "Of the low risk aircrafts, Mooney has the lowest, with all 5 aircrafts having a 0 risk value score. Piper comes second."
   ]
  },
  {
   "cell_type": "code",
   "execution_count": 56,
   "id": "aefe1eb5-4f17-405b-a5a1-384fa83b2184",
   "metadata": {},
   "outputs": [
    {
     "data": {
      "text/plain": [
       "[Text(0.5, 1.0, 'Risk Value By Manufacturer')]"
      ]
     },
     "execution_count": 56,
     "metadata": {},
     "output_type": "execute_result"
    },
    {
     "data": {
      "image/png": "[encoded data removed]",
      "text/plain": [
       "<Figure size 720x504 with 1 Axes>"
      ]
     },
     "metadata": {
      "needs_background": "light"
     },
     "output_type": "display_data"
    }
   ],
   "source": [
    "fig, ax = plt.subplots(figsize = (10,7))\n",
    "\n",
    "sns.barplot(x='Make', y='Risk Value', data = low_risk_df).set(title = 'Risk Value By Manufacturer')\n",
    "#plt.savefig('risk_val_low_risk_mm_engine.png')"
   ]
  },
  {
   "cell_type": "code",
   "execution_count": 63,
   "id": "05b4069d",
   "metadata": {},
   "outputs": [
    {
     "data": {
      "text/plain": [
       "Make-Model   Weather Condition  Make    Number Of Engines  Aircraft Damage  Engine Type    Broad Phase Of Flight  Average Uninjured Rate  Average Fatality Rate  Average Fatality Rate w/ Substantial Damage  Average Minor Injury Rate  Average Serious Injury Rate  Risk Index     Risk Rank  Risk Value  Average Risk Value Per Make\n",
       "Mooney M20F  VMC                Mooney  1.0                Substantial      Reciprocating  Unknown                0.7                     0.2                    0.0                                          0.15                       0.0                          Low Risk, 0.0  Low Risk   0.0         0.0                            1\n",
       "                                                                                           Takeoff                0.7                     0.2                    0.0                                          0.15                       0.0                          Low Risk, 0.0  Low Risk   0.0         0.0                            1\n",
       "                                                                                           Landing                0.7                     0.2                    0.0                                          0.15                       0.0                          Low Risk, 0.0  Low Risk   0.0         0.0                            1\n",
       "                                                                                           Climb                  0.7                     0.2                    0.0                                          0.15                       0.0                          Low Risk, 0.0  Low Risk   0.0         0.0                            1\n",
       "                                                           Destroyed        Reciprocating  Takeoff                0.7                     0.2                    0.0                                          0.15                       0.0                          Low Risk, 0.0  Low Risk   0.0         0.0                            1\n",
       "dtype: int64"
      ]
     },
     "execution_count": 63,
     "metadata": {},
     "output_type": "execute_result"
    }
   ],
   "source": [
    "low_risk_df[low_risk_df['Make'] == 'Mooney'].value_counts()"
   ]
  },
  {
   "cell_type": "code",
   "execution_count": 70,
   "id": "26f5877d",
   "metadata": {},
   "outputs": [],
   "source": [
    "low_risk_df.drop(['index'], axis=1, inplace=True)"
   ]
  },
  {
   "cell_type": "code",
   "execution_count": 85,
   "id": "52449062",
   "metadata": {},
   "outputs": [
    {
     "data": {
      "text/html": [
       "<div>\n",
       "<style scoped>\n",
       "    .dataframe tbody tr th:only-of-type {\n",
       "        vertical-align: middle;\n",
       "    }\n",
       "\n",
       "    .dataframe tbody tr th {\n",
       "        vertical-align: top;\n",
       "    }\n",
       "\n",
       "    .dataframe thead th {\n",
       "        text-align: right;\n",
       "    }\n",
       "</style>\n",
       "<table border=\"1\" class=\"dataframe\">\n",
       "  <thead>\n",
       "    <tr style=\"text-align: right;\">\n",
       "      <th></th>\n",
       "      <th>Make-Model</th>\n",
       "      <th>Weather Condition</th>\n",
       "      <th>Make</th>\n",
       "      <th>Number Of Engines</th>\n",
       "      <th>Aircraft Damage</th>\n",
       "      <th>Engine Type</th>\n",
       "      <th>Broad Phase Of Flight</th>\n",
       "      <th>Average Uninjured Rate</th>\n",
       "      <th>Average Fatality Rate</th>\n",
       "      <th>Average Fatality Rate w/ Substantial Damage</th>\n",
       "      <th>Average Minor Injury Rate</th>\n",
       "      <th>Average Serious Injury Rate</th>\n",
       "      <th>Risk Index</th>\n",
       "      <th>Risk Rank</th>\n",
       "      <th>Risk Value</th>\n",
       "      <th>Average Risk Value Per Make</th>\n",
       "    </tr>\n",
       "  </thead>\n",
       "  <tbody>\n",
       "    <tr>\n",
       "      <th>138</th>\n",
       "      <td>Cessna 172A</td>\n",
       "      <td>VMC</td>\n",
       "      <td>Cessna</td>\n",
       "      <td>1.0</td>\n",
       "      <td>Substantial</td>\n",
       "      <td>Reciprocating</td>\n",
       "      <td>Landing</td>\n",
       "      <td>1.0</td>\n",
       "      <td>0.0</td>\n",
       "      <td>0.0</td>\n",
       "      <td>0.0</td>\n",
       "      <td>0.0</td>\n",
       "      <td>Low Risk, 0.35</td>\n",
       "      <td>Low Risk</td>\n",
       "      <td>0.35</td>\n",
       "      <td>0.35</td>\n",
       "    </tr>\n",
       "    <tr>\n",
       "      <th>142</th>\n",
       "      <td>Cessna 172A</td>\n",
       "      <td>VMC</td>\n",
       "      <td>Cessna</td>\n",
       "      <td>1.0</td>\n",
       "      <td>Substantial</td>\n",
       "      <td>Reciprocating</td>\n",
       "      <td>Takeoff</td>\n",
       "      <td>1.0</td>\n",
       "      <td>0.0</td>\n",
       "      <td>0.0</td>\n",
       "      <td>0.0</td>\n",
       "      <td>0.0</td>\n",
       "      <td>Low Risk, 0.35</td>\n",
       "      <td>Low Risk</td>\n",
       "      <td>0.35</td>\n",
       "      <td>0.35</td>\n",
       "    </tr>\n",
       "  </tbody>\n",
       "</table>\n",
       "</div>"
      ],
      "text/plain": [
       "      Make-Model Weather Condition    Make  Number Of Engines Aircraft Damage  \\\n",
       "138  Cessna 172A               VMC  Cessna                1.0     Substantial   \n",
       "142  Cessna 172A               VMC  Cessna                1.0     Substantial   \n",
       "\n",
       "       Engine Type Broad Phase Of Flight  Average Uninjured Rate  \\\n",
       "138  Reciprocating               Landing                     1.0   \n",
       "142  Reciprocating               Takeoff                     1.0   \n",
       "\n",
       "     Average Fatality Rate  Average Fatality Rate w/ Substantial Damage  \\\n",
       "138                    0.0                                          0.0   \n",
       "142                    0.0                                          0.0   \n",
       "\n",
       "     Average Minor Injury Rate  Average Serious Injury Rate      Risk Index  \\\n",
       "138                        0.0                          0.0  Low Risk, 0.35   \n",
       "142                        0.0                          0.0  Low Risk, 0.35   \n",
       "\n",
       "    Risk Rank  Risk Value  Average Risk Value Per Make  \n",
       "138  Low Risk        0.35                         0.35  \n",
       "142  Low Risk        0.35                         0.35  "
      ]
     },
     "execution_count": 85,
     "metadata": {},
     "output_type": "execute_result"
    }
   ],
   "source": [
    "low_risk_df[low_risk_df['Make-Model'] == 'Cessna 172A']"
   ]
  },
  {
   "cell_type": "code",
   "execution_count": 72,
   "id": "1bf66b38",
   "metadata": {},
   "outputs": [],
   "source": [
    "df_heatmap = low_risk_df.pivot_table(index='Engine Type', \n",
    "                                     columns='Make-Model', \n",
    "                                     values='Risk Value', \n",
    "                                     aggfunc='mean')  "
   ]
  },
  {
   "cell_type": "markdown",
   "id": "e936face",
   "metadata": {},
   "source": [
    "This heatmap shows us clearly that the green sections correspond with the lowest risk aircraft make-models. We will make our recommendations from these selections. "
   ]
  },
  {
   "cell_type": "code",
   "execution_count": 81,
   "id": "10f37980",
   "metadata": {},
   "outputs": [
    {
     "data": {
      "image/png": "[encoded data removed]",
      "text/plain": [
       "<Figure size 1152x720 with 2 Axes>"
      ]
     },
     "metadata": {
      "needs_background": "light"
     },
     "output_type": "display_data"
    },
    {
     "data": {
      "text/plain": [
       "<Figure size 432x288 with 0 Axes>"
      ]
     },
     "metadata": {},
     "output_type": "display_data"
    }
   ],
   "source": [
    "plt.figure(figsize=(16, 10))\n",
    "sns.heatmap(df_heatmap, cmap=\"RdYlGn_r\", annot=False, linewidths=.5,linecolor='black', fmt=\".2f\")\n",
    "\n",
    "plt.title(\"Risk Index Heatmap\", fontsize=18)\n",
    "plt.xlabel(\"Make-Model\", fontsize=14)\n",
    "plt.ylabel(\"Engine Type\", fontsize=14)\n",
    "\n",
    "plt.tight_layout()\n",
    "plt.show()\n",
    "plt.savefig('low_risk_heat_map.png')"
   ]
  },
  {
   "cell_type": "markdown",
   "id": "ca35658c-6538-4f9b-b3aa-19a296954cb4",
   "metadata": {},
   "source": [
    "\n",
    "# Top Recommendations for Corporate Travel:\n",
    "\n",
    "After filtering out manufacturer models that are no longer in production, not being sold in the market, or are unsuitable for our purposes, these are our top recommendations:\n",
    "- **Piper PA-32-300**\n",
    "- **Cessna 402C**\n",
    "- **Cessna 182**\n",
    "\n",
    "\n",
    "\n",
    "-------------------------------------------------------------------------------------------------------------------\n",
    "\n",
    "\n",
    "\n",
    "\n",
    "No Longer Manufactured Models OR Not in the Market :\n",
    "- Cessna 170\n",
    "- Cessna 170A\n",
    "- Mooney M20F\n",
    "- Beech 95-A55\n",
    "- Beech 45\n",
    "- Cessna 175\n",
    "- Piper PA23-250\n",
    "- Cessna 172RG \n",
    "\n",
    "\n",
    "\n",
    "Unsuitable:\n",
    "- Piper PA-18-150\n",
    "- Piper PA-18   \n",
    "- Piper PA-25-235\n",
    "- Cessna U206F\n",
    "- Cessna U206E\n",
    "- Cessna U206\n",
    "- Grumman G-164B\n",
    "- Beech A45\n",
    "- Piper PA-28-181  \n",
    "- Piper PA-12\n"
   ]
  },
  {
   "cell_type": "markdown",
   "id": "b319d3e2",
   "metadata": {},
   "source": []
  }
 ],
 "metadata": {
  "kernelspec": {
   "display_name": "Python (learn-env)",
   "language": "python",
   "name": "learn-env"
  },
  "language_info": {
   "codemirror_mode": {
    "name": "ipython",
    "version": 3
   },
   "file_extension": ".py",
   "mimetype": "text/x-python",
   "name": "python",
   "nbconvert_exporter": "python",
   "pygments_lexer": "ipython3",
   "version": "3.8.5"
  }
 },
 "nbformat": 4,
 "nbformat_minor": 5
}
